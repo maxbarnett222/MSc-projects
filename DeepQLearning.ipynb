{
  "cells": [
    {
      "cell_type": "markdown",
      "source": [
        "## This Google colab contains Implimentation of deep-Q learning for training of Cartpole game. During this process, we can see the clear effect of Q-Learning on the outcomes (reward)."
      ],
      "metadata": {
        "id": "2z0yP9eddzvf"
      },
      "id": "2z0yP9eddzvf"
    },
    {
      "cell_type": "code",
      "execution_count": null,
      "id": "f39631e1",
      "metadata": {
        "id": "f39631e1"
      },
      "outputs": [],
      "source": [
        "# Importing required libraries\n",
        "%matplotlib inline\n",
        "import random\n",
        "import gym\n",
        "import numpy as np\n",
        "import matplotlib.pyplot as plt\n",
        "from tensorflow import keras\n",
        "from collections import deque\n",
        "from keras.models import Sequential\n",
        "from keras.layers import Dense\n",
        "from tensorflow.keras.optimizers import Adam"
      ]
    },
    {
      "cell_type": "markdown",
      "id": "14600a20",
      "metadata": {
        "id": "14600a20"
      },
      "source": [
        "## Set parameters"
      ]
    },
    {
      "cell_type": "code",
      "execution_count": null,
      "id": "e6ad10b3",
      "metadata": {
        "id": "e6ad10b3"
      },
      "outputs": [],
      "source": [
        "env = gym.make('CartPole-v1')                                                   # Importing the game"
      ]
    },
    {
      "cell_type": "code",
      "execution_count": null,
      "id": "b2768366",
      "metadata": {
        "colab": {
          "base_uri": "https://localhost:8080/"
        },
        "id": "b2768366",
        "outputId": "b51696b7-05fb-452d-e195-d4bce92869e3"
      },
      "outputs": [
        {
          "output_type": "execute_result",
          "data": {
            "text/plain": [
              "4"
            ]
          },
          "metadata": {},
          "execution_count": 231
        }
      ],
      "source": [
        "state_size = env.observation_space.shape[0]                                     # Number of states\n",
        "state_size"
      ]
    },
    {
      "cell_type": "code",
      "execution_count": null,
      "id": "ef72ee1c",
      "metadata": {
        "colab": {
          "base_uri": "https://localhost:8080/"
        },
        "id": "ef72ee1c",
        "outputId": "40290c22-2c37-484a-9b11-082482ce0784"
      },
      "outputs": [
        {
          "output_type": "execute_result",
          "data": {
            "text/plain": [
              "2"
            ]
          },
          "metadata": {},
          "execution_count": 232
        }
      ],
      "source": [
        "action_size = env.action_space.n                                                # Number of actions            \n",
        "action_size"
      ]
    },
    {
      "cell_type": "code",
      "execution_count": null,
      "id": "81b6e9e3",
      "metadata": {
        "id": "81b6e9e3"
      },
      "outputs": [],
      "source": [
        "batch_size = 64                                                                 # Batch size"
      ]
    },
    {
      "cell_type": "code",
      "execution_count": null,
      "id": "ad75b660",
      "metadata": {
        "id": "ad75b660"
      },
      "outputs": [],
      "source": [
        "n_episodes_train = 200                                                          # Number of episodes for training\n",
        "n_episodes_test = 100                                                           # Number of episodes for testing"
      ]
    },
    {
      "cell_type": "markdown",
      "id": "6b2e12b0",
      "metadata": {
        "id": "6b2e12b0"
      },
      "source": [
        "## Define Agent"
      ]
    },
    {
      "cell_type": "code",
      "execution_count": null,
      "id": "6ec31508",
      "metadata": {
        "id": "6ec31508"
      },
      "outputs": [],
      "source": [
        "class Agent:\n",
        "    def __init__(self, state_size, action_size):\n",
        "        '''Agent class is a neural network model which takes intial inputs for number of states and actions of the environment, with which it is \n",
        "    interacting and while interacting with the environment it decides the action at each step by using exploration/exploitation optimal policy\n",
        "    and it can learn by deep learning as well as by deep-Q learning.\n",
        "    '''\n",
        "\n",
        "        self.state_size = state_size\n",
        "        self.action_size = action_size\n",
        "        \n",
        "        self.memory = deque(maxlen = 2000)                                      # For storing the results at each time step\n",
        "        self.gamma = 0.95                                                       # Discount factor                 \n",
        "        self.epsilon = 1.0                                                      # Initial exploration rate\n",
        "        self.epsilon_decay = 0.985                                              # Decay rate to exploration rate\n",
        "        self.epsilon_min = 0.01                                                 # Minimum value of exploration rate\n",
        "        self.learning_rate = 0.001                                              # Learnng rate\n",
        "        \n",
        "        self.model = self._make_model()                                         # Buildning the model/Agent\n",
        "        \n",
        "        \n",
        "    def _make_model(self):\n",
        "        '''This function makes neural network model\n",
        "        '''\n",
        "        \n",
        "        model = Sequential()\n",
        "        model.add(Dense(24, input_dim = self.state_size, activation = \"relu\"))\n",
        "        model.add(Dense(24, activation = \"relu\"))\n",
        "        model.add(Dense(self.action_size, activation = \"linear\"))\n",
        "        model.compile(loss = \"mse\", optimizer = Adam(learning_rate = self.learning_rate))\n",
        "        \n",
        "        return model\n",
        "    \n",
        "    \n",
        "    \n",
        "    def store(self, current_state, action, reward, next_state, done):\n",
        "        '''This function stores the observations/results at each time step\n",
        "        '''\n",
        "             \n",
        "        self.memory.append((current_state, action, reward, next_state, done))\n",
        "        \n",
        "        \n",
        "        \n",
        "    def take_action(self, state):\n",
        "        '''This function decides action to be taken at each step by using exploration/exploitation optimum policy\n",
        "        '''\n",
        "        \n",
        "        # Exploration \n",
        "        if np.random.rand() <= self.epsilon:\n",
        "            return random.randrange(self.action_size)\n",
        "        \n",
        "        # Exploitation\n",
        "        else:\n",
        "            action_values = self.model.predict(state)\n",
        "        return np.argmax(action_values[0])\n",
        "    \n",
        "    \n",
        "    def DQL(self, batch_size):\n",
        "        '''This function updates the rewards for the future states and actions by using deep-Q learning \n",
        "        '''\n",
        "        \n",
        "        select_batch = random.sample(self.memory, batch_size)                   # Select the batch for updating Q-value\n",
        "        \n",
        "        for current_state, action, reward, next_state, done in select_batch:    # Looping over stored values for each selection\n",
        "            target = reward\n",
        "\n",
        "            if not done:\n",
        "                target = reward + self.gamma * np.amax(self.model.predict(next_state)[0])  # Bellman eqtn. \n",
        "                \n",
        "            target_q = self.model.predict(current_state)\n",
        "            target_q[0][action] = target\n",
        "            \n",
        "            self.model.fit(current_state, target_q, epochs = 1, verbose = 0)    # Training the model with the updated Q-value for the current state\n",
        "           \n",
        "        if self.epsilon > self.epsilon_min:                                     # Epsilon decay step\n",
        "            self.epsilon *= self.epsilon_decay\n",
        "        \n",
        "        return\n",
        "        \n",
        "\n",
        "    def without_DQL(self, batch_size):\n",
        "        '''This function updates the rewards for the future states and actions without using deep-Q learning \n",
        "        '''\n",
        "        \n",
        "        select_batch = random.sample(self.memory, batch_size)                   # Select the batch for updating Q-value\n",
        "        \n",
        "        for current_state, action, reward, next_state, done in select_batch:    # Looping over stored values for each selection\n",
        "            target = reward\n",
        "                \n",
        "            target_q = self.model.predict(current_state)\n",
        "            target_q[0][action] = target\n",
        "            \n",
        "            self.model.fit(current_state, target_q, epochs = 1, verbose = 0)    # Training the model with the reward for the current state\n",
        "\n",
        "           \n",
        "        if self.epsilon > self.epsilon_min:                                     # Epsilon decay step\n",
        "            self.epsilon *= self.epsilon_decay                  "
      ]
    },
    {
      "cell_type": "code",
      "execution_count": null,
      "id": "08a5a95d",
      "metadata": {
        "id": "08a5a95d"
      },
      "outputs": [],
      "source": [
        "agent = Agent(state_size, action_size)"
      ]
    },
    {
      "cell_type": "markdown",
      "id": "05a02e47",
      "metadata": {
        "id": "05a02e47"
      },
      "source": [
        "## Interact with the environment for training without DQL"
      ]
    },
    {
      "cell_type": "code",
      "execution_count": null,
      "id": "63008546",
      "metadata": {
        "colab": {
          "base_uri": "https://localhost:8080/"
        },
        "id": "63008546",
        "outputId": "70c5dc96-2d41-43e7-f2f8-de5f36c974ac"
      },
      "outputs": [
        {
          "output_type": "stream",
          "name": "stdout",
          "text": [
            "Episode: 1/200, reward: 37.0, eps: 1.0\n",
            "Episode: 2/200, reward: 13.0, eps: 1.0\n",
            "Episode: 3/200, reward: 24.0, eps: 1.0\n",
            "Episode: 4/200, reward: 19.0, eps: 0.98\n",
            "Episode: 5/200, reward: 27.0, eps: 0.97\n",
            "Episode: 6/200, reward: 8.0, eps: 0.96\n",
            "Episode: 7/200, reward: 27.0, eps: 0.94\n",
            "Episode: 8/200, reward: 12.0, eps: 0.93\n",
            "Episode: 9/200, reward: 17.0, eps: 0.91\n",
            "Episode: 10/200, reward: 11.0, eps: 0.9\n",
            "Episode: 11/200, reward: 29.0, eps: 0.89\n",
            "Episode: 12/200, reward: 12.0, eps: 0.87\n",
            "Episode: 13/200, reward: 24.0, eps: 0.86\n",
            "Episode: 14/200, reward: 16.0, eps: 0.85\n",
            "Episode: 15/200, reward: 26.0, eps: 0.83\n",
            "Episode: 16/200, reward: 32.0, eps: 0.82\n",
            "Episode: 17/200, reward: 10.0, eps: 0.81\n",
            "Episode: 18/200, reward: 24.0, eps: 0.8\n",
            "Episode: 19/200, reward: 21.0, eps: 0.79\n",
            "Episode: 20/200, reward: 18.0, eps: 0.77\n",
            "Episode: 21/200, reward: 15.0, eps: 0.76\n",
            "Episode: 22/200, reward: 26.0, eps: 0.75\n",
            "Episode: 23/200, reward: 43.0, eps: 0.74\n",
            "Episode: 24/200, reward: 17.0, eps: 0.73\n",
            "Episode: 25/200, reward: 9.0, eps: 0.72\n",
            "Episode: 26/200, reward: 12.0, eps: 0.71\n",
            "Episode: 27/200, reward: 17.0, eps: 0.7\n",
            "Episode: 28/200, reward: 16.0, eps: 0.69\n",
            "Episode: 29/200, reward: 15.0, eps: 0.68\n",
            "Episode: 30/200, reward: 26.0, eps: 0.66\n",
            "Episode: 31/200, reward: 29.0, eps: 0.65\n",
            "Episode: 32/200, reward: 16.0, eps: 0.65\n",
            "Episode: 33/200, reward: 20.0, eps: 0.64\n",
            "Episode: 34/200, reward: 10.0, eps: 0.63\n",
            "Episode: 35/200, reward: 11.0, eps: 0.62\n",
            "Episode: 36/200, reward: 11.0, eps: 0.61\n",
            "Episode: 37/200, reward: 17.0, eps: 0.6\n",
            "Episode: 38/200, reward: 17.0, eps: 0.59\n",
            "Episode: 39/200, reward: 31.0, eps: 0.58\n",
            "Episode: 40/200, reward: 23.0, eps: 0.57\n",
            "Episode: 41/200, reward: 16.0, eps: 0.56\n",
            "Episode: 42/200, reward: 35.0, eps: 0.55\n",
            "Episode: 43/200, reward: 37.0, eps: 0.55\n",
            "Episode: 44/200, reward: 45.0, eps: 0.54\n",
            "Episode: 45/200, reward: 42.0, eps: 0.53\n",
            "Episode: 46/200, reward: 109.0, eps: 0.52\n",
            "Episode: 47/200, reward: 16.0, eps: 0.51\n",
            "Episode: 48/200, reward: 11.0, eps: 0.51\n",
            "Episode: 49/200, reward: 11.0, eps: 0.5\n",
            "Episode: 50/200, reward: 16.0, eps: 0.49\n",
            "Episode: 51/200, reward: 11.0, eps: 0.48\n",
            "Episode: 52/200, reward: 13.0, eps: 0.48\n",
            "Episode: 53/200, reward: 11.0, eps: 0.47\n",
            "Episode: 54/200, reward: 44.0, eps: 0.46\n",
            "Episode: 55/200, reward: 14.0, eps: 0.46\n",
            "Episode: 56/200, reward: 48.0, eps: 0.45\n",
            "Episode: 57/200, reward: 9.0, eps: 0.44\n",
            "Episode: 58/200, reward: 11.0, eps: 0.44\n",
            "Episode: 59/200, reward: 11.0, eps: 0.43\n",
            "Episode: 60/200, reward: 11.0, eps: 0.42\n",
            "Episode: 61/200, reward: 9.0, eps: 0.42\n",
            "Episode: 62/200, reward: 29.0, eps: 0.41\n",
            "Episode: 63/200, reward: 46.0, eps: 0.4\n",
            "Episode: 64/200, reward: 15.0, eps: 0.4\n",
            "Episode: 65/200, reward: 14.0, eps: 0.39\n",
            "Episode: 66/200, reward: 11.0, eps: 0.39\n",
            "Episode: 67/200, reward: 14.0, eps: 0.38\n",
            "Episode: 68/200, reward: 12.0, eps: 0.37\n",
            "Episode: 69/200, reward: 10.0, eps: 0.37\n",
            "Episode: 70/200, reward: 13.0, eps: 0.36\n",
            "Episode: 71/200, reward: 11.0, eps: 0.36\n",
            "Episode: 72/200, reward: 12.0, eps: 0.35\n",
            "Episode: 73/200, reward: 14.0, eps: 0.35\n",
            "Episode: 74/200, reward: 9.0, eps: 0.34\n",
            "Episode: 75/200, reward: 48.0, eps: 0.34\n",
            "Episode: 76/200, reward: 14.0, eps: 0.33\n",
            "Episode: 77/200, reward: 15.0, eps: 0.33\n",
            "Episode: 78/200, reward: 12.0, eps: 0.32\n",
            "Episode: 79/200, reward: 13.0, eps: 0.32\n",
            "Episode: 80/200, reward: 9.0, eps: 0.31\n",
            "Episode: 81/200, reward: 19.0, eps: 0.31\n",
            "Episode: 82/200, reward: 9.0, eps: 0.3\n",
            "Episode: 83/200, reward: 17.0, eps: 0.3\n",
            "Episode: 84/200, reward: 9.0, eps: 0.29\n",
            "Episode: 85/200, reward: 13.0, eps: 0.29\n",
            "Episode: 86/200, reward: 13.0, eps: 0.29\n",
            "Episode: 87/200, reward: 12.0, eps: 0.28\n",
            "Episode: 88/200, reward: 13.0, eps: 0.28\n",
            "Episode: 89/200, reward: 83.0, eps: 0.27\n",
            "Episode: 90/200, reward: 9.0, eps: 0.27\n",
            "Episode: 91/200, reward: 9.0, eps: 0.26\n",
            "Episode: 92/200, reward: 9.0, eps: 0.26\n",
            "Episode: 93/200, reward: 77.0, eps: 0.26\n",
            "Episode: 94/200, reward: 29.0, eps: 0.25\n",
            "Episode: 95/200, reward: 93.0, eps: 0.25\n",
            "Episode: 96/200, reward: 9.0, eps: 0.25\n",
            "Episode: 97/200, reward: 18.0, eps: 0.24\n",
            "Episode: 98/200, reward: 9.0, eps: 0.24\n",
            "Episode: 99/200, reward: 12.0, eps: 0.23\n",
            "Episode: 100/200, reward: 24.0, eps: 0.23\n",
            "Episode: 101/200, reward: 8.0, eps: 0.23\n",
            "Episode: 102/200, reward: 9.0, eps: 0.22\n",
            "Episode: 103/200, reward: 13.0, eps: 0.22\n",
            "Episode: 104/200, reward: 11.0, eps: 0.22\n",
            "Episode: 105/200, reward: 12.0, eps: 0.21\n",
            "Episode: 106/200, reward: 11.0, eps: 0.21\n",
            "Episode: 107/200, reward: 15.0, eps: 0.21\n",
            "Episode: 108/200, reward: 29.0, eps: 0.2\n",
            "Episode: 109/200, reward: 20.0, eps: 0.2\n",
            "Episode: 110/200, reward: 11.0, eps: 0.2\n",
            "Episode: 111/200, reward: 9.0, eps: 0.2\n",
            "Episode: 112/200, reward: 10.0, eps: 0.19\n",
            "Episode: 113/200, reward: 29.0, eps: 0.19\n",
            "Episode: 114/200, reward: 10.0, eps: 0.19\n",
            "Episode: 115/200, reward: 10.0, eps: 0.18\n",
            "Episode: 116/200, reward: 17.0, eps: 0.18\n",
            "Episode: 117/200, reward: 20.0, eps: 0.18\n",
            "Episode: 118/200, reward: 10.0, eps: 0.18\n",
            "Episode: 119/200, reward: 12.0, eps: 0.17\n",
            "Episode: 120/200, reward: 10.0, eps: 0.17\n",
            "Episode: 121/200, reward: 9.0, eps: 0.17\n",
            "Episode: 122/200, reward: 13.0, eps: 0.17\n",
            "Episode: 123/200, reward: 17.0, eps: 0.16\n",
            "Episode: 124/200, reward: 13.0, eps: 0.16\n",
            "Episode: 125/200, reward: 87.0, eps: 0.16\n",
            "Episode: 126/200, reward: 47.0, eps: 0.16\n",
            "Episode: 127/200, reward: 50.0, eps: 0.15\n",
            "Episode: 128/200, reward: 61.0, eps: 0.15\n",
            "Episode: 129/200, reward: 65.0, eps: 0.15\n",
            "Episode: 130/200, reward: 10.0, eps: 0.15\n",
            "Episode: 131/200, reward: 30.0, eps: 0.14\n",
            "Episode: 132/200, reward: 10.0, eps: 0.14\n",
            "Episode: 133/200, reward: 13.0, eps: 0.14\n",
            "Episode: 134/200, reward: 23.0, eps: 0.14\n",
            "Episode: 135/200, reward: 10.0, eps: 0.14\n",
            "Episode: 136/200, reward: 11.0, eps: 0.13\n",
            "Episode: 137/200, reward: 8.0, eps: 0.13\n",
            "Episode: 138/200, reward: 10.0, eps: 0.13\n",
            "Episode: 139/200, reward: 11.0, eps: 0.13\n",
            "Episode: 140/200, reward: 25.0, eps: 0.13\n",
            "Episode: 141/200, reward: 9.0, eps: 0.12\n",
            "Episode: 142/200, reward: 85.0, eps: 0.12\n",
            "Episode: 143/200, reward: 10.0, eps: 0.12\n",
            "Episode: 144/200, reward: 9.0, eps: 0.12\n",
            "Episode: 145/200, reward: 9.0, eps: 0.12\n",
            "Episode: 146/200, reward: 9.0, eps: 0.12\n",
            "Episode: 147/200, reward: 25.0, eps: 0.11\n",
            "Episode: 148/200, reward: 9.0, eps: 0.11\n",
            "Episode: 149/200, reward: 13.0, eps: 0.11\n",
            "Episode: 150/200, reward: 11.0, eps: 0.11\n",
            "Episode: 151/200, reward: 10.0, eps: 0.11\n",
            "Episode: 152/200, reward: 16.0, eps: 0.11\n",
            "Episode: 153/200, reward: 10.0, eps: 0.1\n",
            "Episode: 154/200, reward: 9.0, eps: 0.1\n",
            "Episode: 155/200, reward: 13.0, eps: 0.1\n",
            "Episode: 156/200, reward: 13.0, eps: 0.099\n",
            "Episode: 157/200, reward: 12.0, eps: 0.098\n",
            "Episode: 158/200, reward: 10.0, eps: 0.096\n",
            "Episode: 159/200, reward: 13.0, eps: 0.095\n",
            "Episode: 160/200, reward: 14.0, eps: 0.093\n",
            "Episode: 161/200, reward: 8.0, eps: 0.092\n",
            "Episode: 162/200, reward: 33.0, eps: 0.09\n",
            "Episode: 163/200, reward: 11.0, eps: 0.089\n",
            "Episode: 164/200, reward: 21.0, eps: 0.088\n",
            "Episode: 165/200, reward: 13.0, eps: 0.086\n",
            "Episode: 166/200, reward: 52.0, eps: 0.085\n",
            "Episode: 167/200, reward: 15.0, eps: 0.084\n",
            "Episode: 168/200, reward: 9.0, eps: 0.083\n",
            "Episode: 169/200, reward: 67.0, eps: 0.081\n",
            "Episode: 170/200, reward: 12.0, eps: 0.08\n",
            "Episode: 171/200, reward: 10.0, eps: 0.079\n",
            "Episode: 172/200, reward: 12.0, eps: 0.078\n",
            "Episode: 173/200, reward: 12.0, eps: 0.077\n",
            "Episode: 174/200, reward: 17.0, eps: 0.075\n",
            "Episode: 175/200, reward: 10.0, eps: 0.074\n",
            "Episode: 176/200, reward: 14.0, eps: 0.073\n",
            "Episode: 177/200, reward: 17.0, eps: 0.072\n",
            "Episode: 178/200, reward: 24.0, eps: 0.071\n",
            "Episode: 179/200, reward: 57.0, eps: 0.07\n",
            "Episode: 180/200, reward: 10.0, eps: 0.069\n",
            "Episode: 181/200, reward: 10.0, eps: 0.068\n",
            "Episode: 182/200, reward: 10.0, eps: 0.067\n",
            "Episode: 183/200, reward: 14.0, eps: 0.066\n",
            "Episode: 184/200, reward: 12.0, eps: 0.065\n",
            "Episode: 185/200, reward: 10.0, eps: 0.064\n",
            "Episode: 186/200, reward: 10.0, eps: 0.063\n",
            "Episode: 187/200, reward: 11.0, eps: 0.062\n",
            "Episode: 188/200, reward: 9.0, eps: 0.061\n",
            "Episode: 189/200, reward: 156.0, eps: 0.06\n",
            "Episode: 190/200, reward: 9.0, eps: 0.059\n",
            "Episode: 191/200, reward: 92.0, eps: 0.058\n",
            "Episode: 192/200, reward: 9.0, eps: 0.057\n",
            "Episode: 193/200, reward: 442.0, eps: 0.057\n",
            "Episode: 194/200, reward: 11.0, eps: 0.056\n",
            "Episode: 195/200, reward: 13.0, eps: 0.055\n",
            "Episode: 196/200, reward: 15.0, eps: 0.054\n",
            "Episode: 197/200, reward: 10.0, eps: 0.053\n",
            "Episode: 198/200, reward: 12.0, eps: 0.052\n",
            "Episode: 199/200, reward: 8.0, eps: 0.052\n",
            "Episode: 200/200, reward: 10.0, eps: 0.051\n"
          ]
        }
      ],
      "source": [
        "done = False\n",
        "reward_list1 = []\n",
        "\n",
        "for eps in range(n_episodes_train):\n",
        "\n",
        "    total_reward = 0\n",
        "    current_state = env.reset()                                         \n",
        "    current_state = np.reshape(current_state, [1, state_size])\n",
        "    \n",
        "    for time_step in range(500):\n",
        "        \n",
        "        #env.render() \n",
        "        \n",
        "        action = agent.take_action(current_state)                               # Choosing action for the current state\n",
        "        next_state, reward, done, _ = env.step(action)                          # Getting observations/results for the action\n",
        "        total_reward += reward                                                  # Summing the reward                                   \n",
        "        next_state = np.reshape(next_state, [1, state_size])\n",
        "        agent.store(current_state, action, reward, next_state, done)            # Storing the observations\n",
        "        current_state = next_state                                              # Updating the state\n",
        "        \n",
        "        if done:\n",
        "          \n",
        "            print(\"Episode: {}/{}, reward: {}, eps: {:.2}\".format(eps+1, n_episodes_train, total_reward, agent.epsilon))\n",
        "            break\n",
        "\n",
        "    reward_list1.append(total_reward)\n",
        "    if len(agent.memory) > batch_size:                                          # without DQ Learning \n",
        "        agent.without_DQL(batch_size)"
      ]
    },
    {
      "cell_type": "markdown",
      "source": [
        "# Interact with the environment for training with DQL"
      ],
      "metadata": {
        "id": "HfLawK-5L-HQ"
      },
      "id": "HfLawK-5L-HQ"
    },
    {
      "cell_type": "code",
      "source": [
        "done = False\n",
        "reward_list2 = []\n",
        "\n",
        "for eps in range(n_episodes_train):\n",
        "    total_reward = 0\n",
        "    current_state = env.reset()                                         \n",
        "    current_state = np.reshape(current_state, [1, state_size])\n",
        "    \n",
        "    for time_step in range(500):\n",
        "        \n",
        "        #env.render()\n",
        "        \n",
        "        action = agent.take_action(current_state)                               # Choosing action for the current state\n",
        "        next_state, reward, done, _ = env.step(action)                          # Getting observations/results for the action\n",
        "        total_reward += reward                                                  # Summing the reward\n",
        "                                            \n",
        "        next_state = np.reshape(next_state, [1, state_size])\n",
        "        agent.store(current_state, action, reward, next_state, done)            # Storing the observations\n",
        "        current_state = next_state                                              # Updating the state\n",
        "        \n",
        "        if done:\n",
        "          \n",
        "            print(\"Episode: {}/{}, reward: {}, eps: {:.2}\".format(eps+1, n_episodes_train, total_reward, agent.epsilon))\n",
        "            break\n",
        "    reward_list2.append(total_reward)\n",
        "    if len(agent.memory) > batch_size:                                          # DQ Learning \n",
        "        agent.DQL(batch_size)"
      ],
      "metadata": {
        "colab": {
          "base_uri": "https://localhost:8080/"
        },
        "id": "BKT56c5bKUbi",
        "outputId": "1db159a8-17fa-48bd-ab83-401decad5eec"
      },
      "id": "BKT56c5bKUbi",
      "execution_count": null,
      "outputs": [
        {
          "output_type": "stream",
          "name": "stdout",
          "text": [
            "Episode: 1/200, reward: 26.0, eps: 1.0\n",
            "Episode: 2/200, reward: 16.0, eps: 1.0\n",
            "Episode: 3/200, reward: 11.0, eps: 1.0\n",
            "Episode: 4/200, reward: 28.0, eps: 1.0\n",
            "Episode: 5/200, reward: 21.0, eps: 0.98\n",
            "Episode: 6/200, reward: 14.0, eps: 0.97\n",
            "Episode: 7/200, reward: 29.0, eps: 0.96\n",
            "Episode: 8/200, reward: 16.0, eps: 0.94\n",
            "Episode: 9/200, reward: 19.0, eps: 0.93\n",
            "Episode: 10/200, reward: 14.0, eps: 0.91\n",
            "Episode: 11/200, reward: 12.0, eps: 0.9\n",
            "Episode: 12/200, reward: 24.0, eps: 0.89\n",
            "Episode: 13/200, reward: 23.0, eps: 0.87\n",
            "Episode: 14/200, reward: 10.0, eps: 0.86\n",
            "Episode: 15/200, reward: 17.0, eps: 0.85\n",
            "Episode: 16/200, reward: 19.0, eps: 0.83\n",
            "Episode: 17/200, reward: 13.0, eps: 0.82\n",
            "Episode: 18/200, reward: 8.0, eps: 0.81\n",
            "Episode: 19/200, reward: 11.0, eps: 0.8\n",
            "Episode: 20/200, reward: 14.0, eps: 0.79\n",
            "Episode: 21/200, reward: 20.0, eps: 0.77\n",
            "Episode: 22/200, reward: 17.0, eps: 0.76\n",
            "Episode: 23/200, reward: 12.0, eps: 0.75\n",
            "Episode: 24/200, reward: 14.0, eps: 0.74\n",
            "Episode: 25/200, reward: 11.0, eps: 0.73\n",
            "Episode: 26/200, reward: 14.0, eps: 0.72\n",
            "Episode: 27/200, reward: 14.0, eps: 0.71\n",
            "Episode: 28/200, reward: 12.0, eps: 0.7\n",
            "Episode: 29/200, reward: 19.0, eps: 0.69\n",
            "Episode: 30/200, reward: 10.0, eps: 0.68\n",
            "Episode: 31/200, reward: 12.0, eps: 0.66\n",
            "Episode: 32/200, reward: 13.0, eps: 0.65\n",
            "Episode: 33/200, reward: 54.0, eps: 0.65\n",
            "Episode: 34/200, reward: 14.0, eps: 0.64\n",
            "Episode: 35/200, reward: 10.0, eps: 0.63\n",
            "Episode: 36/200, reward: 11.0, eps: 0.62\n",
            "Episode: 37/200, reward: 17.0, eps: 0.61\n",
            "Episode: 38/200, reward: 11.0, eps: 0.6\n",
            "Episode: 39/200, reward: 35.0, eps: 0.59\n",
            "Episode: 40/200, reward: 19.0, eps: 0.58\n",
            "Episode: 41/200, reward: 27.0, eps: 0.57\n",
            "Episode: 42/200, reward: 9.0, eps: 0.56\n",
            "Episode: 43/200, reward: 13.0, eps: 0.55\n",
            "Episode: 44/200, reward: 12.0, eps: 0.55\n",
            "Episode: 45/200, reward: 19.0, eps: 0.54\n",
            "Episode: 46/200, reward: 18.0, eps: 0.53\n",
            "Episode: 47/200, reward: 28.0, eps: 0.52\n",
            "Episode: 48/200, reward: 65.0, eps: 0.51\n",
            "Episode: 49/200, reward: 24.0, eps: 0.51\n",
            "Episode: 50/200, reward: 126.0, eps: 0.5\n",
            "Episode: 51/200, reward: 133.0, eps: 0.49\n",
            "Episode: 52/200, reward: 76.0, eps: 0.48\n",
            "Episode: 53/200, reward: 31.0, eps: 0.48\n",
            "Episode: 54/200, reward: 25.0, eps: 0.47\n",
            "Episode: 55/200, reward: 112.0, eps: 0.46\n",
            "Episode: 56/200, reward: 34.0, eps: 0.46\n",
            "Episode: 57/200, reward: 26.0, eps: 0.45\n",
            "Episode: 58/200, reward: 160.0, eps: 0.44\n",
            "Episode: 59/200, reward: 55.0, eps: 0.44\n",
            "Episode: 60/200, reward: 33.0, eps: 0.43\n",
            "Episode: 61/200, reward: 31.0, eps: 0.42\n",
            "Episode: 62/200, reward: 19.0, eps: 0.42\n",
            "Episode: 63/200, reward: 12.0, eps: 0.41\n",
            "Episode: 64/200, reward: 35.0, eps: 0.4\n",
            "Episode: 65/200, reward: 19.0, eps: 0.4\n",
            "Episode: 66/200, reward: 34.0, eps: 0.39\n",
            "Episode: 67/200, reward: 52.0, eps: 0.39\n",
            "Episode: 68/200, reward: 35.0, eps: 0.38\n",
            "Episode: 69/200, reward: 46.0, eps: 0.37\n",
            "Episode: 70/200, reward: 57.0, eps: 0.37\n",
            "Episode: 71/200, reward: 50.0, eps: 0.36\n",
            "Episode: 72/200, reward: 42.0, eps: 0.36\n",
            "Episode: 73/200, reward: 70.0, eps: 0.35\n",
            "Episode: 74/200, reward: 29.0, eps: 0.35\n",
            "Episode: 75/200, reward: 31.0, eps: 0.34\n",
            "Episode: 76/200, reward: 56.0, eps: 0.34\n",
            "Episode: 77/200, reward: 29.0, eps: 0.33\n",
            "Episode: 78/200, reward: 96.0, eps: 0.33\n",
            "Episode: 79/200, reward: 48.0, eps: 0.32\n",
            "Episode: 80/200, reward: 66.0, eps: 0.32\n",
            "Episode: 81/200, reward: 35.0, eps: 0.31\n",
            "Episode: 82/200, reward: 43.0, eps: 0.31\n",
            "Episode: 83/200, reward: 40.0, eps: 0.3\n",
            "Episode: 84/200, reward: 25.0, eps: 0.3\n",
            "Episode: 85/200, reward: 55.0, eps: 0.29\n",
            "Episode: 86/200, reward: 62.0, eps: 0.29\n",
            "Episode: 87/200, reward: 16.0, eps: 0.29\n",
            "Episode: 88/200, reward: 28.0, eps: 0.28\n",
            "Episode: 89/200, reward: 19.0, eps: 0.28\n",
            "Episode: 90/200, reward: 27.0, eps: 0.27\n",
            "Episode: 91/200, reward: 23.0, eps: 0.27\n",
            "Episode: 92/200, reward: 39.0, eps: 0.26\n",
            "Episode: 93/200, reward: 34.0, eps: 0.26\n",
            "Episode: 94/200, reward: 17.0, eps: 0.26\n",
            "Episode: 95/200, reward: 51.0, eps: 0.25\n",
            "Episode: 96/200, reward: 65.0, eps: 0.25\n",
            "Episode: 97/200, reward: 30.0, eps: 0.25\n",
            "Episode: 98/200, reward: 39.0, eps: 0.24\n",
            "Episode: 99/200, reward: 53.0, eps: 0.24\n",
            "Episode: 100/200, reward: 18.0, eps: 0.23\n",
            "Episode: 101/200, reward: 30.0, eps: 0.23\n",
            "Episode: 102/200, reward: 37.0, eps: 0.23\n",
            "Episode: 103/200, reward: 29.0, eps: 0.22\n",
            "Episode: 104/200, reward: 50.0, eps: 0.22\n",
            "Episode: 105/200, reward: 51.0, eps: 0.22\n",
            "Episode: 106/200, reward: 48.0, eps: 0.21\n",
            "Episode: 107/200, reward: 149.0, eps: 0.21\n",
            "Episode: 108/200, reward: 54.0, eps: 0.21\n",
            "Episode: 109/200, reward: 36.0, eps: 0.2\n",
            "Episode: 110/200, reward: 44.0, eps: 0.2\n",
            "Episode: 111/200, reward: 114.0, eps: 0.2\n",
            "Episode: 112/200, reward: 119.0, eps: 0.2\n",
            "Episode: 113/200, reward: 127.0, eps: 0.19\n",
            "Episode: 114/200, reward: 52.0, eps: 0.19\n",
            "Episode: 115/200, reward: 109.0, eps: 0.19\n",
            "Episode: 116/200, reward: 56.0, eps: 0.18\n",
            "Episode: 117/200, reward: 58.0, eps: 0.18\n",
            "Episode: 118/200, reward: 47.0, eps: 0.18\n",
            "Episode: 119/200, reward: 96.0, eps: 0.18\n",
            "Episode: 120/200, reward: 47.0, eps: 0.17\n",
            "Episode: 121/200, reward: 170.0, eps: 0.17\n",
            "Episode: 122/200, reward: 194.0, eps: 0.17\n",
            "Episode: 123/200, reward: 151.0, eps: 0.17\n",
            "Episode: 124/200, reward: 183.0, eps: 0.16\n",
            "Episode: 125/200, reward: 139.0, eps: 0.16\n",
            "Episode: 126/200, reward: 70.0, eps: 0.16\n",
            "Episode: 127/200, reward: 52.0, eps: 0.16\n",
            "Episode: 128/200, reward: 43.0, eps: 0.15\n",
            "Episode: 129/200, reward: 50.0, eps: 0.15\n",
            "Episode: 130/200, reward: 235.0, eps: 0.15\n",
            "Episode: 131/200, reward: 82.0, eps: 0.15\n",
            "Episode: 132/200, reward: 187.0, eps: 0.14\n",
            "Episode: 133/200, reward: 71.0, eps: 0.14\n",
            "Episode: 134/200, reward: 57.0, eps: 0.14\n",
            "Episode: 135/200, reward: 32.0, eps: 0.14\n",
            "Episode: 136/200, reward: 66.0, eps: 0.14\n",
            "Episode: 137/200, reward: 38.0, eps: 0.13\n",
            "Episode: 138/200, reward: 67.0, eps: 0.13\n",
            "Episode: 139/200, reward: 62.0, eps: 0.13\n",
            "Episode: 140/200, reward: 103.0, eps: 0.13\n",
            "Episode: 141/200, reward: 57.0, eps: 0.13\n",
            "Episode: 142/200, reward: 273.0, eps: 0.12\n",
            "Episode: 143/200, reward: 90.0, eps: 0.12\n",
            "Episode: 144/200, reward: 82.0, eps: 0.12\n",
            "Episode: 145/200, reward: 85.0, eps: 0.12\n",
            "Episode: 146/200, reward: 284.0, eps: 0.12\n",
            "Episode: 147/200, reward: 35.0, eps: 0.12\n",
            "Episode: 148/200, reward: 145.0, eps: 0.11\n",
            "Episode: 149/200, reward: 131.0, eps: 0.11\n",
            "Episode: 150/200, reward: 190.0, eps: 0.11\n",
            "Episode: 151/200, reward: 225.0, eps: 0.11\n",
            "Episode: 152/200, reward: 259.0, eps: 0.11\n",
            "Episode: 153/200, reward: 44.0, eps: 0.11\n",
            "Episode: 154/200, reward: 329.0, eps: 0.1\n",
            "Episode: 155/200, reward: 40.0, eps: 0.1\n",
            "Episode: 156/200, reward: 237.0, eps: 0.1\n",
            "Episode: 157/200, reward: 140.0, eps: 0.099\n",
            "Episode: 158/200, reward: 174.0, eps: 0.098\n",
            "Episode: 159/200, reward: 103.0, eps: 0.096\n",
            "Episode: 160/200, reward: 226.0, eps: 0.095\n",
            "Episode: 161/200, reward: 143.0, eps: 0.093\n",
            "Episode: 162/200, reward: 106.0, eps: 0.092\n",
            "Episode: 163/200, reward: 236.0, eps: 0.09\n",
            "Episode: 164/200, reward: 500.0, eps: 0.089\n",
            "Episode: 165/200, reward: 256.0, eps: 0.088\n",
            "Episode: 166/200, reward: 119.0, eps: 0.086\n",
            "Episode: 167/200, reward: 184.0, eps: 0.085\n",
            "Episode: 168/200, reward: 233.0, eps: 0.084\n",
            "Episode: 169/200, reward: 122.0, eps: 0.083\n",
            "Episode: 170/200, reward: 306.0, eps: 0.081\n",
            "Episode: 171/200, reward: 208.0, eps: 0.08\n",
            "Episode: 172/200, reward: 379.0, eps: 0.079\n",
            "Episode: 173/200, reward: 108.0, eps: 0.078\n",
            "Episode: 174/200, reward: 318.0, eps: 0.077\n",
            "Episode: 175/200, reward: 280.0, eps: 0.075\n",
            "Episode: 176/200, reward: 329.0, eps: 0.074\n",
            "Episode: 177/200, reward: 281.0, eps: 0.073\n",
            "Episode: 178/200, reward: 299.0, eps: 0.072\n",
            "Episode: 179/200, reward: 405.0, eps: 0.071\n",
            "Episode: 180/200, reward: 380.0, eps: 0.07\n",
            "Episode: 181/200, reward: 174.0, eps: 0.069\n",
            "Episode: 182/200, reward: 340.0, eps: 0.068\n",
            "Episode: 183/200, reward: 207.0, eps: 0.067\n",
            "Episode: 184/200, reward: 305.0, eps: 0.066\n",
            "Episode: 185/200, reward: 382.0, eps: 0.065\n",
            "Episode: 186/200, reward: 117.0, eps: 0.064\n",
            "Episode: 187/200, reward: 188.0, eps: 0.063\n",
            "Episode: 188/200, reward: 202.0, eps: 0.062\n",
            "Episode: 189/200, reward: 198.0, eps: 0.061\n",
            "Episode: 190/200, reward: 157.0, eps: 0.06\n",
            "Episode: 191/200, reward: 151.0, eps: 0.059\n",
            "Episode: 192/200, reward: 164.0, eps: 0.058\n",
            "Episode: 193/200, reward: 23.0, eps: 0.057\n",
            "Episode: 194/200, reward: 34.0, eps: 0.057\n",
            "Episode: 195/200, reward: 124.0, eps: 0.056\n",
            "Episode: 196/200, reward: 129.0, eps: 0.055\n",
            "Episode: 197/200, reward: 128.0, eps: 0.054\n",
            "Episode: 198/200, reward: 133.0, eps: 0.053\n",
            "Episode: 199/200, reward: 176.0, eps: 0.052\n",
            "Episode: 200/200, reward: 139.0, eps: 0.052\n"
          ]
        }
      ]
    },
    {
      "cell_type": "markdown",
      "source": [
        "# Printing mean reward and plotting rewards vs episodes for training without DQL"
      ],
      "metadata": {
        "id": "rTDOFJzLMiEJ"
      },
      "id": "rTDOFJzLMiEJ"
    },
    {
      "cell_type": "code",
      "source": [
        "print(\"Mean reward for {} episodes: \".format(n_episodes_train), np.mean(reward_list1))\n",
        "\n",
        "plt.figure(figsize = (8, 5))\n",
        "plt.plot(range(1, n_episodes_train+1), reward_list1)\n",
        "x = range(1, n_episodes_train+1)\n",
        "y = len(x) * [np.mean(reward_list1)]\n",
        "plt.plot(x, y, color = \"red\")\n",
        "plt.ylim(1, 600)\n",
        "plt.xlabel(\"Number of episodes\")\n",
        "plt.ylabel(\"Reward\")\n",
        "plt.title(\"Reward for training without DQL with initial eps=1.0, eps_decay=0.985\")"
      ],
      "metadata": {
        "colab": {
          "base_uri": "https://localhost:8080/",
          "height": 385
        },
        "id": "PBJGLWG3LW6S",
        "outputId": "d9d5bcf8-4fc1-4463-84a2-ea888fcfc923"
      },
      "id": "PBJGLWG3LW6S",
      "execution_count": null,
      "outputs": [
        {
          "output_type": "stream",
          "name": "stdout",
          "text": [
            "Mean reward for 200 episodes:  22.65\n"
          ]
        },
        {
          "output_type": "execute_result",
          "data": {
            "text/plain": [
              "Text(0.5, 1.0, 'Reward for training without DQL with initial eps=1.0, eps_decay=0.985')"
            ]
          },
          "metadata": {},
          "execution_count": 239
        },
        {
          "output_type": "display_data",
          "data": {
            "text/plain": [
              "<Figure size 576x360 with 1 Axes>"
            ],
            "image/png": "[encoded data removed]"
          },
          "metadata": {
            "needs_background": "light"
          }
        }
      ]
    },
    {
      "cell_type": "markdown",
      "source": [
        "# Printing mean reward and plotting rewards vs episodes for training with DQL"
      ],
      "metadata": {
        "id": "zpDgmOuATJox"
      },
      "id": "zpDgmOuATJox"
    },
    {
      "cell_type": "code",
      "source": [
        "print(\"Mean reward for {} episodes: \".format(n_episodes_train), np.mean(reward_list2))\n",
        "\n",
        "plt.figure(figsize = (8, 5))\n",
        "plt.plot(range(1, n_episodes_train+1), reward_list2)\n",
        "x = range(1, n_episodes_train+1)\n",
        "y = len(x) * [np.mean(reward_list2)]\n",
        "plt.plot(x, y, color = \"red\")\n",
        "plt.ylim(1, 600)\n",
        "plt.xlabel(\"Number of episodes\")\n",
        "plt.ylabel(\"Reward\")\n",
        "plt.title(\"Reward for training with DQL with initial eps=1.0, eps_decay=0.985\")"
      ],
      "metadata": {
        "colab": {
          "base_uri": "https://localhost:8080/",
          "height": 385
        },
        "id": "hlOQttrGTFP6",
        "outputId": "baf18288-3685-4c47-e843-bf281b830521"
      },
      "id": "hlOQttrGTFP6",
      "execution_count": null,
      "outputs": [
        {
          "output_type": "stream",
          "name": "stdout",
          "text": [
            "Mean reward for 200 episodes:  92.515\n"
          ]
        },
        {
          "output_type": "execute_result",
          "data": {
            "text/plain": [
              "Text(0.5, 1.0, 'Reward for training with DQL with initial eps=1.0, eps_decay=0.985')"
            ]
          },
          "metadata": {},
          "execution_count": 220
        },
        {
          "output_type": "display_data",
          "data": {
            "text/plain": [
              "<Figure size 576x360 with 1 Axes>"
            ],
            "image/png": "[encoded data removed]"
          },
          "metadata": {
            "needs_background": "light"
          }
        }
      ]
    },
    {
      "cell_type": "markdown",
      "source": [
        "# Testing"
      ],
      "metadata": {
        "id": "Sul_sRtLpIQu"
      },
      "id": "Sul_sRtLpIQu"
    },
    {
      "cell_type": "code",
      "source": [
        "done = False\n",
        "reward_list_test = []\n",
        "agent.epsilon = 0.0\n",
        "\n",
        "for eps in range(n_episodes_test):\n",
        "    total_reward = 0\n",
        "    current_state = env.reset()                                         \n",
        "    current_state = np.reshape(current_state, [1, state_size])\n",
        "    \n",
        "    for time_step in range(500):\n",
        "        \n",
        "        #env.render()\n",
        "        \n",
        "        action = agent.take_action(current_state)                               # Choosing action for the current state\n",
        "        next_state, reward, done, _ = env.step(action)                          # Getting observations/results for the action\n",
        "        total_reward += reward                                                  # Summing the rewards\n",
        "                                            \n",
        "        next_state = np.reshape(next_state, [1, state_size])\n",
        "        current_state = next_state                                              # Updating the state\n",
        "        \n",
        "        if done:\n",
        "          \n",
        "            print(\"Episode: {}/{}, reward: {}, eps: {:.2}\".format(eps+1, n_episodes_test, total_reward, agent.epsilon))\n",
        "            break\n",
        "    reward_list_test.append(total_reward)\n",
        "    "
      ],
      "metadata": {
        "colab": {
          "base_uri": "https://localhost:8080/"
        },
        "id": "iBtBDlA0oxKB",
        "outputId": "7208670e-aada-4939-9cdd-4509eeeb731c"
      },
      "id": "iBtBDlA0oxKB",
      "execution_count": null,
      "outputs": [
        {
          "output_type": "stream",
          "name": "stdout",
          "text": [
            "Episode: 1/100, reward: 10.0, eps: 0.0\n",
            "Episode: 2/100, reward: 8.0, eps: 0.0\n",
            "Episode: 3/100, reward: 10.0, eps: 0.0\n",
            "Episode: 4/100, reward: 8.0, eps: 0.0\n",
            "Episode: 5/100, reward: 11.0, eps: 0.0\n",
            "Episode: 6/100, reward: 10.0, eps: 0.0\n",
            "Episode: 7/100, reward: 11.0, eps: 0.0\n",
            "Episode: 8/100, reward: 9.0, eps: 0.0\n",
            "Episode: 9/100, reward: 10.0, eps: 0.0\n",
            "Episode: 10/100, reward: 9.0, eps: 0.0\n",
            "Episode: 11/100, reward: 9.0, eps: 0.0\n",
            "Episode: 12/100, reward: 9.0, eps: 0.0\n",
            "Episode: 13/100, reward: 10.0, eps: 0.0\n",
            "Episode: 14/100, reward: 9.0, eps: 0.0\n",
            "Episode: 15/100, reward: 10.0, eps: 0.0\n",
            "Episode: 16/100, reward: 8.0, eps: 0.0\n",
            "Episode: 17/100, reward: 9.0, eps: 0.0\n",
            "Episode: 18/100, reward: 10.0, eps: 0.0\n",
            "Episode: 19/100, reward: 10.0, eps: 0.0\n",
            "Episode: 20/100, reward: 8.0, eps: 0.0\n",
            "Episode: 21/100, reward: 9.0, eps: 0.0\n",
            "Episode: 22/100, reward: 9.0, eps: 0.0\n",
            "Episode: 23/100, reward: 10.0, eps: 0.0\n",
            "Episode: 24/100, reward: 8.0, eps: 0.0\n",
            "Episode: 25/100, reward: 8.0, eps: 0.0\n",
            "Episode: 26/100, reward: 10.0, eps: 0.0\n",
            "Episode: 27/100, reward: 9.0, eps: 0.0\n",
            "Episode: 28/100, reward: 10.0, eps: 0.0\n",
            "Episode: 29/100, reward: 9.0, eps: 0.0\n",
            "Episode: 30/100, reward: 10.0, eps: 0.0\n",
            "Episode: 31/100, reward: 9.0, eps: 0.0\n",
            "Episode: 32/100, reward: 10.0, eps: 0.0\n",
            "Episode: 33/100, reward: 11.0, eps: 0.0\n",
            "Episode: 34/100, reward: 9.0, eps: 0.0\n",
            "Episode: 35/100, reward: 9.0, eps: 0.0\n",
            "Episode: 36/100, reward: 8.0, eps: 0.0\n",
            "Episode: 37/100, reward: 10.0, eps: 0.0\n",
            "Episode: 38/100, reward: 9.0, eps: 0.0\n",
            "Episode: 39/100, reward: 9.0, eps: 0.0\n",
            "Episode: 40/100, reward: 10.0, eps: 0.0\n",
            "Episode: 41/100, reward: 10.0, eps: 0.0\n",
            "Episode: 42/100, reward: 10.0, eps: 0.0\n",
            "Episode: 43/100, reward: 10.0, eps: 0.0\n",
            "Episode: 44/100, reward: 11.0, eps: 0.0\n",
            "Episode: 45/100, reward: 9.0, eps: 0.0\n",
            "Episode: 46/100, reward: 9.0, eps: 0.0\n",
            "Episode: 47/100, reward: 10.0, eps: 0.0\n",
            "Episode: 48/100, reward: 9.0, eps: 0.0\n",
            "Episode: 49/100, reward: 8.0, eps: 0.0\n",
            "Episode: 50/100, reward: 9.0, eps: 0.0\n",
            "Episode: 51/100, reward: 10.0, eps: 0.0\n",
            "Episode: 52/100, reward: 9.0, eps: 0.0\n",
            "Episode: 53/100, reward: 11.0, eps: 0.0\n",
            "Episode: 54/100, reward: 10.0, eps: 0.0\n",
            "Episode: 55/100, reward: 8.0, eps: 0.0\n",
            "Episode: 56/100, reward: 10.0, eps: 0.0\n",
            "Episode: 57/100, reward: 9.0, eps: 0.0\n",
            "Episode: 58/100, reward: 10.0, eps: 0.0\n",
            "Episode: 59/100, reward: 9.0, eps: 0.0\n",
            "Episode: 60/100, reward: 9.0, eps: 0.0\n",
            "Episode: 61/100, reward: 10.0, eps: 0.0\n",
            "Episode: 62/100, reward: 10.0, eps: 0.0\n",
            "Episode: 63/100, reward: 10.0, eps: 0.0\n",
            "Episode: 64/100, reward: 10.0, eps: 0.0\n",
            "Episode: 65/100, reward: 9.0, eps: 0.0\n",
            "Episode: 66/100, reward: 9.0, eps: 0.0\n",
            "Episode: 67/100, reward: 8.0, eps: 0.0\n",
            "Episode: 68/100, reward: 8.0, eps: 0.0\n",
            "Episode: 69/100, reward: 9.0, eps: 0.0\n",
            "Episode: 70/100, reward: 10.0, eps: 0.0\n",
            "Episode: 71/100, reward: 8.0, eps: 0.0\n",
            "Episode: 72/100, reward: 9.0, eps: 0.0\n",
            "Episode: 73/100, reward: 10.0, eps: 0.0\n",
            "Episode: 74/100, reward: 9.0, eps: 0.0\n",
            "Episode: 75/100, reward: 8.0, eps: 0.0\n",
            "Episode: 76/100, reward: 9.0, eps: 0.0\n",
            "Episode: 77/100, reward: 10.0, eps: 0.0\n",
            "Episode: 78/100, reward: 9.0, eps: 0.0\n",
            "Episode: 79/100, reward: 10.0, eps: 0.0\n",
            "Episode: 80/100, reward: 10.0, eps: 0.0\n",
            "Episode: 81/100, reward: 10.0, eps: 0.0\n",
            "Episode: 82/100, reward: 9.0, eps: 0.0\n",
            "Episode: 83/100, reward: 10.0, eps: 0.0\n",
            "Episode: 84/100, reward: 9.0, eps: 0.0\n",
            "Episode: 85/100, reward: 10.0, eps: 0.0\n",
            "Episode: 86/100, reward: 10.0, eps: 0.0\n",
            "Episode: 87/100, reward: 9.0, eps: 0.0\n",
            "Episode: 88/100, reward: 10.0, eps: 0.0\n",
            "Episode: 89/100, reward: 9.0, eps: 0.0\n",
            "Episode: 90/100, reward: 10.0, eps: 0.0\n",
            "Episode: 91/100, reward: 9.0, eps: 0.0\n",
            "Episode: 92/100, reward: 10.0, eps: 0.0\n",
            "Episode: 93/100, reward: 10.0, eps: 0.0\n",
            "Episode: 94/100, reward: 10.0, eps: 0.0\n",
            "Episode: 95/100, reward: 9.0, eps: 0.0\n",
            "Episode: 96/100, reward: 10.0, eps: 0.0\n",
            "Episode: 97/100, reward: 9.0, eps: 0.0\n",
            "Episode: 98/100, reward: 10.0, eps: 0.0\n",
            "Episode: 99/100, reward: 9.0, eps: 0.0\n",
            "Episode: 100/100, reward: 9.0, eps: 0.0\n"
          ]
        }
      ]
    },
    {
      "cell_type": "markdown",
      "source": [
        "# Plotting the performance of the agent training without DQL "
      ],
      "metadata": {
        "id": "jYXMcSUtusCm"
      },
      "id": "jYXMcSUtusCm"
    },
    {
      "cell_type": "code",
      "source": [
        "print(\"Mean reward for {} episodes: \".format(n_episodes_test), np.mean(reward_list_test))\n",
        "\n",
        "plt.figure(figsize = (9, 5))\n",
        "plt.plot(range(1, n_episodes_test+1), reward_list_test)\n",
        "x = range(1, n_episodes_test+1)\n",
        "y = len(x) * [np.mean(reward_list_test)]\n",
        "plt.plot(x, y, color = \"red\")\n",
        "plt.ylim(1, 100)\n",
        "plt.xlabel(\"Number of episodes\")\n",
        "plt.ylabel(\"Reward\")\n",
        "plt.title(\"Testing Reward for the agent without DQ with initial eps=1.0, eps_decay=0.985\")"
      ],
      "metadata": {
        "colab": {
          "base_uri": "https://localhost:8080/",
          "height": 385
        },
        "id": "FeCxRg4JumZw",
        "outputId": "0355279a-bd5a-4aa0-bdd8-3c5f5fcb316d"
      },
      "id": "FeCxRg4JumZw",
      "execution_count": null,
      "outputs": [
        {
          "output_type": "stream",
          "name": "stdout",
          "text": [
            "Mean reward for 100 episodes:  9.4\n"
          ]
        },
        {
          "output_type": "execute_result",
          "data": {
            "text/plain": [
              "Text(0.5, 1.0, 'Testing Reward for the agent without DQ with initial eps=1.0, eps_decay=0.985')"
            ]
          },
          "metadata": {},
          "execution_count": 242
        },
        {
          "output_type": "display_data",
          "data": {
            "text/plain": [
              "<Figure size 648x360 with 1 Axes>"
            ],
            "image/png": "[encoded data removed]"
          },
          "metadata": {
            "needs_background": "light"
          }
        }
      ]
    },
    {
      "cell_type": "markdown",
      "source": [
        "# Plotting the performance of the agent training with DQL"
      ],
      "metadata": {
        "id": "AXVi9q0V0gNu"
      },
      "id": "AXVi9q0V0gNu"
    },
    {
      "cell_type": "code",
      "source": [
        "print(\"Mean reward for {} episodes: \".format(n_episodes_test), np.mean(reward_list_test))\n",
        "\n",
        "plt.figure(figsize = (9, 5))\n",
        "plt.plot(range(1, n_episodes_test+1), reward_list_test)\n",
        "x = range(1, n_episodes_test+1)\n",
        "y = len(x) * [np.mean(reward_list_test)]\n",
        "plt.plot(x, y, color = \"red\")\n",
        "plt.ylim(1, 300)\n",
        "plt.xlabel(\"Number of episodes\")\n",
        "plt.ylabel(\"Reward\")\n",
        "plt.title(\"Testing Reward for the agent with DQ with initial eps=1.0, eps_decay=0.985\")"
      ],
      "metadata": {
        "colab": {
          "base_uri": "https://localhost:8080/",
          "height": 385
        },
        "id": "ilFjEPQQ0fjQ",
        "outputId": "6c742a9f-789d-42b2-ce92-eb10b0f21782"
      },
      "id": "ilFjEPQQ0fjQ",
      "execution_count": null,
      "outputs": [
        {
          "output_type": "stream",
          "name": "stdout",
          "text": [
            "Mean reward for 100 episodes:  165.78\n"
          ]
        },
        {
          "output_type": "execute_result",
          "data": {
            "text/plain": [
              "Text(0.5, 1.0, 'Testing Reward for the agent with DQ with initial eps=1.0, eps_decay=0.985')"
            ]
          },
          "metadata": {},
          "execution_count": 228
        },
        {
          "output_type": "display_data",
          "data": {
            "text/plain": [
              "<Figure size 648x360 with 1 Axes>"
            ],
            "image/png": "[encoded data removed]"
          },
          "metadata": {
            "needs_background": "light"
          }
        }
      ]
    }
  ],
  "metadata": {
    "kernelspec": {
      "display_name": "Python 3 (ipykernel)",
      "language": "python",
      "name": "python3"
    },
    "language_info": {
      "codemirror_mode": {
        "name": "ipython",
        "version": 3
      },
      "file_extension": ".py",
      "mimetype": "text/x-python",
      "name": "python",
      "nbconvert_exporter": "python",
      "pygments_lexer": "ipython3",
      "version": "3.9.7"
    },
    "colab": {
      "name": "DeepQLearning.ipynb",
      "provenance": [],
      "collapsed_sections": []
    },
    "accelerator": "GPU"
  },
  "nbformat": 4,
  "nbformat_minor": 5
}