{
  "cells": [
    {
      "cell_type": "markdown",
      "metadata": {
        "id": "g1JC2ymlUrjw"
      },
      "source": [
        "Applied AI Assignment 2\n",
        "MAX BARNETT & YAZAN QASEM"
      ]
    },
    {
      "cell_type": "code",
      "execution_count": null,
      "metadata": {
        "id": "L-mXKKrVTEjd"
      },
      "outputs": [],
      "source": [
        "# Install essential packages and libraries\n",
        "import matplotlib.pyplot as plt\n",
        "import random\n",
        "import pandas as pd\n",
        "import seaborn as sns\n",
        "import numpy as np\n",
        "from sklearn.preprocessing import StandardScaler\n",
        "from sklearn.model_selection import train_test_split,cross_val_score\n",
        "from sklearn.model_selection import KFold\n",
        "from sklearn.model_selection import cross_val_score\n",
        "from sklearn import metrics\n",
        "from sklearn.model_selection import RandomizedSearchCV\n",
        "from sklearn import datasets\n",
        "from sklearn.metrics import mean_squared_error\n",
        "from sklearn.metrics import r2_score\n",
        "from keras.wrappers.scikit_learn import KerasRegressor\n",
        "from keras.models import Sequential, Model\n",
        "from keras.layers import Dense, Input\n",
        "from tensorflow.keras.layers import Dropout\n",
        "from tensorflow.keras.optimizers import Adam,RMSprop, Adagrad"
      ]
    },
    {
      "cell_type": "code",
      "execution_count": null,
      "metadata": {
        "id": "XnCdTmYXU9wm"
      },
      "outputs": [],
      "source": [
        "# Import the data\n",
        "data_original = pd.read_csv (\"/content/kc_house_data.csv\")\n",
        "data = data_original.copy()\n",
        "corr = data.corr()\n",
        "print(corr['price'].sort_values(ascending = False)) "
      ]
    },
    {
      "cell_type": "code",
      "execution_count": null,
      "metadata": {
        "id": "lIpDSCZ2VYb0"
      },
      "outputs": [],
      "source": [
        "# Extract the year from 'date' and drop irrelevant columns\n",
        "data['year_sold'] = pd.to_datetime(data['date']).dt.date.astype('datetime64[ns]')\n",
        "data['year_sold'] = pd.DatetimeIndex(data['year_sold']).year # Drop everything except the year\n",
        "data = data.drop(columns=[\"id\",\"date\", \"zipcode\"])"
      ]
    },
    {
      "cell_type": "code",
      "execution_count": null,
      "metadata": {
        "id": "q6mrDsLmVoOr",
        "colab": {
          "base_uri": "https://localhost:8080/"
        },
        "outputId": "d189b978-fa46-45ba-bfca-3fe163a7b54d"
      },
      "outputs": [
        {
          "output_type": "stream",
          "name": "stdout",
          "text": [
            "          price  bedrooms  bathrooms  sqft_living  sqft_lot  floors  \\\n",
            "0      221900.0         3       1.00         1180      5650     1.0   \n",
            "1      538000.0         3       2.25         2570      7242     2.0   \n",
            "2      180000.0         2       1.00          770     10000     1.0   \n",
            "3      604000.0         4       3.00         1960      5000     1.0   \n",
            "4      510000.0         3       2.00         1680      8080     1.0   \n",
            "...         ...       ...        ...          ...       ...     ...   \n",
            "21608  360000.0         3       2.50         1530      1131     3.0   \n",
            "21609  400000.0         4       2.50         2310      5813     2.0   \n",
            "21610  402101.0         2       0.75         1020      1350     2.0   \n",
            "21611  400000.0         3       2.50         1600      2388     2.0   \n",
            "21612  325000.0         2       0.75         1020      1076     2.0   \n",
            "\n",
            "       waterfront  view  condition  grade  sqft_above  sqft_basement      lat  \\\n",
            "0               0     0          3      7        1180              0  47.5112   \n",
            "1               0     0          3      7        2170            400  47.7210   \n",
            "2               0     0          3      6         770              0  47.7379   \n",
            "3               0     0          5      7        1050            910  47.5208   \n",
            "4               0     0          3      8        1680              0  47.6168   \n",
            "...           ...   ...        ...    ...         ...            ...      ...   \n",
            "21608           0     0          3      8        1530              0  47.6993   \n",
            "21609           0     0          3      8        2310              0  47.5107   \n",
            "21610           0     0          3      7        1020              0  47.5944   \n",
            "21611           0     0          3      8        1600              0  47.5345   \n",
            "21612           0     0          3      7        1020              0  47.5941   \n",
            "\n",
            "          long  sqft_living15  sqft_lot15  age  \n",
            "0     -122.257           1340        5650   59  \n",
            "1     -122.319           1690        7639   23  \n",
            "2     -122.233           2720        8062   82  \n",
            "3     -122.393           1360        5000   49  \n",
            "4     -122.045           1800        7503   28  \n",
            "...        ...            ...         ...  ...  \n",
            "21608 -122.346           1530        1509    5  \n",
            "21609 -122.362           1830        7200    1  \n",
            "21610 -122.299           1020        2007    5  \n",
            "21611 -122.069           1410        1287   11  \n",
            "21612 -122.299           1020        1357    6  \n",
            "\n",
            "[21613 rows x 17 columns]\n"
          ]
        }
      ],
      "source": [
        "# Create new column, age, represents amount of years from the year built to year sold\n",
        "# If renovation has occured, take the age as the number of years since renovation \n",
        "conditions = [data['yr_renovated'] == 0, data['yr_renovated'] != 0]\n",
        "choices_age = [data['year_sold'] - data['yr_built'], data['year_sold'] - data['yr_renovated']]\n",
        "data['age'] = np.select(conditions, choices_age)\n",
        "data = data.drop(columns=[\"year_sold\", \"yr_built\", \"yr_renovated\"])\n",
        "print(data)"
      ]
    },
    {
      "cell_type": "code",
      "execution_count": null,
      "metadata": {
        "id": "jsEJtwdsxhSO",
        "colab": {
          "base_uri": "https://localhost:8080/",
          "height": 290
        },
        "outputId": "ddb9b767-ef82-43d8-f0db-07fb2d7fe89f"
      },
      "outputs": [
        {
          "output_type": "display_data",
          "data": {
            "text/plain": [
              "<Figure size 432x288 with 1 Axes>"
            ],
            "image/png": "[encoded data removed]"
          },
          "metadata": {
            "needs_background": "light"
          }
        }
      ],
      "source": [
        "# Remove outliers manualy\n",
        "# Bedrooms\n",
        "plt.scatter(data[['bedrooms']], data[['price']])\n",
        "plt.xlabel('Bedrooms')\n",
        "plt.ylabel('Price')\n",
        "plt.show()\n",
        "data = data.drop(data[data.bedrooms > 30].index)"
      ]
    },
    {
      "cell_type": "code",
      "execution_count": null,
      "metadata": {
        "id": "TmJcE8hI5exY",
        "colab": {
          "base_uri": "https://localhost:8080/",
          "height": 290
        },
        "outputId": "2050d92a-ffc1-4f9f-dea5-d2b3c1c9d7d4"
      },
      "outputs": [
        {
          "output_type": "display_data",
          "data": {
            "text/plain": [
              "<Figure size 432x288 with 1 Axes>"
            ],
            "image/png": "[encoded data removed]"
          },
          "metadata": {
            "needs_background": "light"
          }
        }
      ],
      "source": [
        "# Bathrooms\n",
        "plt.scatter(data[['bathrooms']], data[['price']])\n",
        "plt.xlabel('Bathrooms')\n",
        "plt.ylabel('Price')\n",
        "plt.show()"
      ]
    },
    {
      "cell_type": "code",
      "execution_count": null,
      "metadata": {
        "id": "2AsmvMz75o65",
        "colab": {
          "base_uri": "https://localhost:8080/",
          "height": 291
        },
        "outputId": "7147feb0-54af-4980-e5b8-3b75b8d5e935"
      },
      "outputs": [
        {
          "output_type": "display_data",
          "data": {
            "text/plain": [
              "<Figure size 432x288 with 1 Axes>"
            ],
            "image/png": "[encoded data removed]"
          },
          "metadata": {
            "needs_background": "light"
          }
        }
      ],
      "source": [
        "# sqft_living  \n",
        "plt.scatter(data[['sqft_living']], data[['price']])\n",
        "plt.xlabel('Sqft_living')\n",
        "plt.ylabel('Price')\n",
        "plt.show()\n",
        "data = data.drop(data[data.sqft_living > 11000].index)"
      ]
    },
    {
      "cell_type": "code",
      "execution_count": null,
      "metadata": {
        "id": "veX-u8wZ6Leb",
        "colab": {
          "base_uri": "https://localhost:8080/",
          "height": 291
        },
        "outputId": "0def2a89-f4e9-4cef-cfbd-9b4c19cb0605"
      },
      "outputs": [
        {
          "output_type": "display_data",
          "data": {
            "text/plain": [
              "<Figure size 432x288 with 1 Axes>"
            ],
            "image/png": "[encoded data removed]"
          },
          "metadata": {
            "needs_background": "light"
          }
        }
      ],
      "source": [
        "# sqft_lot    \n",
        "plt.scatter(data[['sqft_lot']], data[['price']])\n",
        "plt.xlabel('sqft_lot')\n",
        "plt.ylabel('Price')\n",
        "plt.show()\n",
        "data = data.drop(data[data.sqft_lot > 1500000].index)"
      ]
    },
    {
      "cell_type": "code",
      "execution_count": null,
      "metadata": {
        "id": "0Bay5Kru6nVU",
        "colab": {
          "base_uri": "https://localhost:8080/",
          "height": 290
        },
        "outputId": "1d4e135c-0b2b-45d9-8ffe-694fa6bcc277"
      },
      "outputs": [
        {
          "output_type": "display_data",
          "data": {
            "text/plain": [
              "<Figure size 432x288 with 1 Axes>"
            ],
            "image/png": "[encoded data removed]"
          },
          "metadata": {
            "needs_background": "light"
          }
        }
      ],
      "source": [
        "# floors      \n",
        "plt.scatter(data[['floors']], data[['price']])\n",
        "plt.xlabel('floors')\n",
        "plt.ylabel('Price')\n",
        "plt.show()"
      ]
    },
    {
      "cell_type": "code",
      "execution_count": null,
      "metadata": {
        "id": "Sx3XgWiW7BzC",
        "colab": {
          "base_uri": "https://localhost:8080/",
          "height": 290
        },
        "outputId": "a464c122-7c85-4059-8060-9dd458685942"
      },
      "outputs": [
        {
          "output_type": "display_data",
          "data": {
            "text/plain": [
              "<Figure size 432x288 with 1 Axes>"
            ],
            "image/png": "[encoded data removed]"
          },
          "metadata": {
            "needs_background": "light"
          }
        }
      ],
      "source": [
        "# grade        \n",
        "plt.scatter(data[['grade']], data[['price']])\n",
        "plt.xlabel('grade')\n",
        "plt.ylabel('Price')\n",
        "plt.show()"
      ]
    },
    {
      "cell_type": "code",
      "execution_count": null,
      "metadata": {
        "id": "ntLw72mi7Wue",
        "colab": {
          "base_uri": "https://localhost:8080/",
          "height": 291
        },
        "outputId": "e36aa149-3d12-41ab-e250-47420b6a3dc7"
      },
      "outputs": [
        {
          "output_type": "display_data",
          "data": {
            "text/plain": [
              "<Figure size 432x288 with 1 Axes>"
            ],
            "image/png": "[encoded data removed]"
          },
          "metadata": {
            "needs_background": "light"
          }
        }
      ],
      "source": [
        "# sqft_above  \n",
        "plt.scatter(data[['sqft_above']], data[['price']])\n",
        "plt.xlabel('sqft_above')\n",
        "plt.ylabel('Price')\n",
        "plt.show()"
      ]
    },
    {
      "cell_type": "code",
      "execution_count": null,
      "metadata": {
        "id": "WUdn4fu37rW6",
        "colab": {
          "base_uri": "https://localhost:8080/",
          "height": 291
        },
        "outputId": "a93e6761-2626-4eb4-ac1d-42b5d0e8f166"
      },
      "outputs": [
        {
          "output_type": "display_data",
          "data": {
            "text/plain": [
              "<Figure size 432x288 with 1 Axes>"
            ],
            "image/png": "[encoded data removed]"
          },
          "metadata": {
            "needs_background": "light"
          }
        }
      ],
      "source": [
        "# sqft_basement        \n",
        "plt.scatter(data[['sqft_basement']], data[['price']])\n",
        "plt.xlabel('sqft_basement')\n",
        "plt.ylabel('Price')\n",
        "plt.show()\n",
        "data = data.drop(data[data.sqft_basement > 4000].index)"
      ]
    },
    {
      "cell_type": "code",
      "execution_count": null,
      "metadata": {
        "id": "v3THWfAR79Ld",
        "colab": {
          "base_uri": "https://localhost:8080/",
          "height": 291
        },
        "outputId": "61b02163-cf1e-444c-ffc0-3e874115184a"
      },
      "outputs": [
        {
          "output_type": "display_data",
          "data": {
            "text/plain": [
              "<Figure size 432x288 with 1 Axes>"
            ],
            "image/png": "[encoded data removed]"
          },
          "metadata": {
            "needs_background": "light"
          }
        }
      ],
      "source": [
        "# sqft_living15            \n",
        "plt.scatter(data[['sqft_living15']], data[['price']])\n",
        "plt.xlabel('sqft_living15')\n",
        "plt.ylabel('Price')\n",
        "plt.show()"
      ]
    },
    {
      "cell_type": "code",
      "execution_count": null,
      "metadata": {
        "id": "pzExjqhB8fWP",
        "colab": {
          "base_uri": "https://localhost:8080/",
          "height": 291
        },
        "outputId": "caf68d88-8f32-40ad-af36-1064560cbf96"
      },
      "outputs": [
        {
          "output_type": "display_data",
          "data": {
            "text/plain": [
              "<Figure size 432x288 with 1 Axes>"
            ],
            "image/png": "[encoded data removed]"
          },
          "metadata": {
            "needs_background": "light"
          }
        }
      ],
      "source": [
        "# sqft_lot15  \n",
        "plt.scatter(data[['sqft_lot15']], data[['price']])\n",
        "plt.xlabel('sqft_lot15')\n",
        "plt.ylabel('Price')\n",
        "plt.show()\n",
        "data = data.drop(data[data.sqft_lot15 > 60000].index)"
      ]
    },
    {
      "cell_type": "code",
      "execution_count": null,
      "metadata": {
        "id": "bduGbKGc9FZx",
        "colab": {
          "base_uri": "https://localhost:8080/",
          "height": 290
        },
        "outputId": "1e82288f-a071-4a65-fd01-cefb754a5b2e"
      },
      "outputs": [
        {
          "output_type": "display_data",
          "data": {
            "text/plain": [
              "<Figure size 432x288 with 1 Axes>"
            ],
            "image/png": "[encoded data removed]"
          },
          "metadata": {
            "needs_background": "light"
          }
        }
      ],
      "source": [
        "# age\n",
        "plt.scatter(data[['age']], data[['price']])\n",
        "plt.xlabel('age')\n",
        "plt.ylabel('Price')\n",
        "plt.show()"
      ]
    },
    {
      "cell_type": "code",
      "execution_count": null,
      "metadata": {
        "id": "97Ur_fE0V42g"
      },
      "outputs": [],
      "source": [
        "# Split data into training, validation and testing\n",
        "features = data.iloc[:, 1:]\n",
        "labels = data.iloc[:, 0]\n",
        "X_train, X_test, y_train, y_test = train_test_split(features, labels, test_size = 0.2, random_state = 1, shuffle = True)\n",
        "X_train, X_val, y_train, y_val = train_test_split(X_train, y_train, test_size=0.25, random_state = 1, shuffle = True)"
      ]
    },
    {
      "cell_type": "code",
      "execution_count": null,
      "metadata": {
        "id": "nCIuzH9AV_87"
      },
      "outputs": [],
      "source": [
        "# Scale the data\n",
        "scaler = StandardScaler()\n",
        "scaler.fit(X_train)\n",
        "X_train_std = scaler.transform(X_train)\n",
        "X_test_std = scaler.transform(X_test)\n",
        "X_val_std = scaler.transform(X_val)\n",
        "X_train_std = pd.DataFrame(X_train_std, columns = X_train.columns)\n",
        "X_test_std = pd.DataFrame(X_test_std, columns = X_test.columns)\n",
        "X_val_std = pd.DataFrame(X_val_std, columns = X_val.columns)"
      ]
    },
    {
      "cell_type": "code",
      "execution_count": null,
      "metadata": {
        "id": "x9q1-AghPAt-"
      },
      "outputs": [],
      "source": [
        "# Create keras classifier neural network with default parameters\n",
        "def NN(optimizer = 'adam',neurons=16,batch_size=32,epochs=50,activation='relu',loss='mse', learning_rate=0.1):\n",
        "    model = Sequential()\n",
        "    model.add(Dense(neurons, activation=activation)) #Input layer\n",
        "    model.add(Dense(neurons, activation=activation)) #Hidden layer\n",
        "    model.add(Dense(neurons, activation=activation)) #Hidden layer\n",
        "    model.add(Dense(neurons, activation=activation)) #Hidden layer\n",
        "    model.add(Dense(1)) #Output layer\n",
        "    model.compile(optimizer = optimizer, loss=loss)\n",
        "    history = model.fit(X_train_std, y_train, validation_data=(X_val_std, y_val), batch_size=batch_size, epochs=epochs, verbose=0) \n",
        "    return model"
      ]
    },
    {
      "cell_type": "code",
      "execution_count": null,
      "metadata": {
        "id": "4uik2zrmQDi8"
      },
      "outputs": [],
      "source": [
        "# Function for plotting loss function\n",
        "def loss_function_graph(data):\n",
        "  sns.lineplot(data = data, lw = 3)\n",
        "  plt.xlabel('Epochs')\n",
        "  plt.ylabel('Loss')\n",
        "  plt.title('Training Loss Per Epoch')\n",
        "  plt.legend(loc = 'upper right')\n",
        "  plt.show()"
      ]
    },
    {
      "cell_type": "code",
      "execution_count": null,
      "metadata": {
        "id": "BXXHnpxmQmwE"
      },
      "outputs": [],
      "source": [
        "# Function for randomized search\n",
        "def random_search(parameters):\n",
        "  regressor = KerasRegressor(build_fn=NN, verbose=0)\n",
        "  search = RandomizedSearchCV(regressor,n_jobs=-1, param_distributions=parameters, n_iter=10, cv=KFold(5), scoring='neg_mean_squared_error', verbose=0)\n",
        "  test_result = search.fit(X_test_std, y_test, )\n",
        "  print('For Training: \\nBest Score: %s' % str(-test_result.best_score_))\n",
        "  print('Best Hyperparameters: %s' % test_result.best_params_)"
      ]
    },
    {
      "cell_type": "code",
      "execution_count": null,
      "metadata": {
        "id": "OVJZaSl1GNcF",
        "colab": {
          "base_uri": "https://localhost:8080/",
          "height": 1000
        },
        "outputId": "9497fbdd-684f-441e-851f-d654acae582f"
      },
      "outputs": [
        {
          "output_type": "stream",
          "name": "stdout",
          "text": [
            "Epoch 1/50\n",
            "395/395 [==============================] - 1s 2ms/step - loss: 425308487680.0000 - val_loss: 429313097728.0000\n",
            "Epoch 2/50\n",
            "395/395 [==============================] - 1s 1ms/step - loss: 425261334528.0000 - val_loss: 429238779904.0000\n",
            "Epoch 3/50\n",
            "395/395 [==============================] - 1s 1ms/step - loss: 425165783040.0000 - val_loss: 429115834368.0000\n",
            "Epoch 4/50\n",
            "395/395 [==============================] - 1s 2ms/step - loss: 425028747264.0000 - val_loss: 428953174016.0000\n",
            "Epoch 5/50\n",
            "395/395 [==============================] - 1s 1ms/step - loss: 424854355968.0000 - val_loss: 428752699392.0000\n",
            "Epoch 6/50\n",
            "395/395 [==============================] - 1s 1ms/step - loss: 424644018176.0000 - val_loss: 428515721216.0000\n",
            "Epoch 7/50\n",
            "395/395 [==============================] - 1s 1ms/step - loss: 424401600512.0000 - val_loss: 428247711744.0000\n",
            "Epoch 8/50\n",
            "395/395 [==============================] - 1s 1ms/step - loss: 424129757184.0000 - val_loss: 427950637056.0000\n",
            "Epoch 9/50\n",
            "395/395 [==============================] - 1s 1ms/step - loss: 423834189824.0000 - val_loss: 427630395392.0000\n",
            "Epoch 10/50\n",
            "395/395 [==============================] - 1s 1ms/step - loss: 423513391104.0000 - val_loss: 427281907712.0000\n",
            "Epoch 11/50\n",
            "395/395 [==============================] - 1s 1ms/step - loss: 423167754240.0000 - val_loss: 426909696000.0000\n",
            "Epoch 12/50\n",
            "395/395 [==============================] - 1s 1ms/step - loss: 422799441920.0000 - val_loss: 426513825792.0000\n",
            "Epoch 13/50\n",
            "395/395 [==============================] - 1s 1ms/step - loss: 422407634944.0000 - val_loss: 426095083520.0000\n",
            "Epoch 14/50\n",
            "395/395 [==============================] - 1s 1ms/step - loss: 421991088128.0000 - val_loss: 425647472640.0000\n",
            "Epoch 15/50\n",
            "395/395 [==============================] - 1s 2ms/step - loss: 421551472640.0000 - val_loss: 425176924160.0000\n",
            "Epoch 16/50\n",
            "395/395 [==============================] - 1s 3ms/step - loss: 421091573760.0000 - val_loss: 424687992832.0000\n",
            "Epoch 17/50\n",
            "395/395 [==============================] - 1s 2ms/step - loss: 420609294336.0000 - val_loss: 424171896832.0000\n",
            "Epoch 18/50\n",
            "395/395 [==============================] - 1s 1ms/step - loss: 420102897664.0000 - val_loss: 423633092608.0000\n",
            "Epoch 19/50\n",
            "395/395 [==============================] - 1s 1ms/step - loss: 419575955456.0000 - val_loss: 423075348480.0000\n",
            "Epoch 20/50\n",
            "395/395 [==============================] - 1s 1ms/step - loss: 419027222528.0000 - val_loss: 422491160576.0000\n",
            "Epoch 21/50\n",
            "395/395 [==============================] - 1s 1ms/step - loss: 418456895488.0000 - val_loss: 421884493824.0000\n",
            "Epoch 22/50\n",
            "395/395 [==============================] - 1s 2ms/step - loss: 417865433088.0000 - val_loss: 421257510912.0000\n",
            "Epoch 23/50\n",
            "395/395 [==============================] - 1s 2ms/step - loss: 417254178816.0000 - val_loss: 420610113536.0000\n",
            "Epoch 24/50\n",
            "395/395 [==============================] - 1s 1ms/step - loss: 416618872832.0000 - val_loss: 419934568448.0000\n",
            "Epoch 25/50\n",
            "395/395 [==============================] - 1s 2ms/step - loss: 415964659712.0000 - val_loss: 419243065344.0000\n",
            "Epoch 26/50\n",
            "395/395 [==============================] - 1s 2ms/step - loss: 415292030976.0000 - val_loss: 418532130816.0000\n",
            "Epoch 27/50\n",
            "395/395 [==============================] - 1s 1ms/step - loss: 414597873664.0000 - val_loss: 417799110656.0000\n",
            "Epoch 28/50\n",
            "395/395 [==============================] - 1s 2ms/step - loss: 413884940288.0000 - val_loss: 417045643264.0000\n",
            "Epoch 29/50\n",
            "395/395 [==============================] - 1s 1ms/step - loss: 413149396992.0000 - val_loss: 416267141120.0000\n",
            "Epoch 30/50\n",
            "395/395 [==============================] - 1s 1ms/step - loss: 412391866368.0000 - val_loss: 415464947712.0000\n",
            "Epoch 31/50\n",
            "395/395 [==============================] - 1s 1ms/step - loss: 411615952896.0000 - val_loss: 414651908096.0000\n",
            "Epoch 32/50\n",
            "395/395 [==============================] - 1s 2ms/step - loss: 410820149248.0000 - val_loss: 413812326400.0000\n",
            "Epoch 33/50\n",
            "395/395 [==============================] - 1s 2ms/step - loss: 410003341312.0000 - val_loss: 412954198016.0000\n",
            "Epoch 34/50\n",
            "395/395 [==============================] - 1s 2ms/step - loss: 409170018304.0000 - val_loss: 412072542208.0000\n",
            "Epoch 35/50\n",
            "395/395 [==============================] - 1s 2ms/step - loss: 408320507904.0000 - val_loss: 411177811968.0000\n",
            "Epoch 36/50\n",
            "395/395 [==============================] - 1s 1ms/step - loss: 407448387584.0000 - val_loss: 410256965632.0000\n",
            "Epoch 37/50\n",
            "395/395 [==============================] - 1s 2ms/step - loss: 406552117248.0000 - val_loss: 409311117312.0000\n",
            "Epoch 38/50\n",
            "395/395 [==============================] - 1s 2ms/step - loss: 405639790592.0000 - val_loss: 408356388864.0000\n",
            "Epoch 39/50\n",
            "395/395 [==============================] - 1s 3ms/step - loss: 404709441536.0000 - val_loss: 407379378176.0000\n",
            "Epoch 40/50\n",
            "395/395 [==============================] - 1s 2ms/step - loss: 403761266688.0000 - val_loss: 406378577920.0000\n",
            "Epoch 41/50\n",
            "395/395 [==============================] - 1s 3ms/step - loss: 402796478464.0000 - val_loss: 405365751808.0000\n",
            "Epoch 42/50\n",
            "395/395 [==============================] - 2s 4ms/step - loss: 401809506304.0000 - val_loss: 404329529344.0000\n",
            "Epoch 43/50\n",
            "395/395 [==============================] - 2s 6ms/step - loss: 400803364864.0000 - val_loss: 403268435968.0000\n",
            "Epoch 44/50\n",
            "395/395 [==============================] - 2s 5ms/step - loss: 399783526400.0000 - val_loss: 402198167552.0000\n",
            "Epoch 45/50\n",
            "395/395 [==============================] - 1s 3ms/step - loss: 398742126592.0000 - val_loss: 401101717504.0000\n",
            "Epoch 46/50\n",
            "395/395 [==============================] - 1s 2ms/step - loss: 397688111104.0000 - val_loss: 400000188416.0000\n",
            "Epoch 47/50\n",
            "395/395 [==============================] - 1s 2ms/step - loss: 396618596352.0000 - val_loss: 398876475392.0000\n",
            "Epoch 48/50\n",
            "395/395 [==============================] - 1s 3ms/step - loss: 395530600448.0000 - val_loss: 397733429248.0000\n",
            "Epoch 49/50\n",
            "395/395 [==============================] - 1s 3ms/step - loss: 394422222848.0000 - val_loss: 396569411584.0000\n",
            "Epoch 50/50\n",
            "395/395 [==============================] - 1s 3ms/step - loss: 393293627392.0000 - val_loss: 395385733120.0000\n"
          ]
        },
        {
          "output_type": "display_data",
          "data": {
            "text/plain": [
              "<Figure size 432x288 with 1 Axes>"
            ],
            "image/png": "[encoded data removed]"
          },
          "metadata": {
            "needs_background": "light"
          }
        }
      ],
      "source": [
        "# Tuning the number of hidden layers\n",
        "# 0 Hidden Layers\n",
        "mse=[]\n",
        "opt = Adam(learning_rate=0.1)\n",
        "model = Sequential()\n",
        "model.add(Dense(16, activation='relu')) #Input layer\n",
        "model.add(Dense(1)) #Output layer\n",
        "model.compile(optimizer = 'adam', loss='mse')\n",
        "model.fit(X_train_std, y_train, validation_data=(X_val_std, y_val), epochs=50, batch_size=32)\n",
        "lr_train_loss = pd.DataFrame(model.history.history)\n",
        "loss_function_graph(lr_train_loss)\n",
        "y_pred = model.predict(X_test_std)"
      ]
    },
    {
      "cell_type": "code",
      "execution_count": null,
      "metadata": {
        "id": "s6suxCQg9SF8",
        "colab": {
          "base_uri": "https://localhost:8080/",
          "height": 1000
        },
        "outputId": "95e22abb-4f87-446e-e6ae-bf0baf107f23"
      },
      "outputs": [
        {
          "output_type": "stream",
          "name": "stdout",
          "text": [
            "Epoch 1/100\n",
            "790/790 [==============================] - 19s 23ms/step - loss: 424332623872.0000 - val_loss: 425316155392.0000\n",
            "Epoch 2/100\n",
            "790/790 [==============================] - 1s 2ms/step - loss: 412691398656.0000 - val_loss: 402777538560.0000\n",
            "Epoch 3/100\n",
            "790/790 [==============================] - 1s 2ms/step - loss: 377892044800.0000 - val_loss: 353015988224.0000\n",
            "Epoch 4/100\n",
            "790/790 [==============================] - 1s 2ms/step - loss: 320055377920.0000 - val_loss: 285172269056.0000\n",
            "Epoch 5/100\n",
            "790/790 [==============================] - 1s 2ms/step - loss: 251548827648.0000 - val_loss: 213717991424.0000\n",
            "Epoch 6/100\n",
            "790/790 [==============================] - 1s 2ms/step - loss: 185420791808.0000 - val_loss: 152474419200.0000\n",
            "Epoch 7/100\n",
            "790/790 [==============================] - 1s 2ms/step - loss: 135068991488.0000 - val_loss: 112186032128.0000\n",
            "Epoch 8/100\n",
            "790/790 [==============================] - 1s 2ms/step - loss: 104325791744.0000 - val_loss: 90679517184.0000\n",
            "Epoch 9/100\n",
            "790/790 [==============================] - 1s 2ms/step - loss: 88564113408.0000 - val_loss: 80090923008.0000\n",
            "Epoch 10/100\n",
            "790/790 [==============================] - 1s 2ms/step - loss: 80151552000.0000 - val_loss: 73964257280.0000\n",
            "Epoch 11/100\n",
            "790/790 [==============================] - 1s 2ms/step - loss: 75008278528.0000 - val_loss: 69850079232.0000\n",
            "Epoch 12/100\n",
            "790/790 [==============================] - 1s 2ms/step - loss: 71468400640.0000 - val_loss: 66816073728.0000\n",
            "Epoch 13/100\n",
            "790/790 [==============================] - 1s 2ms/step - loss: 68787986432.0000 - val_loss: 64358924288.0000\n",
            "Epoch 14/100\n",
            "790/790 [==============================] - 1s 2ms/step - loss: 66603528192.0000 - val_loss: 62251077632.0000\n",
            "Epoch 15/100\n",
            "790/790 [==============================] - 1s 2ms/step - loss: 64717225984.0000 - val_loss: 60417925120.0000\n",
            "Epoch 16/100\n",
            "790/790 [==============================] - 1s 2ms/step - loss: 63009964032.0000 - val_loss: 58769862656.0000\n",
            "Epoch 17/100\n",
            "790/790 [==============================] - 1s 2ms/step - loss: 61437841408.0000 - val_loss: 57176268800.0000\n",
            "Epoch 18/100\n",
            "790/790 [==============================] - 1s 2ms/step - loss: 59973926912.0000 - val_loss: 55709839360.0000\n",
            "Epoch 19/100\n",
            "790/790 [==============================] - 1s 2ms/step - loss: 58579894272.0000 - val_loss: 54317699072.0000\n",
            "Epoch 20/100\n",
            "790/790 [==============================] - 1s 2ms/step - loss: 57262387200.0000 - val_loss: 52995141632.0000\n",
            "Epoch 21/100\n",
            "790/790 [==============================] - 1s 2ms/step - loss: 55991803904.0000 - val_loss: 51739213824.0000\n",
            "Epoch 22/100\n",
            "790/790 [==============================] - 1s 2ms/step - loss: 54720401408.0000 - val_loss: 50521927680.0000\n",
            "Epoch 23/100\n",
            "790/790 [==============================] - 1s 2ms/step - loss: 53518209024.0000 - val_loss: 49332244480.0000\n",
            "Epoch 24/100\n",
            "790/790 [==============================] - 1s 2ms/step - loss: 52365357056.0000 - val_loss: 48209719296.0000\n",
            "Epoch 25/100\n",
            "790/790 [==============================] - 1s 2ms/step - loss: 51239477248.0000 - val_loss: 47155789824.0000\n",
            "Epoch 26/100\n",
            "790/790 [==============================] - 1s 2ms/step - loss: 50165178368.0000 - val_loss: 46142832640.0000\n",
            "Epoch 27/100\n",
            "790/790 [==============================] - 1s 2ms/step - loss: 49136414720.0000 - val_loss: 45198184448.0000\n",
            "Epoch 28/100\n",
            "790/790 [==============================] - 1s 2ms/step - loss: 48166801408.0000 - val_loss: 44263325696.0000\n",
            "Epoch 29/100\n",
            "790/790 [==============================] - 1s 2ms/step - loss: 47250305024.0000 - val_loss: 43418476544.0000\n",
            "Epoch 30/100\n",
            "790/790 [==============================] - 1s 2ms/step - loss: 46383812608.0000 - val_loss: 42616598528.0000\n",
            "Epoch 31/100\n",
            "790/790 [==============================] - 1s 2ms/step - loss: 45589127168.0000 - val_loss: 41889439744.0000\n",
            "Epoch 32/100\n",
            "790/790 [==============================] - 1s 2ms/step - loss: 44857438208.0000 - val_loss: 41199661056.0000\n",
            "Epoch 33/100\n",
            "790/790 [==============================] - 1s 2ms/step - loss: 44194197504.0000 - val_loss: 40595853312.0000\n",
            "Epoch 34/100\n",
            "790/790 [==============================] - 1s 2ms/step - loss: 43595100160.0000 - val_loss: 40055808000.0000\n",
            "Epoch 35/100\n",
            "790/790 [==============================] - 1s 2ms/step - loss: 43046498304.0000 - val_loss: 39555272704.0000\n",
            "Epoch 36/100\n",
            "790/790 [==============================] - 1s 2ms/step - loss: 42552053760.0000 - val_loss: 39119761408.0000\n",
            "Epoch 37/100\n",
            "790/790 [==============================] - 1s 2ms/step - loss: 42103300096.0000 - val_loss: 38684291072.0000\n",
            "Epoch 38/100\n",
            "790/790 [==============================] - 1s 2ms/step - loss: 41702117376.0000 - val_loss: 38308450304.0000\n",
            "Epoch 39/100\n",
            "790/790 [==============================] - 1s 2ms/step - loss: 41326592000.0000 - val_loss: 37963927552.0000\n",
            "Epoch 40/100\n",
            "790/790 [==============================] - 1s 2ms/step - loss: 40978640896.0000 - val_loss: 37660962816.0000\n",
            "Epoch 41/100\n",
            "790/790 [==============================] - 1s 2ms/step - loss: 40666890240.0000 - val_loss: 37371191296.0000\n",
            "Epoch 42/100\n",
            "790/790 [==============================] - 1s 2ms/step - loss: 40392847360.0000 - val_loss: 37112160256.0000\n",
            "Epoch 43/100\n",
            "790/790 [==============================] - 1s 2ms/step - loss: 40142671872.0000 - val_loss: 36893560832.0000\n",
            "Epoch 44/100\n",
            "790/790 [==============================] - 1s 2ms/step - loss: 39901093888.0000 - val_loss: 36710694912.0000\n",
            "Epoch 45/100\n",
            "790/790 [==============================] - 1s 2ms/step - loss: 39697350656.0000 - val_loss: 36534255616.0000\n",
            "Epoch 46/100\n",
            "790/790 [==============================] - 1s 2ms/step - loss: 39507689472.0000 - val_loss: 36338565120.0000\n",
            "Epoch 47/100\n",
            "790/790 [==============================] - 1s 2ms/step - loss: 39315365888.0000 - val_loss: 36247334912.0000\n",
            "Epoch 48/100\n",
            "790/790 [==============================] - 1s 2ms/step - loss: 39190495232.0000 - val_loss: 36072230912.0000\n",
            "Epoch 49/100\n",
            "790/790 [==============================] - 1s 2ms/step - loss: 39034605568.0000 - val_loss: 35937292288.0000\n",
            "Epoch 50/100\n",
            "790/790 [==============================] - 1s 2ms/step - loss: 38919016448.0000 - val_loss: 35835584512.0000\n",
            "Epoch 51/100\n",
            "790/790 [==============================] - 1s 2ms/step - loss: 38780469248.0000 - val_loss: 35721261056.0000\n",
            "Epoch 52/100\n",
            "790/790 [==============================] - 1s 2ms/step - loss: 38670106624.0000 - val_loss: 35635924992.0000\n",
            "Epoch 53/100\n",
            "790/790 [==============================] - 1s 2ms/step - loss: 38556717056.0000 - val_loss: 35541037056.0000\n",
            "Epoch 54/100\n",
            "790/790 [==============================] - 1s 2ms/step - loss: 38438940672.0000 - val_loss: 35452223488.0000\n",
            "Epoch 55/100\n",
            "790/790 [==============================] - 1s 2ms/step - loss: 38326042624.0000 - val_loss: 35408445440.0000\n",
            "Epoch 56/100\n",
            "790/790 [==============================] - 1s 2ms/step - loss: 38242390016.0000 - val_loss: 35290480640.0000\n",
            "Epoch 57/100\n",
            "790/790 [==============================] - 1s 2ms/step - loss: 38147272704.0000 - val_loss: 35214262272.0000\n",
            "Epoch 58/100\n",
            "790/790 [==============================] - 1s 2ms/step - loss: 38069026816.0000 - val_loss: 35151458304.0000\n",
            "Epoch 59/100\n",
            "790/790 [==============================] - 1s 2ms/step - loss: 37958025216.0000 - val_loss: 35061506048.0000\n",
            "Epoch 60/100\n",
            "790/790 [==============================] - 1s 2ms/step - loss: 37872914432.0000 - val_loss: 35024908288.0000\n",
            "Epoch 61/100\n",
            "790/790 [==============================] - 1s 2ms/step - loss: 37798211584.0000 - val_loss: 34930589696.0000\n",
            "Epoch 62/100\n",
            "790/790 [==============================] - 1s 2ms/step - loss: 37730193408.0000 - val_loss: 34880344064.0000\n",
            "Epoch 63/100\n",
            "790/790 [==============================] - 1s 2ms/step - loss: 37644718080.0000 - val_loss: 34822258688.0000\n",
            "Epoch 64/100\n",
            "790/790 [==============================] - 1s 2ms/step - loss: 37568090112.0000 - val_loss: 34765287424.0000\n",
            "Epoch 65/100\n",
            "790/790 [==============================] - 1s 2ms/step - loss: 37489590272.0000 - val_loss: 34686320640.0000\n",
            "Epoch 66/100\n",
            "790/790 [==============================] - 1s 2ms/step - loss: 37412937728.0000 - val_loss: 34632716288.0000\n",
            "Epoch 67/100\n",
            "790/790 [==============================] - 1s 2ms/step - loss: 37354536960.0000 - val_loss: 34591272960.0000\n",
            "Epoch 68/100\n",
            "790/790 [==============================] - 1s 2ms/step - loss: 37278531584.0000 - val_loss: 34543865856.0000\n",
            "Epoch 69/100\n",
            "790/790 [==============================] - 1s 2ms/step - loss: 37208809472.0000 - val_loss: 34500407296.0000\n",
            "Epoch 70/100\n",
            "790/790 [==============================] - 1s 2ms/step - loss: 37146517504.0000 - val_loss: 34456162304.0000\n",
            "Epoch 71/100\n",
            "790/790 [==============================] - 1s 2ms/step - loss: 37082890240.0000 - val_loss: 34398973952.0000\n",
            "Epoch 72/100\n",
            "790/790 [==============================] - 1s 2ms/step - loss: 37018894336.0000 - val_loss: 34358558720.0000\n",
            "Epoch 73/100\n",
            "790/790 [==============================] - 1s 2ms/step - loss: 36966424576.0000 - val_loss: 34312720384.0000\n",
            "Epoch 74/100\n",
            "790/790 [==============================] - 1s 2ms/step - loss: 36912771072.0000 - val_loss: 34283534336.0000\n",
            "Epoch 75/100\n",
            "790/790 [==============================] - 1s 2ms/step - loss: 36851138560.0000 - val_loss: 34232377344.0000\n",
            "Epoch 76/100\n",
            "790/790 [==============================] - 1s 2ms/step - loss: 36803276800.0000 - val_loss: 34208827392.0000\n",
            "Epoch 77/100\n",
            "790/790 [==============================] - 1s 2ms/step - loss: 36742250496.0000 - val_loss: 34170562560.0000\n",
            "Epoch 78/100\n",
            "790/790 [==============================] - 1s 2ms/step - loss: 36697985024.0000 - val_loss: 34117517312.0000\n",
            "Epoch 79/100\n",
            "790/790 [==============================] - 1s 2ms/step - loss: 36655697920.0000 - val_loss: 34087479296.0000\n",
            "Epoch 80/100\n",
            "790/790 [==============================] - 1s 2ms/step - loss: 36601073664.0000 - val_loss: 34056904704.0000\n",
            "Epoch 81/100\n",
            "790/790 [==============================] - 1s 2ms/step - loss: 36566454272.0000 - val_loss: 34036897792.0000\n",
            "Epoch 82/100\n",
            "790/790 [==============================] - 1s 2ms/step - loss: 36510695424.0000 - val_loss: 33998034944.0000\n",
            "Epoch 83/100\n",
            "790/790 [==============================] - 1s 2ms/step - loss: 36475867136.0000 - val_loss: 33966108672.0000\n",
            "Epoch 84/100\n",
            "790/790 [==============================] - 1s 2ms/step - loss: 36432211968.0000 - val_loss: 33947392000.0000\n",
            "Epoch 85/100\n",
            "790/790 [==============================] - 1s 2ms/step - loss: 36389982208.0000 - val_loss: 33932709888.0000\n",
            "Epoch 86/100\n",
            "790/790 [==============================] - 1s 2ms/step - loss: 36336267264.0000 - val_loss: 33880481792.0000\n",
            "Epoch 87/100\n",
            "790/790 [==============================] - 1s 2ms/step - loss: 36321058816.0000 - val_loss: 33859966976.0000\n",
            "Epoch 88/100\n",
            "790/790 [==============================] - 1s 2ms/step - loss: 36261814272.0000 - val_loss: 33831723008.0000\n",
            "Epoch 89/100\n",
            "790/790 [==============================] - 1s 2ms/step - loss: 36236263424.0000 - val_loss: 33813620736.0000\n",
            "Epoch 90/100\n",
            "790/790 [==============================] - 1s 2ms/step - loss: 36196679680.0000 - val_loss: 33804568576.0000\n",
            "Epoch 91/100\n",
            "790/790 [==============================] - 1s 2ms/step - loss: 36160659456.0000 - val_loss: 33807376384.0000\n",
            "Epoch 92/100\n",
            "790/790 [==============================] - 1s 2ms/step - loss: 36131180544.0000 - val_loss: 33769840640.0000\n",
            "Epoch 93/100\n",
            "790/790 [==============================] - 1s 2ms/step - loss: 36085313536.0000 - val_loss: 33716449280.0000\n",
            "Epoch 94/100\n",
            "790/790 [==============================] - 1s 2ms/step - loss: 36068638720.0000 - val_loss: 33702289408.0000\n",
            "Epoch 95/100\n",
            "790/790 [==============================] - 1s 2ms/step - loss: 36035010560.0000 - val_loss: 33683302400.0000\n",
            "Epoch 96/100\n",
            "790/790 [==============================] - 1s 2ms/step - loss: 35997589504.0000 - val_loss: 33687351296.0000\n",
            "Epoch 97/100\n",
            "790/790 [==============================] - 1s 2ms/step - loss: 35964174336.0000 - val_loss: 33650976768.0000\n",
            "Epoch 98/100\n",
            "790/790 [==============================] - 1s 2ms/step - loss: 35918233600.0000 - val_loss: 33685385216.0000\n",
            "Epoch 99/100\n",
            "790/790 [==============================] - 1s 2ms/step - loss: 35908968448.0000 - val_loss: 33641670656.0000\n",
            "Epoch 100/100\n",
            "790/790 [==============================] - 1s 2ms/step - loss: 35868708864.0000 - val_loss: 33583677440.0000\n"
          ]
        },
        {
          "output_type": "display_data",
          "data": {
            "text/plain": [
              "<Figure size 432x288 with 1 Axes>"
            ],
            "image/png": "[encoded data removed]"
          },
          "metadata": {
            "needs_background": "light"
          }
        },
        {
          "output_type": "stream",
          "name": "stdout",
          "text": [
            "MSE: 30409694913.782673\n"
          ]
        }
      ],
      "source": [
        "# Tuning the number of hidden layers\n",
        "# 1 Hidden Layer\n",
        "opt = Adam(learning_rate=0.01)\n",
        "model = Sequential()\n",
        "model.add(Dense(16, activation='relu')) #Input layer\n",
        "model.add(Dense(16, activation='relu')) #Hidden layer\n",
        "model.add(Dense(1)) #Output layer\n",
        "model.compile(optimizer = 'adam', loss='mse')\n",
        "model.fit(X_train_std, y_train, validation_data=(X_val_std, y_val), epochs=100, batch_size=16)\n",
        "lr_train_loss = pd.DataFrame(model.history.history)\n",
        "loss_function_graph(lr_train_loss)\n",
        "y_pred = model.predict(X_test_std)\n",
        "print('MSE:', metrics.mean_squared_error(y_test, y_pred))\n",
        "mse.append(metrics.mean_squared_error(y_test, y_pred))"
      ]
    },
    {
      "cell_type": "code",
      "execution_count": null,
      "metadata": {
        "id": "4dVCDWsBAVxV",
        "colab": {
          "base_uri": "https://localhost:8080/",
          "height": 1000
        },
        "outputId": "cf422560-9db8-4613-f6b3-60717f99a7bd"
      },
      "outputs": [
        {
          "output_type": "stream",
          "name": "stdout",
          "text": [
            "Epoch 1/100\n",
            "790/790 [==============================] - 2s 2ms/step - loss: 388222943232.0000 - val_loss: 256102367232.0000\n",
            "Epoch 2/100\n",
            "790/790 [==============================] - 1s 2ms/step - loss: 120062402560.0000 - val_loss: 70640861184.0000\n",
            "Epoch 3/100\n",
            "790/790 [==============================] - 1s 2ms/step - loss: 66718150656.0000 - val_loss: 58681589760.0000\n",
            "Epoch 4/100\n",
            "790/790 [==============================] - 1s 2ms/step - loss: 58646736896.0000 - val_loss: 52288827392.0000\n",
            "Epoch 5/100\n",
            "790/790 [==============================] - 1s 2ms/step - loss: 53151354880.0000 - val_loss: 47287312384.0000\n",
            "Epoch 6/100\n",
            "790/790 [==============================] - 1s 2ms/step - loss: 48552710144.0000 - val_loss: 43351470080.0000\n",
            "Epoch 7/100\n",
            "790/790 [==============================] - 1s 2ms/step - loss: 44944117760.0000 - val_loss: 40286924800.0000\n",
            "Epoch 8/100\n",
            "790/790 [==============================] - 1s 2ms/step - loss: 42260713472.0000 - val_loss: 38223761408.0000\n",
            "Epoch 9/100\n",
            "790/790 [==============================] - 1s 2ms/step - loss: 40487448576.0000 - val_loss: 36794253312.0000\n",
            "Epoch 10/100\n",
            "790/790 [==============================] - 1s 2ms/step - loss: 39282593792.0000 - val_loss: 36012826624.0000\n",
            "Epoch 11/100\n",
            "790/790 [==============================] - 1s 2ms/step - loss: 38613241856.0000 - val_loss: 35427016704.0000\n",
            "Epoch 12/100\n",
            "790/790 [==============================] - 1s 2ms/step - loss: 38058553344.0000 - val_loss: 35074068480.0000\n",
            "Epoch 13/100\n",
            "790/790 [==============================] - 1s 2ms/step - loss: 37685178368.0000 - val_loss: 34854297600.0000\n",
            "Epoch 14/100\n",
            "790/790 [==============================] - 1s 2ms/step - loss: 37371686912.0000 - val_loss: 34572087296.0000\n",
            "Epoch 15/100\n",
            "790/790 [==============================] - 1s 2ms/step - loss: 37137186816.0000 - val_loss: 34528317440.0000\n",
            "Epoch 16/100\n",
            "790/790 [==============================] - 1s 2ms/step - loss: 36942065664.0000 - val_loss: 34536996864.0000\n",
            "Epoch 17/100\n",
            "790/790 [==============================] - 1s 2ms/step - loss: 36722257920.0000 - val_loss: 34127620096.0000\n",
            "Epoch 18/100\n",
            "790/790 [==============================] - 2s 2ms/step - loss: 36569251840.0000 - val_loss: 34085029888.0000\n",
            "Epoch 19/100\n",
            "790/790 [==============================] - 1s 2ms/step - loss: 36455964672.0000 - val_loss: 33933742080.0000\n",
            "Epoch 20/100\n",
            "790/790 [==============================] - 1s 2ms/step - loss: 36308422656.0000 - val_loss: 33843021824.0000\n",
            "Epoch 21/100\n",
            "790/790 [==============================] - 1s 2ms/step - loss: 36107161600.0000 - val_loss: 34202056704.0000\n",
            "Epoch 22/100\n",
            "790/790 [==============================] - 1s 2ms/step - loss: 36051697664.0000 - val_loss: 33807149056.0000\n",
            "Epoch 23/100\n",
            "790/790 [==============================] - 1s 2ms/step - loss: 35908886528.0000 - val_loss: 33732534272.0000\n",
            "Epoch 24/100\n",
            "790/790 [==============================] - 1s 2ms/step - loss: 35841851392.0000 - val_loss: 33558847488.0000\n",
            "Epoch 25/100\n",
            "790/790 [==============================] - 1s 2ms/step - loss: 35720892416.0000 - val_loss: 33477857280.0000\n",
            "Epoch 26/100\n",
            "790/790 [==============================] - 1s 2ms/step - loss: 35631235072.0000 - val_loss: 33450412032.0000\n",
            "Epoch 27/100\n",
            "790/790 [==============================] - 1s 2ms/step - loss: 35521826816.0000 - val_loss: 33408761856.0000\n",
            "Epoch 28/100\n",
            "790/790 [==============================] - 1s 2ms/step - loss: 35438964736.0000 - val_loss: 33384443904.0000\n",
            "Epoch 29/100\n",
            "790/790 [==============================] - 1s 2ms/step - loss: 35338518528.0000 - val_loss: 33278695424.0000\n",
            "Epoch 30/100\n",
            "790/790 [==============================] - 1s 2ms/step - loss: 35314155520.0000 - val_loss: 33241239552.0000\n",
            "Epoch 31/100\n",
            "790/790 [==============================] - 1s 2ms/step - loss: 35126804480.0000 - val_loss: 33497493504.0000\n",
            "Epoch 32/100\n",
            "790/790 [==============================] - 1s 2ms/step - loss: 35151302656.0000 - val_loss: 33246574592.0000\n",
            "Epoch 33/100\n",
            "790/790 [==============================] - 1s 2ms/step - loss: 35016331264.0000 - val_loss: 33333721088.0000\n",
            "Epoch 34/100\n",
            "790/790 [==============================] - 1s 2ms/step - loss: 35014537216.0000 - val_loss: 33081210880.0000\n",
            "Epoch 35/100\n",
            "790/790 [==============================] - 1s 2ms/step - loss: 34853552128.0000 - val_loss: 33106296832.0000\n",
            "Epoch 36/100\n",
            "790/790 [==============================] - 1s 2ms/step - loss: 34861211648.0000 - val_loss: 33070256128.0000\n",
            "Epoch 37/100\n",
            "790/790 [==============================] - 1s 2ms/step - loss: 34774544384.0000 - val_loss: 32991920128.0000\n",
            "Epoch 38/100\n",
            "790/790 [==============================] - 1s 2ms/step - loss: 34707169280.0000 - val_loss: 32949538816.0000\n",
            "Epoch 39/100\n",
            "790/790 [==============================] - 1s 2ms/step - loss: 34607988736.0000 - val_loss: 32997601280.0000\n",
            "Epoch 40/100\n",
            "790/790 [==============================] - 1s 2ms/step - loss: 34567057408.0000 - val_loss: 32888170496.0000\n",
            "Epoch 41/100\n",
            "790/790 [==============================] - 1s 2ms/step - loss: 34488958976.0000 - val_loss: 32843685888.0000\n",
            "Epoch 42/100\n",
            "790/790 [==============================] - 1s 2ms/step - loss: 34411462656.0000 - val_loss: 32789696512.0000\n",
            "Epoch 43/100\n",
            "790/790 [==============================] - 1s 2ms/step - loss: 34247473152.0000 - val_loss: 33011275776.0000\n",
            "Epoch 44/100\n",
            "790/790 [==============================] - 1s 2ms/step - loss: 34263468032.0000 - val_loss: 32753885184.0000\n",
            "Epoch 45/100\n",
            "790/790 [==============================] - 1s 2ms/step - loss: 34236745728.0000 - val_loss: 32741392384.0000\n",
            "Epoch 46/100\n",
            "790/790 [==============================] - 1s 2ms/step - loss: 34171867136.0000 - val_loss: 32667125760.0000\n",
            "Epoch 47/100\n",
            "790/790 [==============================] - 1s 2ms/step - loss: 34108530688.0000 - val_loss: 32653301760.0000\n",
            "Epoch 48/100\n",
            "790/790 [==============================] - 1s 2ms/step - loss: 34027630592.0000 - val_loss: 32613978112.0000\n",
            "Epoch 49/100\n",
            "790/790 [==============================] - 1s 2ms/step - loss: 34000871424.0000 - val_loss: 32573749248.0000\n",
            "Epoch 50/100\n",
            "790/790 [==============================] - 1s 2ms/step - loss: 33949880320.0000 - val_loss: 32600205312.0000\n",
            "Epoch 51/100\n",
            "790/790 [==============================] - 1s 2ms/step - loss: 33896013824.0000 - val_loss: 32485851136.0000\n",
            "Epoch 52/100\n",
            "790/790 [==============================] - 1s 2ms/step - loss: 33787785216.0000 - val_loss: 32509433856.0000\n",
            "Epoch 53/100\n",
            "790/790 [==============================] - 1s 2ms/step - loss: 33707325440.0000 - val_loss: 32577259520.0000\n",
            "Epoch 54/100\n",
            "790/790 [==============================] - 1s 2ms/step - loss: 33715920896.0000 - val_loss: 32365199360.0000\n",
            "Epoch 55/100\n",
            "790/790 [==============================] - 1s 2ms/step - loss: 33648959488.0000 - val_loss: 32426960896.0000\n",
            "Epoch 56/100\n",
            "790/790 [==============================] - 1s 2ms/step - loss: 33566582784.0000 - val_loss: 32343670784.0000\n",
            "Epoch 57/100\n",
            "790/790 [==============================] - 1s 2ms/step - loss: 33539571712.0000 - val_loss: 32278706176.0000\n",
            "Epoch 58/100\n",
            "790/790 [==============================] - 1s 2ms/step - loss: 33485221888.0000 - val_loss: 32231723008.0000\n",
            "Epoch 59/100\n",
            "790/790 [==============================] - 1s 2ms/step - loss: 33422538752.0000 - val_loss: 32475570176.0000\n",
            "Epoch 60/100\n",
            "790/790 [==============================] - 1s 2ms/step - loss: 33401960448.0000 - val_loss: 32188407808.0000\n",
            "Epoch 61/100\n",
            "790/790 [==============================] - 1s 2ms/step - loss: 33317494784.0000 - val_loss: 32172597248.0000\n",
            "Epoch 62/100\n",
            "790/790 [==============================] - 1s 2ms/step - loss: 33276176384.0000 - val_loss: 32349190144.0000\n",
            "Epoch 63/100\n",
            "790/790 [==============================] - 1s 2ms/step - loss: 33274963968.0000 - val_loss: 32124733440.0000\n",
            "Epoch 64/100\n",
            "790/790 [==============================] - 1s 2ms/step - loss: 33155487744.0000 - val_loss: 32255543296.0000\n",
            "Epoch 65/100\n",
            "790/790 [==============================] - 1s 2ms/step - loss: 33156069376.0000 - val_loss: 32084469760.0000\n",
            "Epoch 66/100\n",
            "790/790 [==============================] - 1s 2ms/step - loss: 33115385856.0000 - val_loss: 32046311424.0000\n",
            "Epoch 67/100\n",
            "790/790 [==============================] - 1s 2ms/step - loss: 33007648768.0000 - val_loss: 32108027904.0000\n",
            "Epoch 68/100\n",
            "790/790 [==============================] - 1s 2ms/step - loss: 32961474560.0000 - val_loss: 31976261632.0000\n",
            "Epoch 69/100\n",
            "790/790 [==============================] - 1s 2ms/step - loss: 32927068160.0000 - val_loss: 31953573888.0000\n",
            "Epoch 70/100\n",
            "790/790 [==============================] - 1s 2ms/step - loss: 32856135680.0000 - val_loss: 31936382976.0000\n",
            "Epoch 71/100\n",
            "790/790 [==============================] - 1s 2ms/step - loss: 32862875648.0000 - val_loss: 32083507200.0000\n",
            "Epoch 72/100\n",
            "790/790 [==============================] - 1s 2ms/step - loss: 32813484032.0000 - val_loss: 31876612096.0000\n",
            "Epoch 73/100\n",
            "790/790 [==============================] - 1s 2ms/step - loss: 32741605376.0000 - val_loss: 31932977152.0000\n",
            "Epoch 74/100\n",
            "790/790 [==============================] - 1s 2ms/step - loss: 32719437824.0000 - val_loss: 31977719808.0000\n",
            "Epoch 75/100\n",
            "790/790 [==============================] - 1s 2ms/step - loss: 32669515776.0000 - val_loss: 31822776320.0000\n",
            "Epoch 76/100\n",
            "790/790 [==============================] - 1s 2ms/step - loss: 32638320640.0000 - val_loss: 31801847808.0000\n",
            "Epoch 77/100\n",
            "790/790 [==============================] - 1s 2ms/step - loss: 32529811456.0000 - val_loss: 31860652032.0000\n",
            "Epoch 78/100\n",
            "790/790 [==============================] - 1s 2ms/step - loss: 32511717376.0000 - val_loss: 31851905024.0000\n",
            "Epoch 79/100\n",
            "790/790 [==============================] - 1s 2ms/step - loss: 32434755584.0000 - val_loss: 31748681728.0000\n",
            "Epoch 80/100\n",
            "790/790 [==============================] - 1s 2ms/step - loss: 32431009792.0000 - val_loss: 31740403712.0000\n",
            "Epoch 81/100\n",
            "790/790 [==============================] - 1s 2ms/step - loss: 32332756992.0000 - val_loss: 31717027840.0000\n",
            "Epoch 82/100\n",
            "790/790 [==============================] - 1s 2ms/step - loss: 32316755968.0000 - val_loss: 31790528512.0000\n",
            "Epoch 83/100\n",
            "790/790 [==============================] - 1s 2ms/step - loss: 32261488640.0000 - val_loss: 31618056192.0000\n",
            "Epoch 84/100\n",
            "790/790 [==============================] - 1s 2ms/step - loss: 32207831040.0000 - val_loss: 31627845632.0000\n",
            "Epoch 85/100\n",
            "790/790 [==============================] - 1s 2ms/step - loss: 32205426688.0000 - val_loss: 31560876032.0000\n",
            "Epoch 86/100\n",
            "790/790 [==============================] - 1s 2ms/step - loss: 32163776512.0000 - val_loss: 31540826112.0000\n",
            "Epoch 87/100\n",
            "790/790 [==============================] - 1s 2ms/step - loss: 32115976192.0000 - val_loss: 31566006272.0000\n",
            "Epoch 88/100\n",
            "790/790 [==============================] - 1s 2ms/step - loss: 32086988800.0000 - val_loss: 31501146112.0000\n",
            "Epoch 89/100\n",
            "790/790 [==============================] - 1s 2ms/step - loss: 32028231680.0000 - val_loss: 31476912128.0000\n",
            "Epoch 90/100\n",
            "790/790 [==============================] - 1s 2ms/step - loss: 31936704512.0000 - val_loss: 31482089472.0000\n",
            "Epoch 91/100\n",
            "790/790 [==============================] - 1s 2ms/step - loss: 31957178368.0000 - val_loss: 31430854656.0000\n",
            "Epoch 92/100\n",
            "790/790 [==============================] - 1s 2ms/step - loss: 31873431552.0000 - val_loss: 31463428096.0000\n",
            "Epoch 93/100\n",
            "790/790 [==============================] - 1s 2ms/step - loss: 31835619328.0000 - val_loss: 31416897536.0000\n",
            "Epoch 94/100\n",
            "790/790 [==============================] - 1s 2ms/step - loss: 31780083712.0000 - val_loss: 31617855488.0000\n",
            "Epoch 95/100\n",
            "790/790 [==============================] - 1s 2ms/step - loss: 31786180608.0000 - val_loss: 31344510976.0000\n",
            "Epoch 96/100\n",
            "790/790 [==============================] - 1s 2ms/step - loss: 31656249344.0000 - val_loss: 31848325120.0000\n",
            "Epoch 97/100\n",
            "790/790 [==============================] - 1s 2ms/step - loss: 31736702976.0000 - val_loss: 31328897024.0000\n",
            "Epoch 98/100\n",
            "790/790 [==============================] - 1s 2ms/step - loss: 31637127168.0000 - val_loss: 31261130752.0000\n",
            "Epoch 99/100\n",
            "790/790 [==============================] - 1s 2ms/step - loss: 31647531008.0000 - val_loss: 31232378880.0000\n",
            "Epoch 100/100\n",
            "790/790 [==============================] - 1s 2ms/step - loss: 31540072448.0000 - val_loss: 31186776064.0000\n"
          ]
        },
        {
          "output_type": "display_data",
          "data": {
            "text/plain": [
              "<Figure size 432x288 with 1 Axes>"
            ],
            "image/png": "[encoded data removed]"
          },
          "metadata": {
            "needs_background": "light"
          }
        },
        {
          "output_type": "stream",
          "name": "stdout",
          "text": [
            "MSE: 27725138012.735313\n"
          ]
        }
      ],
      "source": [
        "# 2 Hidden Layers\n",
        "opt = Adam(learning_rate=0.01)\n",
        "model = Sequential()\n",
        "model.add(Dense(16, activation='relu')) #Input layer\n",
        "model.add(Dense(16, activation='relu')) #Hidden layer\n",
        "model.add(Dense(16, activation='relu')) #Hidden layer\n",
        "model.add(Dense(1)) #Output layer\n",
        "model.compile(optimizer = 'adam', loss='mse')\n",
        "model.fit(X_train_std, y_train, validation_data=(X_val_std, y_val), epochs=100, batch_size=16)\n",
        "lr_train_loss = pd.DataFrame(model.history.history)\n",
        "loss_function_graph(lr_train_loss)\n",
        "y_pred = model.predict(X_test_std)\n",
        "print('MSE:', metrics.mean_squared_error(y_test, y_pred))\n",
        "mse.append(metrics.mean_squared_error(y_test, y_pred))"
      ]
    },
    {
      "cell_type": "code",
      "execution_count": null,
      "metadata": {
        "id": "Yxp3CVdKCfX2",
        "colab": {
          "base_uri": "https://localhost:8080/",
          "height": 1000
        },
        "outputId": "347779c0-b63d-4c6c-834d-690489ab52f9"
      },
      "outputs": [
        {
          "output_type": "stream",
          "name": "stdout",
          "text": [
            "Epoch 1/100\n",
            "790/790 [==============================] - 2s 2ms/step - loss: 238263369728.0000 - val_loss: 60263763968.0000\n",
            "Epoch 2/100\n",
            "790/790 [==============================] - 1s 2ms/step - loss: 55552315392.0000 - val_loss: 46207778816.0000\n",
            "Epoch 3/100\n",
            "790/790 [==============================] - 1s 2ms/step - loss: 45619806208.0000 - val_loss: 39303852032.0000\n",
            "Epoch 4/100\n",
            "790/790 [==============================] - 1s 2ms/step - loss: 41195466752.0000 - val_loss: 37063790592.0000\n",
            "Epoch 5/100\n",
            "790/790 [==============================] - 2s 2ms/step - loss: 39365120000.0000 - val_loss: 35734593536.0000\n",
            "Epoch 6/100\n",
            "790/790 [==============================] - 1s 2ms/step - loss: 38255009792.0000 - val_loss: 35106779136.0000\n",
            "Epoch 7/100\n",
            "790/790 [==============================] - 2s 2ms/step - loss: 37484650496.0000 - val_loss: 34763890688.0000\n",
            "Epoch 8/100\n",
            "790/790 [==============================] - 1s 2ms/step - loss: 37090308096.0000 - val_loss: 34269034496.0000\n",
            "Epoch 9/100\n",
            "790/790 [==============================] - 1s 2ms/step - loss: 36637433856.0000 - val_loss: 34926366720.0000\n",
            "Epoch 10/100\n",
            "790/790 [==============================] - 1s 2ms/step - loss: 36470951936.0000 - val_loss: 33850101760.0000\n",
            "Epoch 11/100\n",
            "790/790 [==============================] - 1s 2ms/step - loss: 35979108352.0000 - val_loss: 34435788800.0000\n",
            "Epoch 12/100\n",
            "790/790 [==============================] - 1s 2ms/step - loss: 36001374208.0000 - val_loss: 33787985920.0000\n",
            "Epoch 13/100\n",
            "790/790 [==============================] - 2s 2ms/step - loss: 35747803136.0000 - val_loss: 33496721408.0000\n",
            "Epoch 14/100\n",
            "790/790 [==============================] - 2s 2ms/step - loss: 35570794496.0000 - val_loss: 33477017600.0000\n",
            "Epoch 15/100\n",
            "790/790 [==============================] - 1s 2ms/step - loss: 35504246784.0000 - val_loss: 33393508352.0000\n",
            "Epoch 16/100\n",
            "790/790 [==============================] - 1s 2ms/step - loss: 35279638528.0000 - val_loss: 33521426432.0000\n",
            "Epoch 17/100\n",
            "790/790 [==============================] - 1s 2ms/step - loss: 35148488704.0000 - val_loss: 33202655232.0000\n",
            "Epoch 18/100\n",
            "790/790 [==============================] - 2s 2ms/step - loss: 34929573888.0000 - val_loss: 33249415168.0000\n",
            "Epoch 19/100\n",
            "790/790 [==============================] - 1s 2ms/step - loss: 34691518464.0000 - val_loss: 33068554240.0000\n",
            "Epoch 20/100\n",
            "790/790 [==============================] - 1s 2ms/step - loss: 34525507584.0000 - val_loss: 33192517632.0000\n",
            "Epoch 21/100\n",
            "790/790 [==============================] - 1s 2ms/step - loss: 34499129344.0000 - val_loss: 33121218560.0000\n",
            "Epoch 22/100\n",
            "790/790 [==============================] - 1s 2ms/step - loss: 34450087936.0000 - val_loss: 32858204160.0000\n",
            "Epoch 23/100\n",
            "790/790 [==============================] - 1s 2ms/step - loss: 34205800448.0000 - val_loss: 32945846272.0000\n",
            "Epoch 24/100\n",
            "790/790 [==============================] - 2s 2ms/step - loss: 34202357760.0000 - val_loss: 32993622016.0000\n",
            "Epoch 25/100\n",
            "790/790 [==============================] - 2s 2ms/step - loss: 34075975680.0000 - val_loss: 32773748736.0000\n",
            "Epoch 26/100\n",
            "790/790 [==============================] - 2s 2ms/step - loss: 34083735552.0000 - val_loss: 32637356032.0000\n",
            "Epoch 27/100\n",
            "790/790 [==============================] - 2s 2ms/step - loss: 33819400192.0000 - val_loss: 32880218112.0000\n",
            "Epoch 28/100\n",
            "790/790 [==============================] - 1s 2ms/step - loss: 33776252928.0000 - val_loss: 32517015552.0000\n",
            "Epoch 29/100\n",
            "790/790 [==============================] - 2s 2ms/step - loss: 33585111040.0000 - val_loss: 32407154688.0000\n",
            "Epoch 30/100\n",
            "790/790 [==============================] - 1s 2ms/step - loss: 33586294784.0000 - val_loss: 32513026048.0000\n",
            "Epoch 31/100\n",
            "790/790 [==============================] - 2s 2ms/step - loss: 33376661504.0000 - val_loss: 32408539136.0000\n",
            "Epoch 32/100\n",
            "790/790 [==============================] - 1s 2ms/step - loss: 33424189440.0000 - val_loss: 32299161600.0000\n",
            "Epoch 33/100\n",
            "790/790 [==============================] - 1s 2ms/step - loss: 33267660800.0000 - val_loss: 32424730624.0000\n",
            "Epoch 34/100\n",
            "790/790 [==============================] - 2s 2ms/step - loss: 33216892928.0000 - val_loss: 32164577280.0000\n",
            "Epoch 35/100\n",
            "790/790 [==============================] - 1s 2ms/step - loss: 33099503616.0000 - val_loss: 32168261632.0000\n",
            "Epoch 36/100\n",
            "790/790 [==============================] - 1s 2ms/step - loss: 32917846016.0000 - val_loss: 32395307008.0000\n",
            "Epoch 37/100\n",
            "790/790 [==============================] - 1s 2ms/step - loss: 32819898368.0000 - val_loss: 32218941440.0000\n",
            "Epoch 38/100\n",
            "790/790 [==============================] - 1s 2ms/step - loss: 32788160512.0000 - val_loss: 32114665472.0000\n",
            "Epoch 39/100\n",
            "790/790 [==============================] - 2s 2ms/step - loss: 32662644736.0000 - val_loss: 32782254080.0000\n",
            "Epoch 40/100\n",
            "790/790 [==============================] - 1s 2ms/step - loss: 32627415040.0000 - val_loss: 32035837952.0000\n",
            "Epoch 41/100\n",
            "790/790 [==============================] - 1s 2ms/step - loss: 32470585344.0000 - val_loss: 33332312064.0000\n",
            "Epoch 42/100\n",
            "790/790 [==============================] - 2s 2ms/step - loss: 32503191552.0000 - val_loss: 31858610176.0000\n",
            "Epoch 43/100\n",
            "790/790 [==============================] - 1s 2ms/step - loss: 32227051520.0000 - val_loss: 31981090816.0000\n",
            "Epoch 44/100\n",
            "790/790 [==============================] - 1s 2ms/step - loss: 32355145728.0000 - val_loss: 31808933888.0000\n",
            "Epoch 45/100\n",
            "790/790 [==============================] - 1s 2ms/step - loss: 32210049024.0000 - val_loss: 31805458432.0000\n",
            "Epoch 46/100\n",
            "790/790 [==============================] - 2s 2ms/step - loss: 32243257344.0000 - val_loss: 32104314880.0000\n",
            "Epoch 47/100\n",
            "790/790 [==============================] - 2s 2ms/step - loss: 32129585152.0000 - val_loss: 32132855808.0000\n",
            "Epoch 48/100\n",
            "790/790 [==============================] - 2s 2ms/step - loss: 32114188288.0000 - val_loss: 31783936000.0000\n",
            "Epoch 49/100\n",
            "790/790 [==============================] - 2s 2ms/step - loss: 31957264384.0000 - val_loss: 31733659648.0000\n",
            "Epoch 50/100\n",
            "790/790 [==============================] - 1s 2ms/step - loss: 32012664832.0000 - val_loss: 31855435776.0000\n",
            "Epoch 51/100\n",
            "790/790 [==============================] - 2s 2ms/step - loss: 31895857152.0000 - val_loss: 31682637824.0000\n",
            "Epoch 52/100\n",
            "790/790 [==============================] - 1s 2ms/step - loss: 31897622528.0000 - val_loss: 31867899904.0000\n",
            "Epoch 53/100\n",
            "790/790 [==============================] - 2s 2ms/step - loss: 31861229568.0000 - val_loss: 31511617536.0000\n",
            "Epoch 54/100\n",
            "790/790 [==============================] - 1s 2ms/step - loss: 31636805632.0000 - val_loss: 31717785600.0000\n",
            "Epoch 55/100\n",
            "790/790 [==============================] - 1s 2ms/step - loss: 31623708672.0000 - val_loss: 31608160256.0000\n",
            "Epoch 56/100\n",
            "790/790 [==============================] - 1s 2ms/step - loss: 31510728704.0000 - val_loss: 31542394880.0000\n",
            "Epoch 57/100\n",
            "790/790 [==============================] - 1s 2ms/step - loss: 31425855488.0000 - val_loss: 31360638976.0000\n",
            "Epoch 58/100\n",
            "790/790 [==============================] - 2s 2ms/step - loss: 31532105728.0000 - val_loss: 31475601408.0000\n",
            "Epoch 59/100\n",
            "790/790 [==============================] - 2s 2ms/step - loss: 31471781888.0000 - val_loss: 31737321472.0000\n",
            "Epoch 60/100\n",
            "790/790 [==============================] - 2s 2ms/step - loss: 31383052288.0000 - val_loss: 31420266496.0000\n",
            "Epoch 61/100\n",
            "790/790 [==============================] - 1s 2ms/step - loss: 31411228672.0000 - val_loss: 31321245696.0000\n",
            "Epoch 62/100\n",
            "790/790 [==============================] - 2s 2ms/step - loss: 31289167872.0000 - val_loss: 31342532608.0000\n",
            "Epoch 63/100\n",
            "790/790 [==============================] - 2s 2ms/step - loss: 31191111680.0000 - val_loss: 31223336960.0000\n",
            "Epoch 64/100\n",
            "790/790 [==============================] - 2s 2ms/step - loss: 31163752448.0000 - val_loss: 31286738944.0000\n",
            "Epoch 65/100\n",
            "790/790 [==============================] - 2s 2ms/step - loss: 31140331520.0000 - val_loss: 31215310848.0000\n",
            "Epoch 66/100\n",
            "790/790 [==============================] - 2s 2ms/step - loss: 31217823744.0000 - val_loss: 31257544704.0000\n",
            "Epoch 67/100\n",
            "790/790 [==============================] - 2s 2ms/step - loss: 31002077184.0000 - val_loss: 31171432448.0000\n",
            "Epoch 68/100\n",
            "790/790 [==============================] - 2s 2ms/step - loss: 30974619648.0000 - val_loss: 31269081088.0000\n",
            "Epoch 69/100\n",
            "790/790 [==============================] - 2s 2ms/step - loss: 30955931648.0000 - val_loss: 31191709696.0000\n",
            "Epoch 70/100\n",
            "790/790 [==============================] - 2s 2ms/step - loss: 30956228608.0000 - val_loss: 31213105152.0000\n",
            "Epoch 71/100\n",
            "790/790 [==============================] - 2s 2ms/step - loss: 30796861440.0000 - val_loss: 31715805184.0000\n",
            "Epoch 72/100\n",
            "790/790 [==============================] - 2s 2ms/step - loss: 30815377408.0000 - val_loss: 31023785984.0000\n",
            "Epoch 73/100\n",
            "790/790 [==============================] - 2s 2ms/step - loss: 30722613248.0000 - val_loss: 31024883712.0000\n",
            "Epoch 74/100\n",
            "790/790 [==============================] - 2s 2ms/step - loss: 30706255872.0000 - val_loss: 30967140352.0000\n",
            "Epoch 75/100\n",
            "790/790 [==============================] - 1s 2ms/step - loss: 30558914560.0000 - val_loss: 30979309568.0000\n",
            "Epoch 76/100\n",
            "790/790 [==============================] - 2s 2ms/step - loss: 30591559680.0000 - val_loss: 30935769088.0000\n",
            "Epoch 77/100\n",
            "790/790 [==============================] - 2s 2ms/step - loss: 30504505344.0000 - val_loss: 31015356416.0000\n",
            "Epoch 78/100\n",
            "790/790 [==============================] - 1s 2ms/step - loss: 30431440896.0000 - val_loss: 30911105024.0000\n",
            "Epoch 79/100\n",
            "790/790 [==============================] - 1s 2ms/step - loss: 30259263488.0000 - val_loss: 30839683072.0000\n",
            "Epoch 80/100\n",
            "790/790 [==============================] - 2s 2ms/step - loss: 30330017792.0000 - val_loss: 31005665280.0000\n",
            "Epoch 81/100\n",
            "790/790 [==============================] - 1s 2ms/step - loss: 30233745408.0000 - val_loss: 31334912000.0000\n",
            "Epoch 82/100\n",
            "790/790 [==============================] - 2s 2ms/step - loss: 30226475008.0000 - val_loss: 30853664768.0000\n",
            "Epoch 83/100\n",
            "790/790 [==============================] - 2s 2ms/step - loss: 30230396928.0000 - val_loss: 30949171200.0000\n",
            "Epoch 84/100\n",
            "790/790 [==============================] - 1s 2ms/step - loss: 30161883136.0000 - val_loss: 30729568256.0000\n",
            "Epoch 85/100\n",
            "790/790 [==============================] - 2s 2ms/step - loss: 30080784384.0000 - val_loss: 30697893888.0000\n",
            "Epoch 86/100\n",
            "790/790 [==============================] - 1s 2ms/step - loss: 29981278208.0000 - val_loss: 30661193728.0000\n",
            "Epoch 87/100\n",
            "790/790 [==============================] - 1s 2ms/step - loss: 29912784896.0000 - val_loss: 30691819520.0000\n",
            "Epoch 88/100\n",
            "790/790 [==============================] - 1s 2ms/step - loss: 29917411328.0000 - val_loss: 30668787712.0000\n",
            "Epoch 89/100\n",
            "790/790 [==============================] - 2s 2ms/step - loss: 29814654976.0000 - val_loss: 30655170560.0000\n",
            "Epoch 90/100\n",
            "790/790 [==============================] - 2s 2ms/step - loss: 29816158208.0000 - val_loss: 31004108800.0000\n",
            "Epoch 91/100\n",
            "790/790 [==============================] - 2s 2ms/step - loss: 29714393088.0000 - val_loss: 30713561088.0000\n",
            "Epoch 92/100\n",
            "790/790 [==============================] - 1s 2ms/step - loss: 29652027392.0000 - val_loss: 30575403008.0000\n",
            "Epoch 93/100\n",
            "790/790 [==============================] - 2s 2ms/step - loss: 29662693376.0000 - val_loss: 30616246272.0000\n",
            "Epoch 94/100\n",
            "790/790 [==============================] - 1s 2ms/step - loss: 29638635520.0000 - val_loss: 30707466240.0000\n",
            "Epoch 95/100\n",
            "790/790 [==============================] - 1s 2ms/step - loss: 29595987968.0000 - val_loss: 30489362432.0000\n",
            "Epoch 96/100\n",
            "790/790 [==============================] - 1s 2ms/step - loss: 29443055616.0000 - val_loss: 30787588096.0000\n",
            "Epoch 97/100\n",
            "790/790 [==============================] - 2s 2ms/step - loss: 29453144064.0000 - val_loss: 30797006848.0000\n",
            "Epoch 98/100\n",
            "790/790 [==============================] - 2s 2ms/step - loss: 29372043264.0000 - val_loss: 30587910144.0000\n",
            "Epoch 99/100\n",
            "790/790 [==============================] - 2s 2ms/step - loss: 29362296832.0000 - val_loss: 30681055232.0000\n",
            "Epoch 100/100\n",
            "790/790 [==============================] - 2s 2ms/step - loss: 29335236608.0000 - val_loss: 30592032768.0000\n"
          ]
        },
        {
          "output_type": "display_data",
          "data": {
            "text/plain": [
              "<Figure size 432x288 with 1 Axes>"
            ],
            "image/png": "[encoded data removed]"
          },
          "metadata": {
            "needs_background": "light"
          }
        },
        {
          "output_type": "stream",
          "name": "stdout",
          "text": [
            "MSE: 26720932541.215954\n"
          ]
        }
      ],
      "source": [
        "# 3 Hidden Layers\n",
        "opt = Adam(learning_rate=0.1)\n",
        "model = Sequential()\n",
        "model.add(Dense(16, activation='relu')) #Input layer\n",
        "model.add(Dense(16, activation='relu')) #Hidden layer\n",
        "model.add(Dense(16, activation='relu')) #Hidden layer\n",
        "model.add(Dense(16, activation='relu')) #Hidden layer\n",
        "model.add(Dense(1)) #Output layer\n",
        "model.compile(optimizer = 'adam', loss='mse')\n",
        "model.fit(X_train_std, y_train, validation_data=(X_val_std, y_val), epochs=100, batch_size=16)\n",
        "lr_train_loss = pd.DataFrame(model.history.history)\n",
        "loss_function_graph(lr_train_loss)\n",
        "y_pred = model.predict(X_test_std)\n",
        "print('MSE:', metrics.mean_squared_error(y_test, y_pred))\n",
        "mse.append(metrics.mean_squared_error(y_test, y_pred))"
      ]
    },
    {
      "cell_type": "code",
      "execution_count": null,
      "metadata": {
        "id": "wN7xhNakDOKR",
        "colab": {
          "base_uri": "https://localhost:8080/",
          "height": 1000
        },
        "outputId": "f5d05312-0e2c-49ae-8d95-dd83a4944402"
      },
      "outputs": [
        {
          "output_type": "stream",
          "name": "stdout",
          "text": [
            "Epoch 1/100\n",
            "790/790 [==============================] - 4s 4ms/step - loss: 220440707072.0000 - val_loss: 55146270720.0000\n",
            "Epoch 2/100\n",
            "790/790 [==============================] - 2s 3ms/step - loss: 49655640064.0000 - val_loss: 40562884608.0000\n",
            "Epoch 3/100\n",
            "790/790 [==============================] - 1s 2ms/step - loss: 41623166976.0000 - val_loss: 36641562624.0000\n",
            "Epoch 4/100\n",
            "790/790 [==============================] - 1s 2ms/step - loss: 38757756928.0000 - val_loss: 34895269888.0000\n",
            "Epoch 5/100\n",
            "790/790 [==============================] - 1s 2ms/step - loss: 37777506304.0000 - val_loss: 34322632704.0000\n",
            "Epoch 6/100\n",
            "790/790 [==============================] - 1s 2ms/step - loss: 37121359872.0000 - val_loss: 34015858688.0000\n",
            "Epoch 7/100\n",
            "790/790 [==============================] - 1s 2ms/step - loss: 36678246400.0000 - val_loss: 33878308864.0000\n",
            "Epoch 8/100\n",
            "790/790 [==============================] - 1s 2ms/step - loss: 36375937024.0000 - val_loss: 33971253248.0000\n",
            "Epoch 9/100\n",
            "790/790 [==============================] - 1s 2ms/step - loss: 36045082624.0000 - val_loss: 35336097792.0000\n",
            "Epoch 10/100\n",
            "790/790 [==============================] - 1s 2ms/step - loss: 35909079040.0000 - val_loss: 34293979136.0000\n",
            "Epoch 11/100\n",
            "790/790 [==============================] - 1s 2ms/step - loss: 35468115968.0000 - val_loss: 33482360832.0000\n",
            "Epoch 12/100\n",
            "790/790 [==============================] - 1s 2ms/step - loss: 35351195648.0000 - val_loss: 33827139584.0000\n",
            "Epoch 13/100\n",
            "790/790 [==============================] - 1s 2ms/step - loss: 35344920576.0000 - val_loss: 33014321152.0000\n",
            "Epoch 14/100\n",
            "790/790 [==============================] - 1s 2ms/step - loss: 35074736128.0000 - val_loss: 33042589696.0000\n",
            "Epoch 15/100\n",
            "790/790 [==============================] - 1s 2ms/step - loss: 34799345664.0000 - val_loss: 32927735808.0000\n",
            "Epoch 16/100\n",
            "790/790 [==============================] - 1s 2ms/step - loss: 34618400768.0000 - val_loss: 33314752512.0000\n",
            "Epoch 17/100\n",
            "790/790 [==============================] - 1s 2ms/step - loss: 34769580032.0000 - val_loss: 32748900352.0000\n",
            "Epoch 18/100\n",
            "790/790 [==============================] - 1s 2ms/step - loss: 34400665600.0000 - val_loss: 33546436608.0000\n",
            "Epoch 19/100\n",
            "790/790 [==============================] - 2s 2ms/step - loss: 34145548288.0000 - val_loss: 33083779072.0000\n",
            "Epoch 20/100\n",
            "790/790 [==============================] - 1s 2ms/step - loss: 34039422976.0000 - val_loss: 32741666816.0000\n",
            "Epoch 21/100\n",
            "790/790 [==============================] - 1s 2ms/step - loss: 33940451328.0000 - val_loss: 32599332864.0000\n",
            "Epoch 22/100\n",
            "790/790 [==============================] - 1s 2ms/step - loss: 33805139968.0000 - val_loss: 32466917376.0000\n",
            "Epoch 23/100\n",
            "790/790 [==============================] - 1s 2ms/step - loss: 33740032000.0000 - val_loss: 32262273024.0000\n",
            "Epoch 24/100\n",
            "790/790 [==============================] - 1s 2ms/step - loss: 33677529088.0000 - val_loss: 32394711040.0000\n",
            "Epoch 25/100\n",
            "790/790 [==============================] - 1s 2ms/step - loss: 33393033216.0000 - val_loss: 32286459904.0000\n",
            "Epoch 26/100\n",
            "790/790 [==============================] - 2s 3ms/step - loss: 33342337024.0000 - val_loss: 32242794496.0000\n",
            "Epoch 27/100\n",
            "790/790 [==============================] - 3s 4ms/step - loss: 33013897216.0000 - val_loss: 32152903680.0000\n",
            "Epoch 28/100\n",
            "790/790 [==============================] - 2s 2ms/step - loss: 33197699072.0000 - val_loss: 32484294656.0000\n",
            "Epoch 29/100\n",
            "790/790 [==============================] - 2s 2ms/step - loss: 32864483328.0000 - val_loss: 32197570560.0000\n",
            "Epoch 30/100\n",
            "790/790 [==============================] - 2s 3ms/step - loss: 32992323584.0000 - val_loss: 32524795904.0000\n",
            "Epoch 31/100\n",
            "790/790 [==============================] - 3s 4ms/step - loss: 32832626688.0000 - val_loss: 31967025152.0000\n",
            "Epoch 32/100\n",
            "790/790 [==============================] - 3s 3ms/step - loss: 32840519680.0000 - val_loss: 31905646592.0000\n",
            "Epoch 33/100\n",
            "790/790 [==============================] - 2s 2ms/step - loss: 32694804480.0000 - val_loss: 31811532800.0000\n",
            "Epoch 34/100\n",
            "790/790 [==============================] - 1s 2ms/step - loss: 32481941504.0000 - val_loss: 31749158912.0000\n",
            "Epoch 35/100\n",
            "790/790 [==============================] - 1s 2ms/step - loss: 32510806016.0000 - val_loss: 31820146688.0000\n",
            "Epoch 36/100\n",
            "790/790 [==============================] - 1s 2ms/step - loss: 32460621824.0000 - val_loss: 31581954048.0000\n",
            "Epoch 37/100\n",
            "790/790 [==============================] - 1s 2ms/step - loss: 32181487616.0000 - val_loss: 31662264320.0000\n",
            "Epoch 38/100\n",
            "790/790 [==============================] - 1s 2ms/step - loss: 31979476992.0000 - val_loss: 33345325056.0000\n",
            "Epoch 39/100\n",
            "790/790 [==============================] - 1s 2ms/step - loss: 32182925312.0000 - val_loss: 31650215936.0000\n",
            "Epoch 40/100\n",
            "790/790 [==============================] - 1s 2ms/step - loss: 31947376640.0000 - val_loss: 31605100544.0000\n",
            "Epoch 41/100\n",
            "790/790 [==============================] - 1s 2ms/step - loss: 31952662528.0000 - val_loss: 31610097664.0000\n",
            "Epoch 42/100\n",
            "790/790 [==============================] - 1s 2ms/step - loss: 32007714816.0000 - val_loss: 31419475968.0000\n",
            "Epoch 43/100\n",
            "790/790 [==============================] - 1s 2ms/step - loss: 31541919744.0000 - val_loss: 34888286208.0000\n",
            "Epoch 44/100\n",
            "790/790 [==============================] - 1s 2ms/step - loss: 31663923200.0000 - val_loss: 31436658688.0000\n",
            "Epoch 45/100\n",
            "790/790 [==============================] - 1s 2ms/step - loss: 31551324160.0000 - val_loss: 31425210368.0000\n",
            "Epoch 46/100\n",
            "790/790 [==============================] - 1s 2ms/step - loss: 31574704128.0000 - val_loss: 31387910144.0000\n",
            "Epoch 47/100\n",
            "790/790 [==============================] - 2s 2ms/step - loss: 31546722304.0000 - val_loss: 31360899072.0000\n",
            "Epoch 48/100\n",
            "790/790 [==============================] - 1s 2ms/step - loss: 31523635200.0000 - val_loss: 31555844096.0000\n",
            "Epoch 49/100\n",
            "790/790 [==============================] - 1s 2ms/step - loss: 31300222976.0000 - val_loss: 31250417664.0000\n",
            "Epoch 50/100\n",
            "790/790 [==============================] - 1s 2ms/step - loss: 31226802176.0000 - val_loss: 31168948224.0000\n",
            "Epoch 51/100\n",
            "790/790 [==============================] - 1s 2ms/step - loss: 31166220288.0000 - val_loss: 31071928320.0000\n",
            "Epoch 52/100\n",
            "790/790 [==============================] - 1s 2ms/step - loss: 31038224384.0000 - val_loss: 31173918720.0000\n",
            "Epoch 53/100\n",
            "790/790 [==============================] - 1s 2ms/step - loss: 31096209408.0000 - val_loss: 31549943808.0000\n",
            "Epoch 54/100\n",
            "790/790 [==============================] - 1s 2ms/step - loss: 31005450240.0000 - val_loss: 31049271296.0000\n",
            "Epoch 55/100\n",
            "790/790 [==============================] - 1s 2ms/step - loss: 30908741632.0000 - val_loss: 30986186752.0000\n",
            "Epoch 56/100\n",
            "790/790 [==============================] - 1s 2ms/step - loss: 30947336192.0000 - val_loss: 31391035392.0000\n",
            "Epoch 57/100\n",
            "790/790 [==============================] - 1s 2ms/step - loss: 30730997760.0000 - val_loss: 31087403008.0000\n",
            "Epoch 58/100\n",
            "790/790 [==============================] - 1s 2ms/step - loss: 30749859840.0000 - val_loss: 31481968640.0000\n",
            "Epoch 59/100\n",
            "790/790 [==============================] - 1s 2ms/step - loss: 30678274048.0000 - val_loss: 31124391936.0000\n",
            "Epoch 60/100\n",
            "790/790 [==============================] - 1s 2ms/step - loss: 30595467264.0000 - val_loss: 30833879040.0000\n",
            "Epoch 61/100\n",
            "790/790 [==============================] - 1s 2ms/step - loss: 30572582912.0000 - val_loss: 30720643072.0000\n",
            "Epoch 62/100\n",
            "790/790 [==============================] - 1s 2ms/step - loss: 30395168768.0000 - val_loss: 30609856512.0000\n",
            "Epoch 63/100\n",
            "790/790 [==============================] - 1s 2ms/step - loss: 30368577536.0000 - val_loss: 30797836288.0000\n",
            "Epoch 64/100\n",
            "790/790 [==============================] - 1s 2ms/step - loss: 30482987008.0000 - val_loss: 30805534720.0000\n",
            "Epoch 65/100\n",
            "790/790 [==============================] - 1s 2ms/step - loss: 30154291200.0000 - val_loss: 30777202688.0000\n",
            "Epoch 66/100\n",
            "790/790 [==============================] - 1s 2ms/step - loss: 30204411904.0000 - val_loss: 30691018752.0000\n",
            "Epoch 67/100\n",
            "790/790 [==============================] - 1s 2ms/step - loss: 30249863168.0000 - val_loss: 30572498944.0000\n",
            "Epoch 68/100\n",
            "790/790 [==============================] - 1s 2ms/step - loss: 30006433792.0000 - val_loss: 30645725184.0000\n",
            "Epoch 69/100\n",
            "790/790 [==============================] - 1s 2ms/step - loss: 29847296000.0000 - val_loss: 30633211904.0000\n",
            "Epoch 70/100\n",
            "790/790 [==============================] - 1s 2ms/step - loss: 29963732992.0000 - val_loss: 30805649408.0000\n",
            "Epoch 71/100\n",
            "790/790 [==============================] - 1s 2ms/step - loss: 29872185344.0000 - val_loss: 30627704832.0000\n",
            "Epoch 72/100\n",
            "790/790 [==============================] - 1s 2ms/step - loss: 29777678336.0000 - val_loss: 30871349248.0000\n",
            "Epoch 73/100\n",
            "790/790 [==============================] - 1s 2ms/step - loss: 29548310528.0000 - val_loss: 30846703616.0000\n",
            "Epoch 74/100\n",
            "790/790 [==============================] - 1s 2ms/step - loss: 29803405312.0000 - val_loss: 30484484096.0000\n",
            "Epoch 75/100\n",
            "790/790 [==============================] - 1s 2ms/step - loss: 29482428416.0000 - val_loss: 30308771840.0000\n",
            "Epoch 76/100\n",
            "790/790 [==============================] - 1s 2ms/step - loss: 29546655744.0000 - val_loss: 30452195328.0000\n",
            "Epoch 77/100\n",
            "790/790 [==============================] - 1s 2ms/step - loss: 29417721856.0000 - val_loss: 30271561728.0000\n",
            "Epoch 78/100\n",
            "790/790 [==============================] - 1s 2ms/step - loss: 29357658112.0000 - val_loss: 30227290112.0000\n",
            "Epoch 79/100\n",
            "790/790 [==============================] - 1s 2ms/step - loss: 29242873856.0000 - val_loss: 30719891456.0000\n",
            "Epoch 80/100\n",
            "790/790 [==============================] - 1s 2ms/step - loss: 29223442432.0000 - val_loss: 30417078272.0000\n",
            "Epoch 81/100\n",
            "790/790 [==============================] - 1s 2ms/step - loss: 29143531520.0000 - val_loss: 31731091456.0000\n",
            "Epoch 82/100\n",
            "790/790 [==============================] - 1s 2ms/step - loss: 29056727040.0000 - val_loss: 30280351744.0000\n",
            "Epoch 83/100\n",
            "790/790 [==============================] - 1s 2ms/step - loss: 29059426304.0000 - val_loss: 30206586880.0000\n",
            "Epoch 84/100\n",
            "790/790 [==============================] - 1s 2ms/step - loss: 28929159168.0000 - val_loss: 30187028480.0000\n",
            "Epoch 85/100\n",
            "790/790 [==============================] - 1s 2ms/step - loss: 28990418944.0000 - val_loss: 31464859648.0000\n",
            "Epoch 86/100\n",
            "790/790 [==============================] - 1s 2ms/step - loss: 29019668480.0000 - val_loss: 30116816896.0000\n",
            "Epoch 87/100\n",
            "790/790 [==============================] - 1s 2ms/step - loss: 28892932096.0000 - val_loss: 30216566784.0000\n",
            "Epoch 88/100\n",
            "790/790 [==============================] - 1s 2ms/step - loss: 28807802880.0000 - val_loss: 30416934912.0000\n",
            "Epoch 89/100\n",
            "790/790 [==============================] - 1s 2ms/step - loss: 28918851584.0000 - val_loss: 30780147712.0000\n",
            "Epoch 90/100\n",
            "790/790 [==============================] - 1s 2ms/step - loss: 28780425216.0000 - val_loss: 30000793600.0000\n",
            "Epoch 91/100\n",
            "790/790 [==============================] - 1s 2ms/step - loss: 28661360640.0000 - val_loss: 30551496704.0000\n",
            "Epoch 92/100\n",
            "790/790 [==============================] - 1s 2ms/step - loss: 28651483136.0000 - val_loss: 30112835584.0000\n",
            "Epoch 93/100\n",
            "790/790 [==============================] - 1s 2ms/step - loss: 28473790464.0000 - val_loss: 30127413248.0000\n",
            "Epoch 94/100\n",
            "790/790 [==============================] - 1s 2ms/step - loss: 28578404352.0000 - val_loss: 30016454656.0000\n",
            "Epoch 95/100\n",
            "790/790 [==============================] - 1s 2ms/step - loss: 28524615680.0000 - val_loss: 30097358848.0000\n",
            "Epoch 96/100\n",
            "790/790 [==============================] - 1s 2ms/step - loss: 28554248192.0000 - val_loss: 30676232192.0000\n",
            "Epoch 97/100\n",
            "790/790 [==============================] - 1s 2ms/step - loss: 28464705536.0000 - val_loss: 30073133056.0000\n",
            "Epoch 98/100\n",
            "790/790 [==============================] - 1s 2ms/step - loss: 28417632256.0000 - val_loss: 30228891648.0000\n",
            "Epoch 99/100\n",
            "790/790 [==============================] - 2s 2ms/step - loss: 28334061568.0000 - val_loss: 30164539392.0000\n",
            "Epoch 100/100\n",
            "790/790 [==============================] - 1s 2ms/step - loss: 28248813568.0000 - val_loss: 30048374784.0000\n"
          ]
        },
        {
          "output_type": "display_data",
          "data": {
            "text/plain": [
              "<Figure size 432x288 with 1 Axes>"
            ],
            "image/png": "[encoded data removed]"
          },
          "metadata": {
            "needs_background": "light"
          }
        },
        {
          "output_type": "stream",
          "name": "stdout",
          "text": [
            "MSE: 25960431252.44666\n"
          ]
        }
      ],
      "source": [
        "# 4 Hidden Layers\n",
        "opt = Adam(learning_rate=0.1)\n",
        "model = Sequential()\n",
        "model.add(Dense(16, activation='relu')) #Input layer\n",
        "model.add(Dense(16, activation='relu')) #Hidden layer\n",
        "model.add(Dense(16, activation='relu')) #Hidden layer\n",
        "model.add(Dense(16, activation='relu')) #Hidden layer\n",
        "model.add(Dense(16, activation='relu')) #Hidden layer\n",
        "model.add(Dense(1)) #Output layer\n",
        "model.compile(optimizer = 'adam', loss='mse')\n",
        "model.fit(X_train_std, y_train, validation_data=(X_val_std, y_val), epochs=100, batch_size=16)\n",
        "lr_train_loss = pd.DataFrame(model.history.history)\n",
        "loss_function_graph(lr_train_loss)\n",
        "y_pred = model.predict(X_test_std)\n",
        "print('MSE:', metrics.mean_squared_error(y_test, y_pred))\n",
        "mse.append(metrics.mean_squared_error(y_test, y_pred))"
      ]
    },
    {
      "cell_type": "code",
      "execution_count": null,
      "metadata": {
        "colab": {
          "base_uri": "https://localhost:8080/",
          "height": 1000
        },
        "id": "lvSuNZZHEsaY",
        "outputId": "0dc585e8-663f-4837-997a-e3bdcaf9b2ac"
      },
      "outputs": [
        {
          "output_type": "stream",
          "name": "stdout",
          "text": [
            "Epoch 1/100\n",
            "790/790 [==============================] - 3s 3ms/step - loss: 129225031680.0000 - val_loss: 42861219840.0000\n",
            "Epoch 2/100\n",
            "790/790 [==============================] - 2s 2ms/step - loss: 42655997952.0000 - val_loss: 37165719552.0000\n",
            "Epoch 3/100\n",
            "790/790 [==============================] - 2s 2ms/step - loss: 39457439744.0000 - val_loss: 35092881408.0000\n",
            "Epoch 4/100\n",
            "790/790 [==============================] - 2s 3ms/step - loss: 37832630272.0000 - val_loss: 34357819392.0000\n",
            "Epoch 5/100\n",
            "790/790 [==============================] - 4s 4ms/step - loss: 36791197696.0000 - val_loss: 33496379392.0000\n",
            "Epoch 6/100\n",
            "790/790 [==============================] - 3s 4ms/step - loss: 35713024000.0000 - val_loss: 33113985024.0000\n",
            "Epoch 7/100\n",
            "790/790 [==============================] - 2s 3ms/step - loss: 35210899456.0000 - val_loss: 33048242176.0000\n",
            "Epoch 8/100\n",
            "790/790 [==============================] - 3s 3ms/step - loss: 34924974080.0000 - val_loss: 33131354112.0000\n",
            "Epoch 9/100\n",
            "790/790 [==============================] - 3s 4ms/step - loss: 34402168832.0000 - val_loss: 32961769472.0000\n",
            "Epoch 10/100\n",
            "790/790 [==============================] - 4s 5ms/step - loss: 34042509312.0000 - val_loss: 32214306816.0000\n",
            "Epoch 11/100\n",
            "790/790 [==============================] - 3s 3ms/step - loss: 33855295488.0000 - val_loss: 32324585472.0000\n",
            "Epoch 12/100\n",
            "790/790 [==============================] - 2s 2ms/step - loss: 33556224000.0000 - val_loss: 32356876288.0000\n",
            "Epoch 13/100\n",
            "790/790 [==============================] - 2s 2ms/step - loss: 33349261312.0000 - val_loss: 32201250816.0000\n",
            "Epoch 14/100\n",
            "790/790 [==============================] - 2s 2ms/step - loss: 33083865088.0000 - val_loss: 32581400576.0000\n",
            "Epoch 15/100\n",
            "790/790 [==============================] - 2s 2ms/step - loss: 32722681856.0000 - val_loss: 31616014336.0000\n",
            "Epoch 16/100\n",
            "790/790 [==============================] - 2s 2ms/step - loss: 32837111808.0000 - val_loss: 31864735744.0000\n",
            "Epoch 17/100\n",
            "790/790 [==============================] - 2s 2ms/step - loss: 32304781312.0000 - val_loss: 32737239040.0000\n",
            "Epoch 18/100\n",
            "790/790 [==============================] - 2s 2ms/step - loss: 32189954048.0000 - val_loss: 31532208128.0000\n",
            "Epoch 19/100\n",
            "790/790 [==============================] - 2s 2ms/step - loss: 31834963968.0000 - val_loss: 31282669568.0000\n",
            "Epoch 20/100\n",
            "790/790 [==============================] - 2s 3ms/step - loss: 31928418304.0000 - val_loss: 31675654144.0000\n",
            "Epoch 21/100\n",
            "790/790 [==============================] - 2s 2ms/step - loss: 31642054656.0000 - val_loss: 31399063552.0000\n",
            "Epoch 22/100\n",
            "790/790 [==============================] - 2s 2ms/step - loss: 31447672832.0000 - val_loss: 31234254848.0000\n",
            "Epoch 23/100\n",
            "790/790 [==============================] - 2s 2ms/step - loss: 31070416896.0000 - val_loss: 31398268928.0000\n",
            "Epoch 24/100\n",
            "790/790 [==============================] - 2s 2ms/step - loss: 31077859328.0000 - val_loss: 32493047808.0000\n",
            "Epoch 25/100\n",
            "790/790 [==============================] - 2s 2ms/step - loss: 31190167552.0000 - val_loss: 31064903680.0000\n",
            "Epoch 26/100\n",
            "790/790 [==============================] - 2s 2ms/step - loss: 30614185984.0000 - val_loss: 38939385856.0000\n",
            "Epoch 27/100\n",
            "790/790 [==============================] - 2s 2ms/step - loss: 30726565888.0000 - val_loss: 31175186432.0000\n",
            "Epoch 28/100\n",
            "790/790 [==============================] - 2s 2ms/step - loss: 30435215360.0000 - val_loss: 31925741568.0000\n",
            "Epoch 29/100\n",
            "790/790 [==============================] - 2s 2ms/step - loss: 30184286208.0000 - val_loss: 31038717952.0000\n",
            "Epoch 30/100\n",
            "790/790 [==============================] - 2s 2ms/step - loss: 30246619136.0000 - val_loss: 32122904576.0000\n",
            "Epoch 31/100\n",
            "790/790 [==============================] - 2s 2ms/step - loss: 30180028416.0000 - val_loss: 31348068352.0000\n",
            "Epoch 32/100\n",
            "790/790 [==============================] - 2s 2ms/step - loss: 29786570752.0000 - val_loss: 30811969536.0000\n",
            "Epoch 33/100\n",
            "790/790 [==============================] - 2s 2ms/step - loss: 29727356928.0000 - val_loss: 30867341312.0000\n",
            "Epoch 34/100\n",
            "790/790 [==============================] - 2s 2ms/step - loss: 29861234688.0000 - val_loss: 34352629760.0000\n",
            "Epoch 35/100\n",
            "790/790 [==============================] - 2s 2ms/step - loss: 29687607296.0000 - val_loss: 30895878144.0000\n",
            "Epoch 36/100\n",
            "790/790 [==============================] - 2s 2ms/step - loss: 29445593088.0000 - val_loss: 31989774336.0000\n",
            "Epoch 37/100\n",
            "790/790 [==============================] - 2s 2ms/step - loss: 29437192192.0000 - val_loss: 31944990720.0000\n",
            "Epoch 38/100\n",
            "790/790 [==============================] - 2s 2ms/step - loss: 29439260672.0000 - val_loss: 30468933632.0000\n",
            "Epoch 39/100\n",
            "790/790 [==============================] - 2s 2ms/step - loss: 29251258368.0000 - val_loss: 31077279744.0000\n",
            "Epoch 40/100\n",
            "790/790 [==============================] - 2s 2ms/step - loss: 29181093888.0000 - val_loss: 32384391168.0000\n",
            "Epoch 41/100\n",
            "790/790 [==============================] - 2s 2ms/step - loss: 28947490816.0000 - val_loss: 30715336704.0000\n",
            "Epoch 42/100\n",
            "790/790 [==============================] - 2s 2ms/step - loss: 28766406656.0000 - val_loss: 30746384384.0000\n",
            "Epoch 43/100\n",
            "790/790 [==============================] - 2s 2ms/step - loss: 28783910912.0000 - val_loss: 30643425280.0000\n",
            "Epoch 44/100\n",
            "790/790 [==============================] - 2s 2ms/step - loss: 28911556608.0000 - val_loss: 31170387968.0000\n",
            "Epoch 45/100\n",
            "790/790 [==============================] - 2s 2ms/step - loss: 28643424256.0000 - val_loss: 30747860992.0000\n",
            "Epoch 46/100\n",
            "790/790 [==============================] - 2s 2ms/step - loss: 28519524352.0000 - val_loss: 30737397760.0000\n",
            "Epoch 47/100\n",
            "790/790 [==============================] - 2s 2ms/step - loss: 28480845824.0000 - val_loss: 30403082240.0000\n",
            "Epoch 48/100\n",
            "790/790 [==============================] - 2s 2ms/step - loss: 28301651968.0000 - val_loss: 30475595776.0000\n",
            "Epoch 49/100\n",
            "790/790 [==============================] - 2s 2ms/step - loss: 28189292544.0000 - val_loss: 31138160640.0000\n",
            "Epoch 50/100\n",
            "790/790 [==============================] - 2s 2ms/step - loss: 27709128704.0000 - val_loss: 31425220608.0000\n",
            "Epoch 51/100\n",
            "790/790 [==============================] - 2s 2ms/step - loss: 27786510336.0000 - val_loss: 30487179264.0000\n",
            "Epoch 52/100\n",
            "790/790 [==============================] - 2s 2ms/step - loss: 27596558336.0000 - val_loss: 32236601344.0000\n",
            "Epoch 53/100\n",
            "790/790 [==============================] - 2s 2ms/step - loss: 27534956544.0000 - val_loss: 32468342784.0000\n",
            "Epoch 54/100\n",
            "790/790 [==============================] - 2s 2ms/step - loss: 26824976384.0000 - val_loss: 29681666048.0000\n",
            "Epoch 55/100\n",
            "790/790 [==============================] - 2s 2ms/step - loss: 26492385280.0000 - val_loss: 30065989632.0000\n",
            "Epoch 56/100\n",
            "790/790 [==============================] - 2s 2ms/step - loss: 25648271360.0000 - val_loss: 29219229696.0000\n",
            "Epoch 57/100\n",
            "790/790 [==============================] - 2s 2ms/step - loss: 25463209984.0000 - val_loss: 27491008512.0000\n",
            "Epoch 58/100\n",
            "790/790 [==============================] - 2s 2ms/step - loss: 24414947328.0000 - val_loss: 26859321344.0000\n",
            "Epoch 59/100\n",
            "790/790 [==============================] - 2s 2ms/step - loss: 24482469888.0000 - val_loss: 26444427264.0000\n",
            "Epoch 60/100\n",
            "790/790 [==============================] - 2s 2ms/step - loss: 23165112320.0000 - val_loss: 27708975104.0000\n",
            "Epoch 61/100\n",
            "790/790 [==============================] - 2s 2ms/step - loss: 22905901056.0000 - val_loss: 25008844800.0000\n",
            "Epoch 62/100\n",
            "790/790 [==============================] - 2s 2ms/step - loss: 22427863040.0000 - val_loss: 25503426560.0000\n",
            "Epoch 63/100\n",
            "790/790 [==============================] - 2s 2ms/step - loss: 21561219072.0000 - val_loss: 25137467392.0000\n",
            "Epoch 64/100\n",
            "790/790 [==============================] - 2s 2ms/step - loss: 21408481280.0000 - val_loss: 26198251520.0000\n",
            "Epoch 65/100\n",
            "790/790 [==============================] - 2s 2ms/step - loss: 21154969600.0000 - val_loss: 23833618432.0000\n",
            "Epoch 66/100\n",
            "790/790 [==============================] - 2s 3ms/step - loss: 20917751808.0000 - val_loss: 24352020480.0000\n",
            "Epoch 67/100\n",
            "790/790 [==============================] - 2s 2ms/step - loss: 20509048832.0000 - val_loss: 24616105984.0000\n",
            "Epoch 68/100\n",
            "790/790 [==============================] - 2s 2ms/step - loss: 20102633472.0000 - val_loss: 23863439360.0000\n",
            "Epoch 69/100\n",
            "790/790 [==============================] - 2s 2ms/step - loss: 20213438464.0000 - val_loss: 22942193664.0000\n",
            "Epoch 70/100\n",
            "790/790 [==============================] - 2s 2ms/step - loss: 19637950464.0000 - val_loss: 23432038400.0000\n",
            "Epoch 71/100\n",
            "790/790 [==============================] - 2s 2ms/step - loss: 19457564672.0000 - val_loss: 22771224576.0000\n",
            "Epoch 72/100\n",
            "790/790 [==============================] - 2s 2ms/step - loss: 18985775104.0000 - val_loss: 23435274240.0000\n",
            "Epoch 73/100\n",
            "790/790 [==============================] - 2s 2ms/step - loss: 18657949696.0000 - val_loss: 22805846016.0000\n",
            "Epoch 74/100\n",
            "790/790 [==============================] - 2s 2ms/step - loss: 18439215104.0000 - val_loss: 22207969280.0000\n",
            "Epoch 75/100\n",
            "790/790 [==============================] - 2s 2ms/step - loss: 18437093376.0000 - val_loss: 23260579840.0000\n",
            "Epoch 76/100\n",
            "790/790 [==============================] - 2s 2ms/step - loss: 18317891584.0000 - val_loss: 23975659520.0000\n",
            "Epoch 77/100\n",
            "790/790 [==============================] - 2s 2ms/step - loss: 18145198080.0000 - val_loss: 22984806400.0000\n",
            "Epoch 78/100\n",
            "790/790 [==============================] - 2s 2ms/step - loss: 18017470464.0000 - val_loss: 21894254592.0000\n",
            "Epoch 79/100\n",
            "790/790 [==============================] - 2s 2ms/step - loss: 17826715648.0000 - val_loss: 22572978176.0000\n",
            "Epoch 80/100\n",
            "790/790 [==============================] - 2s 2ms/step - loss: 17303027712.0000 - val_loss: 21853476864.0000\n",
            "Epoch 81/100\n",
            "790/790 [==============================] - 2s 2ms/step - loss: 17238237184.0000 - val_loss: 22610202624.0000\n",
            "Epoch 82/100\n",
            "790/790 [==============================] - 2s 2ms/step - loss: 16969840640.0000 - val_loss: 21236211712.0000\n",
            "Epoch 83/100\n",
            "790/790 [==============================] - 2s 2ms/step - loss: 16742206464.0000 - val_loss: 21880676352.0000\n",
            "Epoch 84/100\n",
            "790/790 [==============================] - 2s 2ms/step - loss: 16569793536.0000 - val_loss: 22255263744.0000\n",
            "Epoch 85/100\n",
            "790/790 [==============================] - 2s 2ms/step - loss: 16663093248.0000 - val_loss: 21020325888.0000\n",
            "Epoch 86/100\n",
            "790/790 [==============================] - 2s 2ms/step - loss: 16315664384.0000 - val_loss: 21559236608.0000\n",
            "Epoch 87/100\n",
            "790/790 [==============================] - 2s 2ms/step - loss: 16112742400.0000 - val_loss: 20749479936.0000\n",
            "Epoch 88/100\n",
            "790/790 [==============================] - 2s 2ms/step - loss: 16058140672.0000 - val_loss: 22117187584.0000\n",
            "Epoch 89/100\n",
            "790/790 [==============================] - 2s 2ms/step - loss: 15802476544.0000 - val_loss: 24181389312.0000\n",
            "Epoch 90/100\n",
            "790/790 [==============================] - 2s 2ms/step - loss: 15773576192.0000 - val_loss: 20792213504.0000\n",
            "Epoch 91/100\n",
            "790/790 [==============================] - 2s 2ms/step - loss: 15758572544.0000 - val_loss: 19632590848.0000\n",
            "Epoch 92/100\n",
            "790/790 [==============================] - 2s 2ms/step - loss: 15460447232.0000 - val_loss: 21014810624.0000\n",
            "Epoch 93/100\n",
            "790/790 [==============================] - 2s 2ms/step - loss: 15098491904.0000 - val_loss: 22561863680.0000\n",
            "Epoch 94/100\n",
            "790/790 [==============================] - 2s 2ms/step - loss: 15367898112.0000 - val_loss: 24108320768.0000\n",
            "Epoch 95/100\n",
            "790/790 [==============================] - 2s 2ms/step - loss: 15093676032.0000 - val_loss: 21035311104.0000\n",
            "Epoch 96/100\n",
            "790/790 [==============================] - 2s 2ms/step - loss: 14932621312.0000 - val_loss: 20604268544.0000\n",
            "Epoch 97/100\n",
            "790/790 [==============================] - 2s 2ms/step - loss: 14977702912.0000 - val_loss: 20174268416.0000\n",
            "Epoch 98/100\n",
            "790/790 [==============================] - 2s 2ms/step - loss: 14639924224.0000 - val_loss: 20451461120.0000\n",
            "Epoch 99/100\n",
            "790/790 [==============================] - 2s 2ms/step - loss: 14451842048.0000 - val_loss: 20594659328.0000\n",
            "Epoch 100/100\n",
            "790/790 [==============================] - 2s 2ms/step - loss: 14726883328.0000 - val_loss: 19269310464.0000\n"
          ]
        },
        {
          "output_type": "display_data",
          "data": {
            "text/plain": [
              "<Figure size 432x288 with 1 Axes>"
            ],
            "image/png": "[encoded data removed]"
          },
          "metadata": {
            "needs_background": "light"
          }
        },
        {
          "output_type": "stream",
          "name": "stdout",
          "text": [
            "MSE: 14683457746.865904\n"
          ]
        }
      ],
      "source": [
        "# 5 Hidden Layers\n",
        "opt = Adam(learning_rate=0.1)\n",
        "model = Sequential()\n",
        "model.add(Dense(16, activation='relu')) #Input layer\n",
        "model.add(Dense(16, activation='relu')) #Hidden layer\n",
        "model.add(Dense(16, activation='relu')) #Hidden layer\n",
        "model.add(Dense(16, activation='relu')) #Hidden layer\n",
        "model.add(Dense(16, activation='relu')) #Hidden layer\n",
        "model.add(Dense(16, activation='relu')) #Hidden layer\n",
        "model.add(Dense(1)) #Output layer\n",
        "model.compile(optimizer = 'adam', loss='mse')\n",
        "model.fit(X_train_std, y_train, validation_data=(X_val_std, y_val), epochs=100, batch_size=16)\n",
        "lr_train_loss = pd.DataFrame(model.history.history)\n",
        "loss_function_graph(lr_train_loss)\n",
        "y_pred = model.predict(X_test_std)\n",
        "print('MSE:', metrics.mean_squared_error(y_test, y_pred))\n",
        "mse.append(metrics.mean_squared_error(y_test, y_pred))"
      ]
    },
    {
      "cell_type": "code",
      "execution_count": null,
      "metadata": {
        "id": "yjMTayDrFhl5"
      },
      "outputs": [],
      "source": [
        "print(mse)\n",
        "x = [0, 1, 2, 3, 4, 5]\n",
        "y = mse\n",
        "plt.plot(x, y)\n",
        "plt.xlabel('Number of Hidden Layers')\n",
        "plt.ylabel('MSE')\n",
        "plt.xticks(np.arange(min(x), max(x)+1, 1.0))\n",
        "plt.xlim([1, 5])\n",
        "plt.ylim([20000000000,60000000000])\n",
        "plt.show()\n"
      ]
    },
    {
      "cell_type": "code",
      "execution_count": null,
      "metadata": {
        "colab": {
          "base_uri": "https://localhost:8080/",
          "height": 454
        },
        "id": "9VLl0Rupbe_E",
        "outputId": "84bf4760-bffd-4e0c-fce4-370f26ea6ed6"
      },
      "outputs": [
        {
          "output_type": "display_data",
          "data": {
            "text/plain": [
              "<Figure size 432x288 with 1 Axes>"
            ],
            "image/png": "[encoded data removed]"
          },
          "metadata": {
            "needs_background": "light"
          }
        },
        {
          "output_type": "stream",
          "name": "stdout",
          "text": [
            "MSE =  29288790241.12536\n"
          ]
        },
        {
          "output_type": "stream",
          "name": "stderr",
          "text": [
            "/usr/local/lib/python3.7/dist-packages/ipykernel_launcher.py:3: DeprecationWarning: KerasRegressor is deprecated, use Sci-Keras (https://github.com/adriangb/scikeras) instead. See https://www.adriangb.com/scikeras/stable/migration.html for help migrating.\n",
            "  This is separate from the ipykernel package so we can avoid doing imports until\n",
            "/usr/local/lib/python3.7/dist-packages/sklearn/model_selection/_search.py:296: UserWarning: The total space of parameters 3 is smaller than n_iter=10. Running 3 iterations. For exhaustive searches, use GridSearchCV.\n",
            "  UserWarning,\n"
          ]
        },
        {
          "output_type": "stream",
          "name": "stdout",
          "text": [
            "For Training: \n",
            "Best Score: 29338138717.681774\n",
            "Best Hyperparameters: {'learning_rate': 0.01}\n"
          ]
        }
      ],
      "source": [
        "# Tuning learning rate\n",
        "model = NN()\n",
        "lr_train_loss = pd.DataFrame(model.history.history)\n",
        "loss_function_graph(lr_train_loss)\n",
        "y_pred1 = model.predict(X_test_std)\n",
        "print('MSE = ', mean_squared_error(y_test, y_pred1))\n",
        "\n",
        "parameters = {'learning_rate':[0.1, 0.01, 0.001]}\n",
        "random_search(parameters)"
      ]
    },
    {
      "cell_type": "code",
      "execution_count": null,
      "metadata": {
        "colab": {
          "base_uri": "https://localhost:8080/",
          "height": 454
        },
        "id": "OzX5UR7e9ohT",
        "outputId": "abbb9e63-458e-46f1-be69-1487ed405d35"
      },
      "outputs": [
        {
          "output_type": "display_data",
          "data": {
            "text/plain": [
              "<Figure size 432x288 with 1 Axes>"
            ],
            "image/png": "[encoded data removed]"
          },
          "metadata": {
            "needs_background": "light"
          }
        },
        {
          "output_type": "stream",
          "name": "stdout",
          "text": [
            "MSE =  28726286036.706173\n"
          ]
        },
        {
          "output_type": "stream",
          "name": "stderr",
          "text": [
            "/usr/local/lib/python3.7/dist-packages/ipykernel_launcher.py:3: DeprecationWarning: KerasRegressor is deprecated, use Sci-Keras (https://github.com/adriangb/scikeras) instead. See https://www.adriangb.com/scikeras/stable/migration.html for help migrating.\n",
            "  This is separate from the ipykernel package so we can avoid doing imports until\n",
            "/usr/local/lib/python3.7/dist-packages/sklearn/model_selection/_search.py:296: UserWarning: The total space of parameters 3 is smaller than n_iter=10. Running 3 iterations. For exhaustive searches, use GridSearchCV.\n",
            "  UserWarning,\n"
          ]
        },
        {
          "output_type": "stream",
          "name": "stdout",
          "text": [
            "For Training: \n",
            "Best Score: 28293399036.46685\n",
            "Best Hyperparameters: {'batch_size': 16}\n"
          ]
        }
      ],
      "source": [
        "# Tuning batch size\n",
        "model = NN(optimizer = 'adam',neurons=16,batch_size=32,epochs=50,activation='relu',loss='mse', learning_rate=0.01)\n",
        "lr_train_loss = pd.DataFrame(model.history.history)\n",
        "loss_function_graph(lr_train_loss)\n",
        "y_pred2 = model.predict(X_test_std)\n",
        "print('MSE = ', mean_squared_error(y_test, y_pred2))\n",
        "\n",
        "\n",
        "parameters = {'batch_size':[16,32,64]}\n",
        "random_search(parameters)"
      ]
    },
    {
      "cell_type": "code",
      "execution_count": null,
      "metadata": {
        "id": "FwI5Y9-1D4-m",
        "colab": {
          "base_uri": "https://localhost:8080/",
          "height": 454
        },
        "outputId": "bbb02305-4b68-4717-fc50-a82ac8655014"
      },
      "outputs": [
        {
          "output_type": "display_data",
          "data": {
            "text/plain": [
              "<Figure size 432x288 with 1 Axes>"
            ],
            "image/png": "[encoded data removed]"
          },
          "metadata": {
            "needs_background": "light"
          }
        },
        {
          "output_type": "stream",
          "name": "stdout",
          "text": [
            "MSE =  27652754189.502632\n"
          ]
        },
        {
          "output_type": "stream",
          "name": "stderr",
          "text": [
            "/usr/local/lib/python3.7/dist-packages/ipykernel_launcher.py:3: DeprecationWarning: KerasRegressor is deprecated, use Sci-Keras (https://github.com/adriangb/scikeras) instead. See https://www.adriangb.com/scikeras/stable/migration.html for help migrating.\n",
            "  This is separate from the ipykernel package so we can avoid doing imports until\n",
            "/usr/local/lib/python3.7/dist-packages/sklearn/model_selection/_search.py:296: UserWarning: The total space of parameters 3 is smaller than n_iter=10. Running 3 iterations. For exhaustive searches, use GridSearchCV.\n",
            "  UserWarning,\n"
          ]
        },
        {
          "output_type": "stream",
          "name": "stdout",
          "text": [
            "For Training: \n",
            "Best Score: 26904493398.499054\n",
            "Best Hyperparameters: {'epochs': 100}\n"
          ]
        }
      ],
      "source": [
        "# Tuning the epochs\n",
        "model = NN(optimizer = 'adam',neurons=16,batch_size=16,epochs=50,activation='relu',loss='mse', learning_rate=0.01)\n",
        "lr_train_loss = pd.DataFrame(model.history.history)\n",
        "loss_function_graph(lr_train_loss)\n",
        "y_pred3 = model.predict(X_test_std)\n",
        "print('MSE = ', mean_squared_error(y_test, y_pred3))\n",
        "\n",
        "\n",
        "parameters = {'epochs':[25,50,100]}\n",
        "random_search(parameters)"
      ]
    },
    {
      "cell_type": "code",
      "execution_count": null,
      "metadata": {
        "id": "qXgUkKWZI_z4",
        "colab": {
          "base_uri": "https://localhost:8080/",
          "height": 454
        },
        "outputId": "1a9eeb69-461c-495e-f1fd-97f9b8891765"
      },
      "outputs": [
        {
          "output_type": "display_data",
          "data": {
            "text/plain": [
              "<Figure size 432x288 with 1 Axes>"
            ],
            "image/png": "[encoded data removed]"
          },
          "metadata": {
            "needs_background": "light"
          }
        },
        {
          "output_type": "stream",
          "name": "stdout",
          "text": [
            "MSE =  24837584193.088055\n"
          ]
        },
        {
          "output_type": "stream",
          "name": "stderr",
          "text": [
            "/usr/local/lib/python3.7/dist-packages/ipykernel_launcher.py:3: DeprecationWarning: KerasRegressor is deprecated, use Sci-Keras (https://github.com/adriangb/scikeras) instead. See https://www.adriangb.com/scikeras/stable/migration.html for help migrating.\n",
            "  This is separate from the ipykernel package so we can avoid doing imports until\n",
            "/usr/local/lib/python3.7/dist-packages/sklearn/model_selection/_search.py:296: UserWarning: The total space of parameters 3 is smaller than n_iter=10. Running 3 iterations. For exhaustive searches, use GridSearchCV.\n",
            "  UserWarning,\n"
          ]
        },
        {
          "output_type": "stream",
          "name": "stdout",
          "text": [
            "For Training: \n",
            "Best Score: 29290018043.23878\n",
            "Best Hyperparameters: {'activation': 'relu'}\n"
          ]
        }
      ],
      "source": [
        "# Tuning the activation functions\n",
        "model = NN(optimizer = 'adam',neurons=16,batch_size=16,epochs=100,activation='relu',loss='mse', learning_rate=0.01)\n",
        "af_train_loss = pd.DataFrame(model.history.history)\n",
        "loss_function_graph(af_train_loss)\n",
        "y_pred4 = model.predict(X_test_std)\n",
        "print('MSE = ', mean_squared_error(y_test, y_pred4))\n",
        "\n",
        "\n",
        "parameters = {'activation':['relu', 'tanh', 'sigmoid']}\n",
        "random_search(parameters)"
      ]
    },
    {
      "cell_type": "code",
      "execution_count": null,
      "metadata": {
        "id": "kPMWXFwdFMFt",
        "colab": {
          "base_uri": "https://localhost:8080/",
          "height": 454
        },
        "outputId": "82503efd-d626-4e60-fd8c-0aca8b677d6a"
      },
      "outputs": [
        {
          "output_type": "display_data",
          "data": {
            "text/plain": [
              "<Figure size 432x288 with 1 Axes>"
            ],
            "image/png": "[encoded data removed]"
          },
          "metadata": {
            "needs_background": "light"
          }
        },
        {
          "output_type": "stream",
          "name": "stdout",
          "text": [
            "MSE =  25758081124.83682\n"
          ]
        },
        {
          "output_type": "stream",
          "name": "stderr",
          "text": [
            "/usr/local/lib/python3.7/dist-packages/ipykernel_launcher.py:3: DeprecationWarning: KerasRegressor is deprecated, use Sci-Keras (https://github.com/adriangb/scikeras) instead. See https://www.adriangb.com/scikeras/stable/migration.html for help migrating.\n",
            "  This is separate from the ipykernel package so we can avoid doing imports until\n",
            "/usr/local/lib/python3.7/dist-packages/sklearn/model_selection/_search.py:296: UserWarning: The total space of parameters 2 is smaller than n_iter=10. Running 2 iterations. For exhaustive searches, use GridSearchCV.\n",
            "  UserWarning,\n"
          ]
        },
        {
          "output_type": "stream",
          "name": "stdout",
          "text": [
            "For Training: \n",
            "Best Score: 29150317029.149017\n",
            "Best Hyperparameters: {'optimizer': 'Adam'}\n"
          ]
        }
      ],
      "source": [
        "#Tuning the optimizers\n",
        "model = NN(optimizer = 'adam',neurons=16,batch_size=16,epochs=100,activation='relu',loss='mse', learning_rate=0.01)\n",
        "lr_train_loss = pd.DataFrame(model.history.history)\n",
        "loss_function_graph(lr_train_loss)\n",
        "y_pred5 = model.predict(X_test_std)\n",
        "print('MSE = ', mean_squared_error(y_test, y_pred5))\n",
        "\n",
        "\n",
        "parameters = {'optimizer':['Adam','RMSprop', 'Adagrad']}\n",
        "random_search(parameters)"
      ]
    },
    {
      "cell_type": "code",
      "execution_count": null,
      "metadata": {
        "id": "jhq4m8IOIzzI",
        "colab": {
          "base_uri": "https://localhost:8080/",
          "height": 454
        },
        "outputId": "4c93a302-9a85-495e-d658-9b12de394a89"
      },
      "outputs": [
        {
          "output_type": "display_data",
          "data": {
            "text/plain": [
              "<Figure size 432x288 with 1 Axes>"
            ],
            "image/png": "[encoded data removed]"
          },
          "metadata": {
            "needs_background": "light"
          }
        },
        {
          "output_type": "stream",
          "name": "stdout",
          "text": [
            "MSE =  27238544124.414692\n"
          ]
        },
        {
          "output_type": "stream",
          "name": "stderr",
          "text": [
            "/usr/local/lib/python3.7/dist-packages/ipykernel_launcher.py:3: DeprecationWarning: KerasRegressor is deprecated, use Sci-Keras (https://github.com/adriangb/scikeras) instead. See https://www.adriangb.com/scikeras/stable/migration.html for help migrating.\n",
            "  This is separate from the ipykernel package so we can avoid doing imports until\n",
            "/usr/local/lib/python3.7/dist-packages/sklearn/model_selection/_search.py:296: UserWarning: The total space of parameters 2 is smaller than n_iter=10. Running 2 iterations. For exhaustive searches, use GridSearchCV.\n",
            "  UserWarning,\n"
          ]
        },
        {
          "output_type": "stream",
          "name": "stdout",
          "text": [
            "For Training: \n",
            "Best Score: 29273362774.33842\n",
            "Best Hyperparameters: {'loss': 'mse'}\n"
          ]
        }
      ],
      "source": [
        "#Tuning the loss function\n",
        "model = NN(optimizer = 'adam',neurons=16,batch_size=16,epochs=100,activation='relu',loss='mse', learning_rate=0.01)\n",
        "lr_train_loss = pd.DataFrame(model.history.history)\n",
        "loss_function_graph(lr_train_loss)\n",
        "y_pred6 = model.predict(X_test_std)\n",
        "print('MSE = ', mean_squared_error(y_test, y_pred6))\n",
        "\n",
        "\n",
        "parameters = {'loss':['mse', 'mae']}\n",
        "random_search(parameters)"
      ]
    },
    {
      "cell_type": "code",
      "execution_count": null,
      "metadata": {
        "id": "nWCvfJ1AOLHu",
        "colab": {
          "base_uri": "https://localhost:8080/",
          "height": 454
        },
        "outputId": "85efe5a4-6b9d-4bdf-9593-faaaaea18d0b"
      },
      "outputs": [
        {
          "output_type": "display_data",
          "data": {
            "text/plain": [
              "<Figure size 432x288 with 1 Axes>"
            ],
            "image/png": "[encoded data removed]"
          },
          "metadata": {
            "needs_background": "light"
          }
        },
        {
          "output_type": "stream",
          "name": "stdout",
          "text": [
            "MSE =  27590266272.67395\n"
          ]
        },
        {
          "output_type": "stream",
          "name": "stderr",
          "text": [
            "/usr/local/lib/python3.7/dist-packages/ipykernel_launcher.py:3: DeprecationWarning: KerasRegressor is deprecated, use Sci-Keras (https://github.com/adriangb/scikeras) instead. See https://www.adriangb.com/scikeras/stable/migration.html for help migrating.\n",
            "  This is separate from the ipykernel package so we can avoid doing imports until\n",
            "/usr/local/lib/python3.7/dist-packages/sklearn/model_selection/_search.py:296: UserWarning: The total space of parameters 3 is smaller than n_iter=10. Running 3 iterations. For exhaustive searches, use GridSearchCV.\n",
            "  UserWarning,\n"
          ]
        },
        {
          "output_type": "stream",
          "name": "stdout",
          "text": [
            "For Training: \n",
            "Best Score: 27983144083.220467\n",
            "Best Hyperparameters: {'neurons': 32}\n"
          ]
        }
      ],
      "source": [
        "#Tuning the number of neurons\n",
        "model = NN(optimizer = 'adam',neurons=16,batch_size=16,epochs=100,activation='relu',loss='mse', learning_rate=0.01)\n",
        "lr_train_loss = pd.DataFrame(model.history.history)\n",
        "loss_function_graph(lr_train_loss)\n",
        "y_pred7 = model.predict(X_test_std)\n",
        "print('MSE = ', mean_squared_error(y_test, y_pred7))\n",
        "\n",
        "\n",
        "parameters = {'neurons':[8,16,32]}\n",
        "random_search(parameters)"
      ]
    },
    {
      "cell_type": "code",
      "source": [
        "# Create Best Models\n",
        "opt = Adam(learning_rate=0.1)\n",
        "bestmodel = Sequential()\n",
        "bestmodel.add(Dense(16, activation='relu')) #Input layer\n",
        "bestmodel.add(Dense(16, activation='relu')) #Hidden layer\n",
        "bestmodel.add(Dense(16, activation='relu')) #Hidden layer\n",
        "bestmodel.add(Dense(16, activation='relu')) #Hidden layer\n",
        "bestmodel.add(Dense(16, activation='relu')) #Hidden layer\n",
        "bestmodel.add(Dense(16, activation='relu')) #Hidden layer\n",
        "bestmodel.add(Dense(1)) #Output layer\n",
        "bestmodel.compile(optimizer = 'adam', loss='mse')\n",
        "bestmodel.fit(X_train_std, y_train, validation_data=(X_val_std, y_val), epochs=100, batch_size=16)\n",
        "\n",
        "y_pred = bestmodel.predict(X_test_std)\n",
        "print('MSE:', metrics.mean_squared_error(y_test, y_pred))\n",
        "mse.append(metrics.mean_squared_error(y_test, y_pred))\n",
        "\n",
        "\n",
        "pred_y = bestmodel.predict(X_test_std)\n",
        "print('MSE:', metrics.mean_squared_error(y_test, pred_y))\n",
        "print(\"r-squared score is {} values. RMSE is {}\".format(r2_score(y_test, pred_y), len(y_test), mean_squared_error(y_test, pred_y)))\n",
        "\n",
        "plt.scatter(y_test, pred_y)\n",
        "plt.xlabel(\"Actual Values\")\n",
        "plt.ylabel('Predicted Values')"
      ],
      "metadata": {
        "colab": {
          "base_uri": "https://localhost:8080/",
          "height": 1000
        },
        "id": "Gzev5LAEdQ3D",
        "outputId": "189e199d-16ae-4c7d-f40a-1ea5e385b32c"
      },
      "execution_count": null,
      "outputs": [
        {
          "output_type": "stream",
          "name": "stdout",
          "text": [
            "Epoch 1/130\n",
            "790/790 [==============================] - 2s 2ms/step - loss: 388017.4062 - val_loss: 220038.8750\n",
            "Epoch 2/130\n",
            "790/790 [==============================] - 1s 2ms/step - loss: 186274.2031 - val_loss: 160084.2500\n",
            "Epoch 3/130\n",
            "790/790 [==============================] - 1s 1ms/step - loss: 146601.3438 - val_loss: 133496.8906\n",
            "Epoch 4/130\n",
            "790/790 [==============================] - 1s 1ms/step - loss: 129168.2266 - val_loss: 121693.0312\n",
            "Epoch 5/130\n",
            "790/790 [==============================] - 1s 1ms/step - loss: 120110.9219 - val_loss: 115680.2266\n",
            "Epoch 6/130\n",
            "790/790 [==============================] - 1s 2ms/step - loss: 115542.3672 - val_loss: 112527.0312\n",
            "Epoch 7/130\n",
            "790/790 [==============================] - 1s 2ms/step - loss: 113475.3828 - val_loss: 111237.9219\n",
            "Epoch 8/130\n",
            "790/790 [==============================] - 1s 1ms/step - loss: 112281.8594 - val_loss: 110334.2344\n",
            "Epoch 9/130\n",
            "790/790 [==============================] - 1s 1ms/step - loss: 111524.5156 - val_loss: 109763.6094\n",
            "Epoch 10/130\n",
            "790/790 [==============================] - 1s 2ms/step - loss: 110911.9062 - val_loss: 109411.1953\n",
            "Epoch 11/130\n",
            "790/790 [==============================] - 1s 2ms/step - loss: 110509.1562 - val_loss: 109199.2422\n",
            "Epoch 12/130\n",
            "790/790 [==============================] - 1s 1ms/step - loss: 110046.7578 - val_loss: 108703.1484\n",
            "Epoch 13/130\n",
            "790/790 [==============================] - 1s 1ms/step - loss: 109703.3125 - val_loss: 108518.5938\n",
            "Epoch 14/130\n",
            "790/790 [==============================] - 1s 1ms/step - loss: 109354.0469 - val_loss: 108057.2109\n",
            "Epoch 15/130\n",
            "790/790 [==============================] - 1s 2ms/step - loss: 109065.1484 - val_loss: 107662.3594\n",
            "Epoch 16/130\n",
            "790/790 [==============================] - 1s 1ms/step - loss: 108806.1172 - val_loss: 107539.5391\n",
            "Epoch 17/130\n",
            "790/790 [==============================] - 1s 1ms/step - loss: 108556.4062 - val_loss: 107319.6562\n",
            "Epoch 18/130\n",
            "790/790 [==============================] - 1s 1ms/step - loss: 108330.5859 - val_loss: 106953.8125\n",
            "Epoch 19/130\n",
            "790/790 [==============================] - 1s 2ms/step - loss: 108055.7344 - val_loss: 106813.0625\n",
            "Epoch 20/130\n",
            "790/790 [==============================] - 1s 2ms/step - loss: 107912.1250 - val_loss: 106648.2969\n",
            "Epoch 21/130\n",
            "790/790 [==============================] - 1s 1ms/step - loss: 107746.2656 - val_loss: 106476.9766\n",
            "Epoch 22/130\n",
            "790/790 [==============================] - 1s 2ms/step - loss: 107613.3125 - val_loss: 106098.2266\n",
            "Epoch 23/130\n",
            "790/790 [==============================] - 1s 2ms/step - loss: 107365.6328 - val_loss: 106018.6484\n",
            "Epoch 24/130\n",
            "790/790 [==============================] - 1s 1ms/step - loss: 107208.1406 - val_loss: 105847.1797\n",
            "Epoch 25/130\n",
            "790/790 [==============================] - 1s 1ms/step - loss: 107052.1641 - val_loss: 105728.3594\n",
            "Epoch 26/130\n",
            "790/790 [==============================] - 1s 2ms/step - loss: 106866.4297 - val_loss: 105994.4766\n",
            "Epoch 27/130\n",
            "790/790 [==============================] - 1s 1ms/step - loss: 106745.0312 - val_loss: 105478.2344\n",
            "Epoch 28/130\n",
            "790/790 [==============================] - 1s 2ms/step - loss: 106681.8828 - val_loss: 105452.2266\n",
            "Epoch 29/130\n",
            "790/790 [==============================] - 1s 2ms/step - loss: 106535.4219 - val_loss: 105422.3672\n",
            "Epoch 30/130\n",
            "790/790 [==============================] - 1s 1ms/step - loss: 106561.4922 - val_loss: 105433.7344\n",
            "Epoch 31/130\n",
            "790/790 [==============================] - 1s 1ms/step - loss: 106331.9297 - val_loss: 105210.2656\n",
            "Epoch 32/130\n",
            "790/790 [==============================] - 1s 2ms/step - loss: 106245.7031 - val_loss: 104896.1016\n",
            "Epoch 33/130\n",
            "790/790 [==============================] - 1s 2ms/step - loss: 106204.2656 - val_loss: 105120.0156\n",
            "Epoch 34/130\n",
            "790/790 [==============================] - 1s 1ms/step - loss: 106166.1875 - val_loss: 104966.2656\n",
            "Epoch 35/130\n",
            "790/790 [==============================] - 1s 1ms/step - loss: 106038.2656 - val_loss: 104805.1719\n",
            "Epoch 36/130\n",
            "790/790 [==============================] - 1s 1ms/step - loss: 105952.8125 - val_loss: 104735.2031\n",
            "Epoch 37/130\n",
            "790/790 [==============================] - 1s 2ms/step - loss: 105971.9844 - val_loss: 104846.8672\n",
            "Epoch 38/130\n",
            "790/790 [==============================] - 1s 1ms/step - loss: 105869.2812 - val_loss: 104631.4297\n",
            "Epoch 39/130\n",
            "790/790 [==============================] - 1s 2ms/step - loss: 105849.2344 - val_loss: 104636.9531\n",
            "Epoch 40/130\n",
            "790/790 [==============================] - 1s 1ms/step - loss: 105654.1562 - val_loss: 104723.7734\n",
            "Epoch 41/130\n",
            "790/790 [==============================] - 1s 1ms/step - loss: 105662.4219 - val_loss: 104789.5781\n",
            "Epoch 42/130\n",
            "790/790 [==============================] - 1s 1ms/step - loss: 105598.5781 - val_loss: 104685.3281\n",
            "Epoch 43/130\n",
            "790/790 [==============================] - 1s 2ms/step - loss: 105603.0625 - val_loss: 104538.9375\n",
            "Epoch 44/130\n",
            "790/790 [==============================] - 1s 1ms/step - loss: 105576.4453 - val_loss: 104480.3203\n",
            "Epoch 45/130\n",
            "790/790 [==============================] - 1s 1ms/step - loss: 105523.2344 - val_loss: 104446.2812\n",
            "Epoch 46/130\n",
            "790/790 [==============================] - 1s 1ms/step - loss: 105477.6406 - val_loss: 104550.9297\n",
            "Epoch 47/130\n",
            "790/790 [==============================] - 1s 2ms/step - loss: 105464.0859 - val_loss: 104478.0312\n",
            "Epoch 48/130\n",
            "790/790 [==============================] - 1s 1ms/step - loss: 105341.9219 - val_loss: 104379.5469\n",
            "Epoch 49/130\n",
            "790/790 [==============================] - 1s 1ms/step - loss: 105334.4844 - val_loss: 104544.1797\n",
            "Epoch 50/130\n",
            "790/790 [==============================] - 1s 2ms/step - loss: 105263.8516 - val_loss: 104392.3594\n",
            "Epoch 51/130\n",
            "790/790 [==============================] - 1s 1ms/step - loss: 105255.5234 - val_loss: 104353.0156\n",
            "Epoch 52/130\n",
            "790/790 [==============================] - 1s 1ms/step - loss: 105216.7969 - val_loss: 104564.1797\n",
            "Epoch 53/130\n",
            "790/790 [==============================] - 1s 1ms/step - loss: 105150.1562 - val_loss: 104217.2656\n",
            "Epoch 54/130\n",
            "790/790 [==============================] - 1s 2ms/step - loss: 105083.1484 - val_loss: 104433.4062\n",
            "Epoch 55/130\n",
            "790/790 [==============================] - 1s 2ms/step - loss: 105136.5625 - val_loss: 104605.8281\n",
            "Epoch 56/130\n",
            "790/790 [==============================] - 1s 1ms/step - loss: 105103.5703 - val_loss: 104178.9141\n",
            "Epoch 57/130\n",
            "790/790 [==============================] - 1s 1ms/step - loss: 105084.5234 - val_loss: 104299.1172\n",
            "Epoch 58/130\n",
            "790/790 [==============================] - 1s 1ms/step - loss: 104966.0703 - val_loss: 104238.0547\n",
            "Epoch 59/130\n",
            "790/790 [==============================] - 1s 2ms/step - loss: 104927.4844 - val_loss: 104465.7656\n",
            "Epoch 60/130\n",
            "790/790 [==============================] - 1s 2ms/step - loss: 104935.1016 - val_loss: 104196.8750\n",
            "Epoch 61/130\n",
            "790/790 [==============================] - 1s 2ms/step - loss: 104870.1484 - val_loss: 104208.4766\n",
            "Epoch 62/130\n",
            "790/790 [==============================] - 1s 1ms/step - loss: 104846.3438 - val_loss: 104118.0547\n",
            "Epoch 63/130\n",
            "790/790 [==============================] - 1s 1ms/step - loss: 104777.5156 - val_loss: 104226.2969\n",
            "Epoch 64/130\n",
            "790/790 [==============================] - 1s 2ms/step - loss: 104693.0781 - val_loss: 104251.4844\n",
            "Epoch 65/130\n",
            "790/790 [==============================] - 1s 1ms/step - loss: 104747.4766 - val_loss: 104106.2422\n",
            "Epoch 66/130\n",
            "790/790 [==============================] - 1s 1ms/step - loss: 104693.8594 - val_loss: 104264.5469\n",
            "Epoch 67/130\n",
            "790/790 [==============================] - 1s 2ms/step - loss: 104690.4297 - val_loss: 104216.6094\n",
            "Epoch 68/130\n",
            "790/790 [==============================] - 1s 2ms/step - loss: 104637.2891 - val_loss: 104161.8828\n",
            "Epoch 69/130\n",
            "790/790 [==============================] - 1s 2ms/step - loss: 104559.8125 - val_loss: 104234.8984\n",
            "Epoch 70/130\n",
            "790/790 [==============================] - 1s 1ms/step - loss: 104563.6953 - val_loss: 103991.8594\n",
            "Epoch 71/130\n",
            "790/790 [==============================] - 1s 2ms/step - loss: 104498.0312 - val_loss: 103930.1172\n",
            "Epoch 72/130\n",
            "790/790 [==============================] - 1s 1ms/step - loss: 104420.4297 - val_loss: 104097.5156\n",
            "Epoch 73/130\n",
            "790/790 [==============================] - 1s 1ms/step - loss: 104420.2656 - val_loss: 103983.5078\n",
            "Epoch 74/130\n",
            "790/790 [==============================] - 1s 2ms/step - loss: 104372.4922 - val_loss: 103735.7031\n",
            "Epoch 75/130\n",
            "790/790 [==============================] - 1s 1ms/step - loss: 104357.5547 - val_loss: 103946.6953\n",
            "Epoch 76/130\n",
            "790/790 [==============================] - 1s 2ms/step - loss: 104308.9688 - val_loss: 104029.4922\n",
            "Epoch 77/130\n",
            "790/790 [==============================] - 1s 1ms/step - loss: 104229.6562 - val_loss: 104188.7578\n",
            "Epoch 78/130\n",
            "790/790 [==============================] - 1s 1ms/step - loss: 104191.3203 - val_loss: 103821.5312\n",
            "Epoch 79/130\n",
            "790/790 [==============================] - 1s 1ms/step - loss: 104133.6094 - val_loss: 103854.5234\n",
            "Epoch 80/130\n",
            "790/790 [==============================] - 1s 1ms/step - loss: 104085.3750 - val_loss: 103795.2266\n",
            "Epoch 81/130\n",
            "790/790 [==============================] - 1s 1ms/step - loss: 104079.5312 - val_loss: 103782.8906\n",
            "Epoch 82/130\n",
            "790/790 [==============================] - 1s 1ms/step - loss: 103963.0859 - val_loss: 104025.5312\n",
            "Epoch 83/130\n",
            "790/790 [==============================] - 1s 1ms/step - loss: 103898.6328 - val_loss: 104275.9453\n",
            "Epoch 84/130\n",
            "790/790 [==============================] - 1s 1ms/step - loss: 103958.9453 - val_loss: 103699.1562\n",
            "Epoch 85/130\n",
            "790/790 [==============================] - 1s 1ms/step - loss: 103835.9922 - val_loss: 103662.3672\n",
            "Epoch 86/130\n",
            "790/790 [==============================] - 1s 2ms/step - loss: 103852.9766 - val_loss: 103659.8203\n",
            "Epoch 87/130\n",
            "790/790 [==============================] - 1s 1ms/step - loss: 103820.8125 - val_loss: 103742.5156\n",
            "Epoch 88/130\n",
            "790/790 [==============================] - 1s 2ms/step - loss: 103690.0312 - val_loss: 103501.3359\n",
            "Epoch 89/130\n",
            "790/790 [==============================] - 1s 1ms/step - loss: 103724.6641 - val_loss: 103618.2188\n",
            "Epoch 90/130\n",
            "790/790 [==============================] - 1s 1ms/step - loss: 103636.2812 - val_loss: 103438.1562\n",
            "Epoch 91/130\n",
            "790/790 [==============================] - 1s 2ms/step - loss: 103579.5391 - val_loss: 103397.0781\n",
            "Epoch 92/130\n",
            "790/790 [==============================] - 1s 1ms/step - loss: 103475.2969 - val_loss: 103750.6328\n",
            "Epoch 93/130\n",
            "790/790 [==============================] - 1s 2ms/step - loss: 103446.6641 - val_loss: 103569.3047\n",
            "Epoch 94/130\n",
            "790/790 [==============================] - 1s 1ms/step - loss: 103403.1562 - val_loss: 103449.2734\n",
            "Epoch 95/130\n",
            "790/790 [==============================] - 1s 2ms/step - loss: 103299.6328 - val_loss: 103228.0938\n",
            "Epoch 96/130\n",
            "790/790 [==============================] - 1s 1ms/step - loss: 103309.6875 - val_loss: 103231.0234\n",
            "Epoch 97/130\n",
            "790/790 [==============================] - 1s 2ms/step - loss: 103186.0703 - val_loss: 103247.1797\n",
            "Epoch 98/130\n",
            "790/790 [==============================] - 1s 1ms/step - loss: 103156.8203 - val_loss: 103112.2266\n",
            "Epoch 99/130\n",
            "790/790 [==============================] - 1s 2ms/step - loss: 103082.4062 - val_loss: 103100.3984\n",
            "Epoch 100/130\n",
            "790/790 [==============================] - 1s 1ms/step - loss: 103033.7109 - val_loss: 103146.5312\n",
            "Epoch 101/130\n",
            "790/790 [==============================] - 1s 2ms/step - loss: 102946.2500 - val_loss: 103211.5703\n",
            "Epoch 102/130\n",
            "790/790 [==============================] - 1s 1ms/step - loss: 102885.9688 - val_loss: 103064.0156\n",
            "Epoch 103/130\n",
            "790/790 [==============================] - 1s 1ms/step - loss: 102820.7188 - val_loss: 103214.1719\n",
            "Epoch 104/130\n",
            "790/790 [==============================] - 1s 2ms/step - loss: 102778.2266 - val_loss: 103039.1016\n",
            "Epoch 105/130\n",
            "790/790 [==============================] - 1s 1ms/step - loss: 102666.0469 - val_loss: 103073.9766\n",
            "Epoch 106/130\n",
            "790/790 [==============================] - 1s 2ms/step - loss: 102634.2109 - val_loss: 102887.8594\n",
            "Epoch 107/130\n",
            "790/790 [==============================] - 1s 1ms/step - loss: 102555.9609 - val_loss: 102776.6797\n",
            "Epoch 108/130\n",
            "790/790 [==============================] - 1s 1ms/step - loss: 102516.3125 - val_loss: 102662.1406\n",
            "Epoch 109/130\n",
            "790/790 [==============================] - 1s 1ms/step - loss: 102467.3203 - val_loss: 102766.9766\n",
            "Epoch 110/130\n",
            "790/790 [==============================] - 1s 1ms/step - loss: 102388.8906 - val_loss: 102965.4922\n",
            "Epoch 111/130\n",
            "790/790 [==============================] - 1s 1ms/step - loss: 102292.7656 - val_loss: 102648.6562\n",
            "Epoch 112/130\n",
            "790/790 [==============================] - 1s 1ms/step - loss: 102266.9844 - val_loss: 102599.6250\n",
            "Epoch 113/130\n",
            "790/790 [==============================] - 1s 1ms/step - loss: 102173.5703 - val_loss: 102778.5078\n",
            "Epoch 114/130\n",
            "790/790 [==============================] - 1s 2ms/step - loss: 102221.5000 - val_loss: 102497.2266\n",
            "Epoch 115/130\n",
            "790/790 [==============================] - 1s 2ms/step - loss: 102127.4297 - val_loss: 102633.3281\n",
            "Epoch 116/130\n",
            "790/790 [==============================] - 1s 2ms/step - loss: 102059.2109 - val_loss: 102676.8047\n",
            "Epoch 117/130\n",
            "790/790 [==============================] - 1s 1ms/step - loss: 101988.6016 - val_loss: 102603.0547\n",
            "Epoch 118/130\n",
            "790/790 [==============================] - 1s 2ms/step - loss: 101950.8750 - val_loss: 102525.0391\n",
            "Epoch 119/130\n",
            "790/790 [==============================] - 1s 2ms/step - loss: 101959.2422 - val_loss: 102394.9531\n",
            "Epoch 120/130\n",
            "790/790 [==============================] - 1s 1ms/step - loss: 101933.2188 - val_loss: 102258.0000\n",
            "Epoch 121/130\n",
            "790/790 [==============================] - 1s 1ms/step - loss: 101835.5469 - val_loss: 102190.8281\n",
            "Epoch 122/130\n",
            "790/790 [==============================] - 1s 2ms/step - loss: 101865.4688 - val_loss: 102162.4219\n",
            "Epoch 123/130\n",
            "790/790 [==============================] - 2s 2ms/step - loss: 101832.2344 - val_loss: 102180.6562\n",
            "Epoch 124/130\n",
            "790/790 [==============================] - 1s 2ms/step - loss: 101794.1562 - val_loss: 101927.9922\n",
            "Epoch 125/130\n",
            "790/790 [==============================] - 2s 2ms/step - loss: 101754.4453 - val_loss: 101975.4531\n",
            "Epoch 126/130\n",
            "790/790 [==============================] - 2s 2ms/step - loss: 101703.5781 - val_loss: 102069.0312\n",
            "Epoch 127/130\n",
            "790/790 [==============================] - 2s 3ms/step - loss: 101697.5156 - val_loss: 101941.8984\n",
            "Epoch 128/130\n",
            "790/790 [==============================] - 3s 4ms/step - loss: 101644.6094 - val_loss: 102035.9141\n",
            "Epoch 129/130\n",
            "790/790 [==============================] - 2s 2ms/step - loss: 101657.0312 - val_loss: 102376.2891\n",
            "Epoch 130/130\n",
            "790/790 [==============================] - 3s 3ms/step - loss: 101631.3594 - val_loss: 101911.4297\n",
            "r-squared score is 0.7518973386246911 values. RMSE is 4213\n"
          ]
        },
        {
          "output_type": "execute_result",
          "data": {
            "text/plain": [
              "Text(0, 0.5, 'Predicted Values')"
            ]
          },
          "metadata": {},
          "execution_count": 58
        },
        {
          "output_type": "display_data",
          "data": {
            "text/plain": [
              "<Figure size 432x288 with 1 Axes>"
            ],
            "image/png": "[encoded data removed]"
          },
          "metadata": {
            "needs_background": "light"
          }
        }
      ]
    },
    {
      "cell_type": "code",
      "source": [
        "# Create Best Models\n",
        "opt = Adam(learning_rate=0.01)\n",
        "bestmodel = Sequential()\n",
        "bestmodel.add(Dense(16, activation='relu')) #Input layer\n",
        "bestmodel.add(Dense(40, activation='relu')) #Hidden layer\n",
        "bestmodel.add(Dense(40, activation='relu')) #Hidden layer\n",
        "bestmodel.add(Dense(40, activation='relu')) #Hidden layer\n",
        "bestmodel.add(Dense(40, activation='relu')) #Hidden layer\n",
        "bestmodel.add(Dense(40, activation='relu')) #Hidden layer\n",
        "bestmodel.add(Dense(1)) #Output layer\n",
        "bestmodel.compile(optimizer = 'adam', loss='mse')\n",
        "bestmodel.fit(X_train_std, y_train, validation_data=(X_val_std, y_val), epochs=100, batch_size=16)\n",
        "\n",
        "pred_y = bestmodel.predict(X_test_std)\n",
        "print('MSE:', metrics.mean_squared_error(y_test, y_pred))\n",
        "mse.append(metrics.mean_squared_error(y_test, y_pred))\n",
        "\n",
        "print('MSE:', metrics.mean_squared_error(y_test, pred_y))\n",
        "print(\"r-squared score is {} values. RMSE is {}\".format(r2_score(y_test, pred_y), len(y_test), mean_squared_error(y_test, pred_y)))\n",
        "\n",
        "plt.scatter(y_test, pred_y)\n",
        "plt.xlabel(\"Actual Values\")\n",
        "plt.ylabel('Predicted Values')"
      ],
      "metadata": {
        "colab": {
          "base_uri": "https://localhost:8080/",
          "height": 1000
        },
        "outputId": "20566752-271c-4b01-8108-8d77ba97d850",
        "id": "OTOU5uXpBsoi"
      },
      "execution_count": null,
      "outputs": [
        {
          "output_type": "stream",
          "name": "stdout",
          "text": [
            "Epoch 1/100\n",
            "790/790 [==============================] - 2s 2ms/step - loss: 120117600256.0000 - val_loss: 39924465664.0000\n",
            "Epoch 2/100\n",
            "790/790 [==============================] - 2s 2ms/step - loss: 41385455616.0000 - val_loss: 37068365824.0000\n",
            "Epoch 3/100\n",
            "790/790 [==============================] - 2s 2ms/step - loss: 38907363328.0000 - val_loss: 36186046464.0000\n",
            "Epoch 4/100\n",
            "790/790 [==============================] - 2s 2ms/step - loss: 37834280960.0000 - val_loss: 34801053696.0000\n",
            "Epoch 5/100\n",
            "790/790 [==============================] - 2s 2ms/step - loss: 36838633472.0000 - val_loss: 35122696192.0000\n",
            "Epoch 6/100\n",
            "790/790 [==============================] - 2s 2ms/step - loss: 36566654976.0000 - val_loss: 33994422272.0000\n",
            "Epoch 7/100\n",
            "790/790 [==============================] - 2s 2ms/step - loss: 36079702016.0000 - val_loss: 33767215104.0000\n",
            "Epoch 8/100\n",
            "790/790 [==============================] - 2s 2ms/step - loss: 35878629376.0000 - val_loss: 35837341696.0000\n",
            "Epoch 9/100\n",
            "790/790 [==============================] - 2s 2ms/step - loss: 35282575360.0000 - val_loss: 33918887936.0000\n",
            "Epoch 10/100\n",
            "790/790 [==============================] - 2s 2ms/step - loss: 35367796736.0000 - val_loss: 33374304256.0000\n",
            "Epoch 11/100\n",
            "790/790 [==============================] - 2s 2ms/step - loss: 35079364608.0000 - val_loss: 32948000768.0000\n",
            "Epoch 12/100\n",
            "790/790 [==============================] - 2s 2ms/step - loss: 34665324544.0000 - val_loss: 32851718144.0000\n",
            "Epoch 13/100\n",
            "790/790 [==============================] - 2s 2ms/step - loss: 34410655744.0000 - val_loss: 32564555776.0000\n",
            "Epoch 14/100\n",
            "790/790 [==============================] - 2s 2ms/step - loss: 34348290048.0000 - val_loss: 32364107776.0000\n",
            "Epoch 15/100\n",
            "790/790 [==============================] - 2s 2ms/step - loss: 34153334784.0000 - val_loss: 33143449600.0000\n",
            "Epoch 16/100\n",
            "790/790 [==============================] - 2s 2ms/step - loss: 33422462976.0000 - val_loss: 32192362496.0000\n",
            "Epoch 17/100\n",
            "790/790 [==============================] - 2s 2ms/step - loss: 33602787328.0000 - val_loss: 32131821568.0000\n",
            "Epoch 18/100\n",
            "790/790 [==============================] - 2s 2ms/step - loss: 33662900224.0000 - val_loss: 32052572160.0000\n",
            "Epoch 19/100\n",
            "790/790 [==============================] - 2s 2ms/step - loss: 33102098432.0000 - val_loss: 32151525376.0000\n",
            "Epoch 20/100\n",
            "790/790 [==============================] - 2s 2ms/step - loss: 32877817856.0000 - val_loss: 31805718528.0000\n",
            "Epoch 21/100\n",
            "790/790 [==============================] - 2s 2ms/step - loss: 32644444160.0000 - val_loss: 31724156928.0000\n",
            "Epoch 22/100\n",
            "790/790 [==============================] - 2s 2ms/step - loss: 32436082688.0000 - val_loss: 31630321664.0000\n",
            "Epoch 23/100\n",
            "790/790 [==============================] - 2s 2ms/step - loss: 32337463296.0000 - val_loss: 32015667200.0000\n",
            "Epoch 24/100\n",
            "790/790 [==============================] - 2s 2ms/step - loss: 32307226624.0000 - val_loss: 32043655168.0000\n",
            "Epoch 25/100\n",
            "790/790 [==============================] - 2s 2ms/step - loss: 32344057856.0000 - val_loss: 31899195392.0000\n",
            "Epoch 26/100\n",
            "790/790 [==============================] - 2s 2ms/step - loss: 31728031744.0000 - val_loss: 31427905536.0000\n",
            "Epoch 27/100\n",
            "790/790 [==============================] - 2s 3ms/step - loss: 31592411136.0000 - val_loss: 34759233536.0000\n",
            "Epoch 28/100\n",
            "790/790 [==============================] - 2s 2ms/step - loss: 31519363072.0000 - val_loss: 31926820864.0000\n",
            "Epoch 29/100\n",
            "790/790 [==============================] - 2s 2ms/step - loss: 31087562752.0000 - val_loss: 32839473152.0000\n",
            "Epoch 30/100\n",
            "790/790 [==============================] - 2s 2ms/step - loss: 31217901568.0000 - val_loss: 31589795840.0000\n",
            "Epoch 31/100\n",
            "790/790 [==============================] - 2s 2ms/step - loss: 31146149888.0000 - val_loss: 32454144000.0000\n",
            "Epoch 32/100\n",
            "790/790 [==============================] - 2s 2ms/step - loss: 31113338880.0000 - val_loss: 31541180416.0000\n",
            "Epoch 33/100\n",
            "790/790 [==============================] - 2s 2ms/step - loss: 30695733248.0000 - val_loss: 31344023552.0000\n",
            "Epoch 34/100\n",
            "790/790 [==============================] - 2s 2ms/step - loss: 30561155072.0000 - val_loss: 31198330880.0000\n",
            "Epoch 35/100\n",
            "790/790 [==============================] - 2s 2ms/step - loss: 30441803776.0000 - val_loss: 30957600768.0000\n",
            "Epoch 36/100\n",
            "790/790 [==============================] - 2s 2ms/step - loss: 30603716608.0000 - val_loss: 30739947520.0000\n",
            "Epoch 37/100\n",
            "790/790 [==============================] - 2s 2ms/step - loss: 30503424000.0000 - val_loss: 31055273984.0000\n",
            "Epoch 38/100\n",
            "790/790 [==============================] - 2s 2ms/step - loss: 30313316352.0000 - val_loss: 31336845312.0000\n",
            "Epoch 39/100\n",
            "790/790 [==============================] - 2s 2ms/step - loss: 29975171072.0000 - val_loss: 34374787072.0000\n",
            "Epoch 40/100\n",
            "790/790 [==============================] - 2s 2ms/step - loss: 29989695488.0000 - val_loss: 31804977152.0000\n",
            "Epoch 41/100\n",
            "790/790 [==============================] - 2s 2ms/step - loss: 29948332032.0000 - val_loss: 30565296128.0000\n",
            "Epoch 42/100\n",
            "790/790 [==============================] - 2s 2ms/step - loss: 29906747392.0000 - val_loss: 30726606848.0000\n",
            "Epoch 43/100\n",
            "790/790 [==============================] - 2s 2ms/step - loss: 29638471680.0000 - val_loss: 31259867136.0000\n",
            "Epoch 44/100\n",
            "790/790 [==============================] - 2s 2ms/step - loss: 29702379520.0000 - val_loss: 30538799104.0000\n",
            "Epoch 45/100\n",
            "790/790 [==============================] - 2s 2ms/step - loss: 29048647680.0000 - val_loss: 30607685632.0000\n",
            "Epoch 46/100\n",
            "790/790 [==============================] - 2s 2ms/step - loss: 29052067840.0000 - val_loss: 33864357888.0000\n",
            "Epoch 47/100\n",
            "790/790 [==============================] - 2s 2ms/step - loss: 29029134336.0000 - val_loss: 32996487168.0000\n",
            "Epoch 48/100\n",
            "790/790 [==============================] - 2s 2ms/step - loss: 28881035264.0000 - val_loss: 30074908672.0000\n",
            "Epoch 49/100\n",
            "790/790 [==============================] - 2s 2ms/step - loss: 28917948416.0000 - val_loss: 30068234240.0000\n",
            "Epoch 50/100\n",
            "790/790 [==============================] - 2s 2ms/step - loss: 28633980928.0000 - val_loss: 29816547328.0000\n",
            "Epoch 51/100\n",
            "790/790 [==============================] - 2s 2ms/step - loss: 28703631360.0000 - val_loss: 30789017600.0000\n",
            "Epoch 52/100\n",
            "790/790 [==============================] - 2s 2ms/step - loss: 28601452544.0000 - val_loss: 33016408064.0000\n",
            "Epoch 53/100\n",
            "790/790 [==============================] - 2s 2ms/step - loss: 28557293568.0000 - val_loss: 30072377344.0000\n",
            "Epoch 54/100\n",
            "790/790 [==============================] - 2s 2ms/step - loss: 28515946496.0000 - val_loss: 30747705344.0000\n",
            "Epoch 55/100\n",
            "790/790 [==============================] - 2s 2ms/step - loss: 28546879488.0000 - val_loss: 30264543232.0000\n",
            "Epoch 56/100\n",
            "790/790 [==============================] - 2s 2ms/step - loss: 28473600000.0000 - val_loss: 36574248960.0000\n",
            "Epoch 57/100\n",
            "790/790 [==============================] - 2s 2ms/step - loss: 28483110912.0000 - val_loss: 31996606464.0000\n",
            "Epoch 58/100\n",
            "790/790 [==============================] - 2s 2ms/step - loss: 28277729280.0000 - val_loss: 30218637312.0000\n",
            "Epoch 59/100\n",
            "790/790 [==============================] - 2s 2ms/step - loss: 28386590720.0000 - val_loss: 30428725248.0000\n",
            "Epoch 60/100\n",
            "790/790 [==============================] - 2s 2ms/step - loss: 28426457088.0000 - val_loss: 31331108864.0000\n",
            "Epoch 61/100\n",
            "790/790 [==============================] - 2s 2ms/step - loss: 28333551616.0000 - val_loss: 30540961792.0000\n",
            "Epoch 62/100\n",
            "790/790 [==============================] - 2s 2ms/step - loss: 27889268736.0000 - val_loss: 34301573120.0000\n",
            "Epoch 63/100\n",
            "790/790 [==============================] - 2s 2ms/step - loss: 27883716608.0000 - val_loss: 31473805312.0000\n",
            "Epoch 64/100\n",
            "790/790 [==============================] - 2s 2ms/step - loss: 28227172352.0000 - val_loss: 30133547008.0000\n",
            "Epoch 65/100\n",
            "790/790 [==============================] - 2s 2ms/step - loss: 27932651520.0000 - val_loss: 31656321024.0000\n",
            "Epoch 66/100\n",
            "790/790 [==============================] - 2s 2ms/step - loss: 27841345536.0000 - val_loss: 29357096960.0000\n",
            "Epoch 67/100\n",
            "790/790 [==============================] - 2s 2ms/step - loss: 26703116288.0000 - val_loss: 28766027776.0000\n",
            "Epoch 68/100\n",
            "790/790 [==============================] - 2s 2ms/step - loss: 25215391744.0000 - val_loss: 27673509888.0000\n",
            "Epoch 69/100\n",
            "790/790 [==============================] - 2s 2ms/step - loss: 23971500032.0000 - val_loss: 28698728448.0000\n",
            "Epoch 70/100\n",
            "790/790 [==============================] - 2s 2ms/step - loss: 23110385664.0000 - val_loss: 27240536064.0000\n",
            "Epoch 71/100\n",
            "790/790 [==============================] - 2s 2ms/step - loss: 22128760832.0000 - val_loss: 25108051968.0000\n",
            "Epoch 72/100\n",
            "790/790 [==============================] - 2s 2ms/step - loss: 21693792256.0000 - val_loss: 25232046080.0000\n",
            "Epoch 73/100\n",
            "790/790 [==============================] - 2s 2ms/step - loss: 21096132608.0000 - val_loss: 24389836800.0000\n",
            "Epoch 74/100\n",
            "790/790 [==============================] - 2s 2ms/step - loss: 20544374784.0000 - val_loss: 24131364864.0000\n",
            "Epoch 75/100\n",
            "790/790 [==============================] - 2s 2ms/step - loss: 20169949184.0000 - val_loss: 23445608448.0000\n",
            "Epoch 76/100\n",
            "790/790 [==============================] - 2s 2ms/step - loss: 19877459968.0000 - val_loss: 23379466240.0000\n",
            "Epoch 77/100\n",
            "790/790 [==============================] - 2s 2ms/step - loss: 19852068864.0000 - val_loss: 22861211648.0000\n",
            "Epoch 78/100\n",
            "790/790 [==============================] - 2s 2ms/step - loss: 19513593856.0000 - val_loss: 24662108160.0000\n",
            "Epoch 79/100\n",
            "790/790 [==============================] - 2s 2ms/step - loss: 19222923264.0000 - val_loss: 23241203712.0000\n",
            "Epoch 80/100\n",
            "790/790 [==============================] - 2s 2ms/step - loss: 19524786176.0000 - val_loss: 23681939456.0000\n",
            "Epoch 81/100\n",
            "790/790 [==============================] - 2s 2ms/step - loss: 19264292864.0000 - val_loss: 23215853568.0000\n",
            "Epoch 82/100\n",
            "790/790 [==============================] - 2s 2ms/step - loss: 18719666176.0000 - val_loss: 22435952640.0000\n",
            "Epoch 83/100\n",
            "790/790 [==============================] - 2s 2ms/step - loss: 18747744256.0000 - val_loss: 22771529728.0000\n",
            "Epoch 84/100\n",
            "790/790 [==============================] - 2s 2ms/step - loss: 18782470144.0000 - val_loss: 22652213248.0000\n",
            "Epoch 85/100\n",
            "790/790 [==============================] - 2s 2ms/step - loss: 18629599232.0000 - val_loss: 22859272192.0000\n",
            "Epoch 86/100\n",
            "790/790 [==============================] - 2s 2ms/step - loss: 18424768512.0000 - val_loss: 22847270912.0000\n",
            "Epoch 87/100\n",
            "790/790 [==============================] - 2s 2ms/step - loss: 18540761088.0000 - val_loss: 22081214464.0000\n",
            "Epoch 88/100\n",
            "790/790 [==============================] - 2s 2ms/step - loss: 18326394880.0000 - val_loss: 22565945344.0000\n",
            "Epoch 89/100\n",
            "790/790 [==============================] - 2s 3ms/step - loss: 18362775552.0000 - val_loss: 22584881152.0000\n",
            "Epoch 90/100\n",
            "790/790 [==============================] - 2s 2ms/step - loss: 18208704512.0000 - val_loss: 21927229440.0000\n",
            "Epoch 91/100\n",
            "790/790 [==============================] - 2s 2ms/step - loss: 18159638528.0000 - val_loss: 23270014976.0000\n",
            "Epoch 92/100\n",
            "790/790 [==============================] - 2s 2ms/step - loss: 18024534016.0000 - val_loss: 24564119552.0000\n",
            "Epoch 93/100\n",
            "790/790 [==============================] - 2s 2ms/step - loss: 18119043072.0000 - val_loss: 22597621760.0000\n",
            "Epoch 94/100\n",
            "790/790 [==============================] - 2s 2ms/step - loss: 17794447360.0000 - val_loss: 22468190208.0000\n",
            "Epoch 95/100\n",
            "790/790 [==============================] - 2s 2ms/step - loss: 17814095872.0000 - val_loss: 23182725120.0000\n",
            "Epoch 96/100\n",
            "790/790 [==============================] - 2s 2ms/step - loss: 17704392704.0000 - val_loss: 21570545664.0000\n",
            "Epoch 97/100\n",
            "790/790 [==============================] - 2s 2ms/step - loss: 17880883200.0000 - val_loss: 22492905472.0000\n",
            "Epoch 98/100\n",
            "790/790 [==============================] - 2s 2ms/step - loss: 17911738368.0000 - val_loss: 22614032384.0000\n",
            "Epoch 99/100\n",
            "790/790 [==============================] - 2s 2ms/step - loss: 17607069696.0000 - val_loss: 23045097472.0000\n",
            "Epoch 100/100\n",
            "790/790 [==============================] - 2s 2ms/step - loss: 17741451264.0000 - val_loss: 23500617728.0000\n",
            "MSE: 14683457746.865904\n",
            "MSE: 18596795171.251842\n",
            "r-squared score is 0.8365556417557664 values. RMSE is 4213\n"
          ]
        },
        {
          "output_type": "execute_result",
          "data": {
            "text/plain": [
              "Text(0, 0.5, 'Predicted Values')"
            ]
          },
          "metadata": {},
          "execution_count": 72
        },
        {
          "output_type": "display_data",
          "data": {
            "text/plain": [
              "<Figure size 432x288 with 1 Axes>"
            ],
            "image/png": "[encoded data removed]"
          },
          "metadata": {
            "needs_background": "light"
          }
        }
      ]
    },
    {
      "cell_type": "code",
      "source": [
        ""
      ],
      "metadata": {
        "id": "s9nde_S1JKxn"
      },
      "execution_count": null,
      "outputs": []
    }
  ],
  "metadata": {
    "colab": {
      "collapsed_sections": [],
      "name": "AI_Assignment2.ipynb",
      "provenance": []
    },
    "kernelspec": {
      "display_name": "Python 3",
      "name": "python3"
    },
    "language_info": {
      "name": "python"
    }
  },
  "nbformat": 4,
  "nbformat_minor": 0
}